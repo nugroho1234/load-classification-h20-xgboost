{
 "cells": [
  {
   "cell_type": "code",
   "execution_count": 1,
   "id": "05d40564",
   "metadata": {},
   "outputs": [
    {
     "name": "stderr",
     "output_type": "stream",
     "text": [
      "IProgress not found. Please update jupyter and ipywidgets. See https://ipywidgets.readthedocs.io/en/stable/user_install.html\n"
     ]
    }
   ],
   "source": [
    "#basic libraries\n",
    "import h2o\n",
    "import numpy as np\n",
    "import pandas as pd\n",
    "import re\n",
    "import joblib\n",
    "\n",
    "#helper function\n",
    "import helper\n",
    "\n",
    "#scikit-learn libraries\n",
    "from sklearn.preprocessing import StandardScaler\n",
    "from sklearn.model_selection import train_test_split\n",
    "from sklearn.metrics import precision_score, recall_score, roc_auc_score, f1_score, confusion_matrix\n",
    "from sklearn.model_selection import train_test_split, GridSearchCV\n",
    "from sklearn.impute import KNNImputer\n",
    "\n",
    "#h2o models and grid search\n",
    "from h2o.estimators.gbm import H2OGradientBoostingEstimator\n",
    "from h2o.estimators.deeplearning import H2ODeepLearningEstimator\n",
    "from h2o.grid.grid_search import H2OGridSearch\n",
    "\n",
    "#plotting libraries\n",
    "import matplotlib.pyplot as plt\n",
    "import seaborn as sns\n",
    "\n",
    "#XGBoost\n",
    "from xgboost import XGBClassifier\n",
    "\n",
    "#model explainability\n",
    "import shap\n",
    "\n",
    "%matplotlib inline"
   ]
  },
  {
   "cell_type": "markdown",
   "id": "3463cee5",
   "metadata": {},
   "source": [
    "# Feature engineering and feature selection\n",
    "After getting the base model scores on the previous notebook, I will try to improve those scores on this notebook. I will take feature engineering and feature selection approach to do this.\n",
    "\n",
    "The data that I'm going to use is the non_standardized_data.csv from the previous 2 notebooks since I don't want standardized values yet for these models. Instead, I will create the features first, select relevant features, and then standardize those features."
   ]
  },
  {
   "cell_type": "code",
   "execution_count": 2,
   "id": "bda6f3fe",
   "metadata": {},
   "outputs": [],
   "source": [
    "df = pd.read_csv('data/non_standardized_data.csv')"
   ]
  },
  {
   "cell_type": "code",
   "execution_count": 3,
   "id": "d91e439f",
   "metadata": {},
   "outputs": [
    {
     "data": {
      "text/html": [
       "<div>\n",
       "<style scoped>\n",
       "    .dataframe tbody tr th:only-of-type {\n",
       "        vertical-align: middle;\n",
       "    }\n",
       "\n",
       "    .dataframe tbody tr th {\n",
       "        vertical-align: top;\n",
       "    }\n",
       "\n",
       "    .dataframe thead th {\n",
       "        text-align: right;\n",
       "    }\n",
       "</style>\n",
       "<table border=\"1\" class=\"dataframe\">\n",
       "  <thead>\n",
       "    <tr style=\"text-align: right;\">\n",
       "      <th></th>\n",
       "      <th>loan_id</th>\n",
       "      <th>customer_id</th>\n",
       "      <th>loan_status</th>\n",
       "      <th>current_loan_amount</th>\n",
       "      <th>term</th>\n",
       "      <th>credit_score</th>\n",
       "      <th>years_in_current_job</th>\n",
       "      <th>home_ownership</th>\n",
       "      <th>annual_income</th>\n",
       "      <th>purpose</th>\n",
       "      <th>monthly_debt</th>\n",
       "      <th>years_of_credit_history</th>\n",
       "      <th>months_since_last_delinquent</th>\n",
       "      <th>number_of_open_accounts</th>\n",
       "      <th>number_of_credit_problems</th>\n",
       "      <th>current_credit_balance</th>\n",
       "      <th>maximum_open_credit</th>\n",
       "      <th>bankruptcies</th>\n",
       "      <th>tax_liens</th>\n",
       "    </tr>\n",
       "  </thead>\n",
       "  <tbody>\n",
       "    <tr>\n",
       "      <th>0</th>\n",
       "      <td>0000757f-a121-41ed-b17b-162e76647c1f</td>\n",
       "      <td>dde79588-12f0-4811-bab0-e2b07f633fcd</td>\n",
       "      <td>loan_given</td>\n",
       "      <td>11731.0</td>\n",
       "      <td>0</td>\n",
       "      <td>746.0</td>\n",
       "      <td>4.0</td>\n",
       "      <td>rent</td>\n",
       "      <td>50025.0</td>\n",
       "      <td>debt_consolidation</td>\n",
       "      <td>355.18</td>\n",
       "      <td>11.5</td>\n",
       "      <td>28.4</td>\n",
       "      <td>12</td>\n",
       "      <td>0</td>\n",
       "      <td>17391</td>\n",
       "      <td>37081.0</td>\n",
       "      <td>0.0</td>\n",
       "      <td>0.0</td>\n",
       "    </tr>\n",
       "    <tr>\n",
       "      <th>1</th>\n",
       "      <td>0000afa6-8902-4f8f-b870-25a8fdad0aeb</td>\n",
       "      <td>e49c1a82-a0f7-45e8-9f46-2f75c43f9fbc</td>\n",
       "      <td>loan_refused</td>\n",
       "      <td>24613.0</td>\n",
       "      <td>1</td>\n",
       "      <td>744.8</td>\n",
       "      <td>6.0</td>\n",
       "      <td>rent</td>\n",
       "      <td>95414.0</td>\n",
       "      <td>business_loan</td>\n",
       "      <td>542.29</td>\n",
       "      <td>17.6</td>\n",
       "      <td>73.0</td>\n",
       "      <td>7</td>\n",
       "      <td>0</td>\n",
       "      <td>14123</td>\n",
       "      <td>16954.0</td>\n",
       "      <td>0.0</td>\n",
       "      <td>0.0</td>\n",
       "    </tr>\n",
       "    <tr>\n",
       "      <th>2</th>\n",
       "      <td>00020fb0-6b8a-4b3a-8c72-9c4c847e8cb6</td>\n",
       "      <td>c9decd06-16f7-44c3-b007-8776f2a9233d</td>\n",
       "      <td>loan_given</td>\n",
       "      <td>19018.4</td>\n",
       "      <td>0</td>\n",
       "      <td>742.0</td>\n",
       "      <td>3.0</td>\n",
       "      <td>home_mortgage</td>\n",
       "      <td>64760.0</td>\n",
       "      <td>debt_consolidation</td>\n",
       "      <td>582.84</td>\n",
       "      <td>26.8</td>\n",
       "      <td>23.2</td>\n",
       "      <td>11</td>\n",
       "      <td>0</td>\n",
       "      <td>8880</td>\n",
       "      <td>22711.0</td>\n",
       "      <td>0.0</td>\n",
       "      <td>0.0</td>\n",
       "    </tr>\n",
       "    <tr>\n",
       "      <th>3</th>\n",
       "      <td>00045ecd-59e9-4752-ba0d-679ff71692b3</td>\n",
       "      <td>b7bce684-b4b0-4b29-af66-eae316bce573</td>\n",
       "      <td>loan_given</td>\n",
       "      <td>11863.0</td>\n",
       "      <td>0</td>\n",
       "      <td>734.0</td>\n",
       "      <td>10.0</td>\n",
       "      <td>own_home</td>\n",
       "      <td>69202.0</td>\n",
       "      <td>debt_consolidation</td>\n",
       "      <td>859.26</td>\n",
       "      <td>30.3</td>\n",
       "      <td>33.2</td>\n",
       "      <td>7</td>\n",
       "      <td>0</td>\n",
       "      <td>9959</td>\n",
       "      <td>16995.0</td>\n",
       "      <td>0.0</td>\n",
       "      <td>0.0</td>\n",
       "    </tr>\n",
       "    <tr>\n",
       "      <th>4</th>\n",
       "      <td>0004f37b-5859-40f6-98d0-367aa3b3f3f1</td>\n",
       "      <td>f662b062-5fa5-463d-b5c0-4e36d09fcab1</td>\n",
       "      <td>loan_given</td>\n",
       "      <td>13719.0</td>\n",
       "      <td>0</td>\n",
       "      <td>724.0</td>\n",
       "      <td>1.0</td>\n",
       "      <td>own_home</td>\n",
       "      <td>34297.0</td>\n",
       "      <td>home_improvements</td>\n",
       "      <td>777.38</td>\n",
       "      <td>13.6</td>\n",
       "      <td>2.0</td>\n",
       "      <td>12</td>\n",
       "      <td>0</td>\n",
       "      <td>6720</td>\n",
       "      <td>53335.0</td>\n",
       "      <td>0.0</td>\n",
       "      <td>0.0</td>\n",
       "    </tr>\n",
       "  </tbody>\n",
       "</table>\n",
       "</div>"
      ],
      "text/plain": [
       "                                loan_id                           customer_id  \\\n",
       "0  0000757f-a121-41ed-b17b-162e76647c1f  dde79588-12f0-4811-bab0-e2b07f633fcd   \n",
       "1  0000afa6-8902-4f8f-b870-25a8fdad0aeb  e49c1a82-a0f7-45e8-9f46-2f75c43f9fbc   \n",
       "2  00020fb0-6b8a-4b3a-8c72-9c4c847e8cb6  c9decd06-16f7-44c3-b007-8776f2a9233d   \n",
       "3  00045ecd-59e9-4752-ba0d-679ff71692b3  b7bce684-b4b0-4b29-af66-eae316bce573   \n",
       "4  0004f37b-5859-40f6-98d0-367aa3b3f3f1  f662b062-5fa5-463d-b5c0-4e36d09fcab1   \n",
       "\n",
       "    loan_status  current_loan_amount  term  credit_score  \\\n",
       "0    loan_given              11731.0     0         746.0   \n",
       "1  loan_refused              24613.0     1         744.8   \n",
       "2    loan_given              19018.4     0         742.0   \n",
       "3    loan_given              11863.0     0         734.0   \n",
       "4    loan_given              13719.0     0         724.0   \n",
       "\n",
       "   years_in_current_job home_ownership  annual_income             purpose  \\\n",
       "0                   4.0           rent        50025.0  debt_consolidation   \n",
       "1                   6.0           rent        95414.0       business_loan   \n",
       "2                   3.0  home_mortgage        64760.0  debt_consolidation   \n",
       "3                  10.0       own_home        69202.0  debt_consolidation   \n",
       "4                   1.0       own_home        34297.0   home_improvements   \n",
       "\n",
       "   monthly_debt  years_of_credit_history  months_since_last_delinquent  \\\n",
       "0        355.18                     11.5                          28.4   \n",
       "1        542.29                     17.6                          73.0   \n",
       "2        582.84                     26.8                          23.2   \n",
       "3        859.26                     30.3                          33.2   \n",
       "4        777.38                     13.6                           2.0   \n",
       "\n",
       "   number_of_open_accounts  number_of_credit_problems  current_credit_balance  \\\n",
       "0                       12                          0                   17391   \n",
       "1                        7                          0                   14123   \n",
       "2                       11                          0                    8880   \n",
       "3                        7                          0                    9959   \n",
       "4                       12                          0                    6720   \n",
       "\n",
       "   maximum_open_credit  bankruptcies  tax_liens  \n",
       "0              37081.0           0.0        0.0  \n",
       "1              16954.0           0.0        0.0  \n",
       "2              22711.0           0.0        0.0  \n",
       "3              16995.0           0.0        0.0  \n",
       "4              53335.0           0.0        0.0  "
      ]
     },
     "execution_count": 3,
     "metadata": {},
     "output_type": "execute_result"
    }
   ],
   "source": [
    "df.head()"
   ]
  },
  {
   "cell_type": "code",
   "execution_count": 4,
   "id": "ff63fd12",
   "metadata": {},
   "outputs": [],
   "source": [
    "df.drop(['loan_id', 'customer_id'], axis = 1, inplace = True)"
   ]
  },
  {
   "cell_type": "code",
   "execution_count": 5,
   "id": "6df9b8af",
   "metadata": {},
   "outputs": [
    {
     "data": {
      "text/plain": [
       "purpose\n",
       "debt_consolidation      70446\n",
       "other                    7767\n",
       "home_improvements        5205\n",
       "business_loan            1328\n",
       "buy_a_car                1196\n",
       "medical_bills             955\n",
       "buy_house                 559\n",
       "take_a_trip               454\n",
       "major_purchase            344\n",
       "small_business            248\n",
       "moving                    124\n",
       "wedding                    99\n",
       "educational_expenses       92\n",
       "vacation                   82\n",
       "renewable_energy            9\n",
       "Name: count, dtype: int64"
      ]
     },
     "execution_count": 5,
     "metadata": {},
     "output_type": "execute_result"
    }
   ],
   "source": [
    "df.purpose.value_counts()"
   ]
  },
  {
   "cell_type": "markdown",
   "id": "affbbc03",
   "metadata": {},
   "source": [
    "1. Debt consolidation\n",
    "2. Business loans\n",
    "3. Personal loans\n",
    "4. Other\n",
    "\n",
    "Now that I've done a basic data preprocessing, I will start to engineer some features from the dataset. \n",
    "\n",
    "\n",
    "## First experiment: Eliminating multicolinearity problems.\n",
    "My approach in engineering these features for the first experiment is by eliminating the multicolinearity problems found in the 2nd notebook, and simplifying some columns. By doing those, I hope that I can increase the model performances and eventually select the best model to make the predictions.  \n",
    "\n",
    "Below is the outline of what I'm going to do during this phase:\n",
    "1. Simplify the purpose column. Judging from the feature importances from the previous notebook, the values in this column doesn't add much to the models' prediction power. It might be because there are too many unique values in it. Therefore, I will map these values into debt consolidation, business loans, personal loans, and other. \n",
    "2. Create debt_equity_ratio. This feature is derived from dividing monthly debt and annual income. This is because I don't have the net worth/equity data for each of the applicants, so the annual income becomes the proxy of equity. Also, although the correlation between these 2 variables is not greater than 0.5, it came quite close (0.47). \n",
    "3. Create credit_utilization_ratio column. This feature represents the percentage of a person's available credit that they are currently using. The values will be calculated by dividing current_credit_balance with maximum_open_credit. A high credit utilization ratio indicates that borrowers use most of their available credit and thus indicates high financial stress. This will also solve the high correlation between these 2 variables.\n",
    "4. Simplify months_since_last_delinquent and years_in_current_job columns into is_months_delinquent missing which indicates whether a borrower were late in repaying the debt, and has_stable_job which indicates whether a borrower has a stable job or not judging by how many years the borrower has been working in the current company.\n",
    "\n",
    "### Dealing with purpose column"
   ]
  },
  {
   "cell_type": "code",
   "execution_count": 6,
   "id": "169f3726",
   "metadata": {},
   "outputs": [
    {
     "data": {
      "text/plain": [
       "purpose\n",
       "debt_consolidation    70446\n",
       "personal_loans         9119\n",
       "other                  7767\n",
       "business_loans         1576\n",
       "Name: count, dtype: int64"
      ]
     },
     "execution_count": 6,
     "metadata": {},
     "output_type": "execute_result"
    }
   ],
   "source": [
    "purpose_mapping = {\n",
    "    'debt_consolidation': 'debt_consolidation',\n",
    "    'business_loan': 'business_loans',\n",
    "    'small_business': 'business_loans',\n",
    "    'other': 'other',\n",
    "    'home_improvements': 'personal_loans',\n",
    "    'buy_a_car': 'personal_loans',\n",
    "    'medical_bills': 'personal_loans',\n",
    "    'buy_house': 'personal_loans',\n",
    "    'take_a_trip': 'personal_loans',\n",
    "    'major_purchase': 'personal_loans',\n",
    "    'moving': 'personal_loans',\n",
    "    'wedding': 'personal_loans',\n",
    "    'educational_expenses': 'personal_loans',\n",
    "    'vacation': 'personal_loans',\n",
    "    'renewable_energy': 'personal_loans',\n",
    "}\n",
    "\n",
    "df.replace({\"purpose\": purpose_mapping}, inplace=True)\n",
    "\n",
    "df.purpose.value_counts()"
   ]
  },
  {
   "cell_type": "code",
   "execution_count": 7,
   "id": "1ead4b77",
   "metadata": {},
   "outputs": [
    {
     "data": {
      "text/html": [
       "<div>\n",
       "<style scoped>\n",
       "    .dataframe tbody tr th:only-of-type {\n",
       "        vertical-align: middle;\n",
       "    }\n",
       "\n",
       "    .dataframe tbody tr th {\n",
       "        vertical-align: top;\n",
       "    }\n",
       "\n",
       "    .dataframe thead th {\n",
       "        text-align: right;\n",
       "    }\n",
       "</style>\n",
       "<table border=\"1\" class=\"dataframe\">\n",
       "  <thead>\n",
       "    <tr style=\"text-align: right;\">\n",
       "      <th></th>\n",
       "      <th>loan_status</th>\n",
       "      <th>current_loan_amount</th>\n",
       "      <th>term</th>\n",
       "      <th>credit_score</th>\n",
       "      <th>years_in_current_job</th>\n",
       "      <th>home_ownership</th>\n",
       "      <th>annual_income</th>\n",
       "      <th>purpose</th>\n",
       "      <th>monthly_debt</th>\n",
       "      <th>years_of_credit_history</th>\n",
       "      <th>months_since_last_delinquent</th>\n",
       "      <th>number_of_open_accounts</th>\n",
       "      <th>number_of_credit_problems</th>\n",
       "      <th>current_credit_balance</th>\n",
       "      <th>maximum_open_credit</th>\n",
       "      <th>bankruptcies</th>\n",
       "      <th>tax_liens</th>\n",
       "    </tr>\n",
       "  </thead>\n",
       "  <tbody>\n",
       "    <tr>\n",
       "      <th>0</th>\n",
       "      <td>loan_given</td>\n",
       "      <td>11731.0</td>\n",
       "      <td>0</td>\n",
       "      <td>746.0</td>\n",
       "      <td>4.0</td>\n",
       "      <td>rent</td>\n",
       "      <td>50025.0</td>\n",
       "      <td>debt_consolidation</td>\n",
       "      <td>355.18</td>\n",
       "      <td>11.5</td>\n",
       "      <td>28.4</td>\n",
       "      <td>12</td>\n",
       "      <td>0</td>\n",
       "      <td>17391</td>\n",
       "      <td>37081.0</td>\n",
       "      <td>0.0</td>\n",
       "      <td>0.0</td>\n",
       "    </tr>\n",
       "    <tr>\n",
       "      <th>1</th>\n",
       "      <td>loan_refused</td>\n",
       "      <td>24613.0</td>\n",
       "      <td>1</td>\n",
       "      <td>744.8</td>\n",
       "      <td>6.0</td>\n",
       "      <td>rent</td>\n",
       "      <td>95414.0</td>\n",
       "      <td>business_loans</td>\n",
       "      <td>542.29</td>\n",
       "      <td>17.6</td>\n",
       "      <td>73.0</td>\n",
       "      <td>7</td>\n",
       "      <td>0</td>\n",
       "      <td>14123</td>\n",
       "      <td>16954.0</td>\n",
       "      <td>0.0</td>\n",
       "      <td>0.0</td>\n",
       "    </tr>\n",
       "    <tr>\n",
       "      <th>2</th>\n",
       "      <td>loan_given</td>\n",
       "      <td>19018.4</td>\n",
       "      <td>0</td>\n",
       "      <td>742.0</td>\n",
       "      <td>3.0</td>\n",
       "      <td>home_mortgage</td>\n",
       "      <td>64760.0</td>\n",
       "      <td>debt_consolidation</td>\n",
       "      <td>582.84</td>\n",
       "      <td>26.8</td>\n",
       "      <td>23.2</td>\n",
       "      <td>11</td>\n",
       "      <td>0</td>\n",
       "      <td>8880</td>\n",
       "      <td>22711.0</td>\n",
       "      <td>0.0</td>\n",
       "      <td>0.0</td>\n",
       "    </tr>\n",
       "    <tr>\n",
       "      <th>3</th>\n",
       "      <td>loan_given</td>\n",
       "      <td>11863.0</td>\n",
       "      <td>0</td>\n",
       "      <td>734.0</td>\n",
       "      <td>10.0</td>\n",
       "      <td>own_home</td>\n",
       "      <td>69202.0</td>\n",
       "      <td>debt_consolidation</td>\n",
       "      <td>859.26</td>\n",
       "      <td>30.3</td>\n",
       "      <td>33.2</td>\n",
       "      <td>7</td>\n",
       "      <td>0</td>\n",
       "      <td>9959</td>\n",
       "      <td>16995.0</td>\n",
       "      <td>0.0</td>\n",
       "      <td>0.0</td>\n",
       "    </tr>\n",
       "    <tr>\n",
       "      <th>4</th>\n",
       "      <td>loan_given</td>\n",
       "      <td>13719.0</td>\n",
       "      <td>0</td>\n",
       "      <td>724.0</td>\n",
       "      <td>1.0</td>\n",
       "      <td>own_home</td>\n",
       "      <td>34297.0</td>\n",
       "      <td>personal_loans</td>\n",
       "      <td>777.38</td>\n",
       "      <td>13.6</td>\n",
       "      <td>2.0</td>\n",
       "      <td>12</td>\n",
       "      <td>0</td>\n",
       "      <td>6720</td>\n",
       "      <td>53335.0</td>\n",
       "      <td>0.0</td>\n",
       "      <td>0.0</td>\n",
       "    </tr>\n",
       "  </tbody>\n",
       "</table>\n",
       "</div>"
      ],
      "text/plain": [
       "    loan_status  current_loan_amount  term  credit_score  \\\n",
       "0    loan_given              11731.0     0         746.0   \n",
       "1  loan_refused              24613.0     1         744.8   \n",
       "2    loan_given              19018.4     0         742.0   \n",
       "3    loan_given              11863.0     0         734.0   \n",
       "4    loan_given              13719.0     0         724.0   \n",
       "\n",
       "   years_in_current_job home_ownership  annual_income             purpose  \\\n",
       "0                   4.0           rent        50025.0  debt_consolidation   \n",
       "1                   6.0           rent        95414.0      business_loans   \n",
       "2                   3.0  home_mortgage        64760.0  debt_consolidation   \n",
       "3                  10.0       own_home        69202.0  debt_consolidation   \n",
       "4                   1.0       own_home        34297.0      personal_loans   \n",
       "\n",
       "   monthly_debt  years_of_credit_history  months_since_last_delinquent  \\\n",
       "0        355.18                     11.5                          28.4   \n",
       "1        542.29                     17.6                          73.0   \n",
       "2        582.84                     26.8                          23.2   \n",
       "3        859.26                     30.3                          33.2   \n",
       "4        777.38                     13.6                           2.0   \n",
       "\n",
       "   number_of_open_accounts  number_of_credit_problems  current_credit_balance  \\\n",
       "0                       12                          0                   17391   \n",
       "1                        7                          0                   14123   \n",
       "2                       11                          0                    8880   \n",
       "3                        7                          0                    9959   \n",
       "4                       12                          0                    6720   \n",
       "\n",
       "   maximum_open_credit  bankruptcies  tax_liens  \n",
       "0              37081.0           0.0        0.0  \n",
       "1              16954.0           0.0        0.0  \n",
       "2              22711.0           0.0        0.0  \n",
       "3              16995.0           0.0        0.0  \n",
       "4              53335.0           0.0        0.0  "
      ]
     },
     "execution_count": 7,
     "metadata": {},
     "output_type": "execute_result"
    }
   ],
   "source": [
    "df.head()"
   ]
  },
  {
   "cell_type": "markdown",
   "id": "1a66d122",
   "metadata": {},
   "source": [
    "### Create new features\n",
    "After creating the new features, I will drop the columns used in creating them, and bankruptcies and tax_liens columns. I'm dropping these 2 columns because of their distributions (a lot more 0 than other values) and the multicolinearity problems caused by these columns."
   ]
  },
  {
   "cell_type": "code",
   "execution_count": 8,
   "id": "65331490",
   "metadata": {},
   "outputs": [],
   "source": [
    "df['debt_equity_ratio'] = df['monthly_debt'] / df['annual_income']\n",
    "df['credit_utilization_ratio'] = df['current_credit_balance'] / df['maximum_open_credit']\n",
    "df['is_months_delinquent_missing'] = df['months_since_last_delinquent'].isnull().astype(int)\n",
    "df['has_stable_job'] = (df['years_in_current_job'] > 2).astype(int)"
   ]
  },
  {
   "cell_type": "code",
   "execution_count": 9,
   "id": "bcbd4174",
   "metadata": {},
   "outputs": [],
   "source": [
    "#copy the dataframe into df_feature to use in the next experiment\n",
    "df_feature = df.copy()\n",
    "\n",
    "#dropping unnecessary columns\n",
    "df.drop(['bankruptcies', 'monthly_debt', 'annual_income', 'current_credit_balance', 'years_in_current_job', 'maximum_open_credit', 'months_since_last_delinquent', 'tax_liens'], axis = 1, inplace = True)"
   ]
  },
  {
   "cell_type": "code",
   "execution_count": 10,
   "id": "111559ac",
   "metadata": {},
   "outputs": [
    {
     "name": "stdout",
     "output_type": "stream",
     "text": [
      "<class 'pandas.core.frame.DataFrame'>\n",
      "RangeIndex: 88908 entries, 0 to 88907\n",
      "Data columns (total 13 columns):\n",
      " #   Column                        Non-Null Count  Dtype  \n",
      "---  ------                        --------------  -----  \n",
      " 0   loan_status                   88908 non-null  object \n",
      " 1   current_loan_amount           88908 non-null  float64\n",
      " 2   term                          88908 non-null  int64  \n",
      " 3   credit_score                  88908 non-null  float64\n",
      " 4   home_ownership                88908 non-null  object \n",
      " 5   purpose                       88908 non-null  object \n",
      " 6   years_of_credit_history       88908 non-null  float64\n",
      " 7   number_of_open_accounts       88908 non-null  int64  \n",
      " 8   number_of_credit_problems     88908 non-null  int64  \n",
      " 9   debt_equity_ratio             88908 non-null  float64\n",
      " 10  credit_utilization_ratio      88397 non-null  float64\n",
      " 11  is_months_delinquent_missing  88908 non-null  int32  \n",
      " 12  has_stable_job                88908 non-null  int32  \n",
      "dtypes: float64(5), int32(2), int64(3), object(3)\n",
      "memory usage: 8.1+ MB\n"
     ]
    }
   ],
   "source": [
    "df.info()"
   ]
  },
  {
   "cell_type": "code",
   "execution_count": 11,
   "id": "3e07e582",
   "metadata": {},
   "outputs": [
    {
     "data": {
      "text/plain": [
       "loan_status                       0\n",
       "current_loan_amount               0\n",
       "term                              0\n",
       "credit_score                      0\n",
       "home_ownership                    0\n",
       "purpose                           0\n",
       "years_of_credit_history           0\n",
       "number_of_open_accounts           0\n",
       "number_of_credit_problems         0\n",
       "debt_equity_ratio                 0\n",
       "credit_utilization_ratio        511\n",
       "is_months_delinquent_missing      0\n",
       "has_stable_job                    0\n",
       "dtype: int64"
      ]
     },
     "execution_count": 11,
     "metadata": {},
     "output_type": "execute_result"
    }
   ],
   "source": [
    "#checking for missing values\n",
    "df.isnull().sum()"
   ]
  },
  {
   "cell_type": "markdown",
   "id": "53559517",
   "metadata": {},
   "source": [
    "There are still some missing values in the credit_utilization_ratio, mostly because there are division by zero problems resulting in infinity values. I will impute the missing values using KNN Imputer, the same as the previous notebook. "
   ]
  },
  {
   "cell_type": "code",
   "execution_count": 12,
   "id": "7407fcb9",
   "metadata": {},
   "outputs": [
    {
     "data": {
      "text/plain": [
       "loan_status                     0\n",
       "current_loan_amount             0\n",
       "term                            0\n",
       "credit_score                    0\n",
       "home_ownership                  0\n",
       "purpose                         0\n",
       "years_of_credit_history         0\n",
       "number_of_open_accounts         0\n",
       "number_of_credit_problems       0\n",
       "debt_equity_ratio               0\n",
       "credit_utilization_ratio        0\n",
       "is_months_delinquent_missing    0\n",
       "has_stable_job                  0\n",
       "dtype: int64"
      ]
     },
     "execution_count": 12,
     "metadata": {},
     "output_type": "execute_result"
    }
   ],
   "source": [
    "#impute using KNNImputer\n",
    "imputer = KNNImputer(n_neighbors=5)\n",
    "column_names_to_impute = ['credit_utilization_ratio']\n",
    "df = df.replace([np.inf, -np.inf], np.nan).dropna(subset=column_names_to_impute)\n",
    "imputed = imputer.fit_transform(df[column_names_to_impute].values)\n",
    "\n",
    "joblib.dump(imputer, 'model/knn_imputer_model_no_multicol.pkl')\n",
    "\n",
    "data_temp = pd.DataFrame(imputed, columns=column_names_to_impute, index = df.index)\n",
    "df[column_names_to_impute] = data_temp\n",
    "\n",
    "#sanity checking\n",
    "df.isnull().sum()"
   ]
  },
  {
   "cell_type": "markdown",
   "id": "5391b198",
   "metadata": {},
   "source": [
    "Now that the missing values are imputed, I will create a correlation matrix heatmap to make sure that the multicolinearity problems are dealt with."
   ]
  },
  {
   "cell_type": "code",
   "execution_count": 13,
   "id": "d844b95f",
   "metadata": {},
   "outputs": [
    {
     "data": {
      "image/png": "[encoded data removed]",
      "text/plain": [
       "<Figure size 1000x800 with 2 Axes>"
      ]
     },
     "metadata": {},
     "output_type": "display_data"
    }
   ],
   "source": [
    "corr_matrix = df[['current_loan_amount', 'credit_score', 'years_of_credit_history', 'number_of_open_accounts', 'number_of_credit_problems', 'debt_equity_ratio', 'credit_utilization_ratio']].corr()\n",
    "plt.figure(figsize=(10, 8))\n",
    "sns.heatmap(corr_matrix, annot=True, cmap='coolwarm')\n",
    "plt.title(\"Correlation Heatmap\")\n",
    "plt.show();"
   ]
  },
  {
   "cell_type": "markdown",
   "id": "61fa03d6",
   "metadata": {},
   "source": [
    "There are no correlation values greater than 0.5, so it's safe to assume that multicolinearity is no longer a problem here. Next, I will do one-hot-encodings for \"purpose\" and \"home_ownership\" columns."
   ]
  },
  {
   "cell_type": "code",
   "execution_count": 14,
   "id": "2549e217",
   "metadata": {},
   "outputs": [],
   "source": [
    "#create dummies variable (one hot encode)\n",
    "dummies = pd.get_dummies(df['purpose'], prefix='purpose', drop_first = True)\n",
    "df[dummies.columns] = dummies\n",
    "\n",
    "dummies = pd.get_dummies(df['home_ownership'], prefix='home', drop_first = True)\n",
    "df[dummies.columns] = dummies\n",
    "\n",
    "df = df.drop([\"home_ownership\", \"purpose\"], axis=1)\n",
    "df = df.replace({True: 1, False: 0})"
   ]
  },
  {
   "cell_type": "code",
   "execution_count": 15,
   "id": "21f8a7bf",
   "metadata": {},
   "outputs": [
    {
     "name": "stdout",
     "output_type": "stream",
     "text": [
      "<class 'pandas.core.frame.DataFrame'>\n",
      "Index: 88298 entries, 0 to 88907\n",
      "Data columns (total 16 columns):\n",
      " #   Column                        Non-Null Count  Dtype  \n",
      "---  ------                        --------------  -----  \n",
      " 0   loan_status                   88298 non-null  object \n",
      " 1   current_loan_amount           88298 non-null  float64\n",
      " 2   term                          88298 non-null  int64  \n",
      " 3   credit_score                  88298 non-null  float64\n",
      " 4   years_of_credit_history       88298 non-null  float64\n",
      " 5   number_of_open_accounts       88298 non-null  int64  \n",
      " 6   number_of_credit_problems     88298 non-null  int64  \n",
      " 7   debt_equity_ratio             88298 non-null  float64\n",
      " 8   credit_utilization_ratio      88298 non-null  float64\n",
      " 9   is_months_delinquent_missing  88298 non-null  int32  \n",
      " 10  has_stable_job                88298 non-null  int32  \n",
      " 11  purpose_debt_consolidation    88298 non-null  int64  \n",
      " 12  purpose_other                 88298 non-null  int64  \n",
      " 13  purpose_personal_loans        88298 non-null  int64  \n",
      " 14  home_own_home                 88298 non-null  int64  \n",
      " 15  home_rent                     88298 non-null  int64  \n",
      "dtypes: float64(5), int32(2), int64(8), object(1)\n",
      "memory usage: 10.8+ MB\n"
     ]
    }
   ],
   "source": [
    "df.info()"
   ]
  },
  {
   "cell_type": "markdown",
   "id": "6ff21657",
   "metadata": {},
   "source": [
    "Next, I will continue with standardizing the numeric values for the dataset. I will not standardize the binary and ratio columns."
   ]
  },
  {
   "cell_type": "code",
   "execution_count": 16,
   "id": "fc053108",
   "metadata": {},
   "outputs": [],
   "source": [
    "cols_to_standardize = ['current_loan_amount', 'credit_score', 'years_of_credit_history', 'number_of_open_accounts', 'number_of_credit_problems']\n",
    "scaler = StandardScaler()\n",
    "data_scaled = scaler.fit_transform(df[cols_to_standardize].values)\n",
    "\n",
    "data_temp = pd.DataFrame(data_scaled, columns=cols_to_standardize, index = df.index)\n",
    "df[cols_to_standardize] = data_temp"
   ]
  },
  {
   "cell_type": "code",
   "execution_count": 17,
   "id": "7398171b",
   "metadata": {},
   "outputs": [
    {
     "data": {
      "text/plain": [
       "['model/scaler_no_multicol.pkl']"
      ]
     },
     "execution_count": 17,
     "metadata": {},
     "output_type": "execute_result"
    }
   ],
   "source": [
    "#save the scaler\n",
    "scaler_filename = 'model/scaler_no_multicol.pkl'\n",
    "joblib.dump(scaler, scaler_filename)"
   ]
  },
  {
   "cell_type": "markdown",
   "id": "8fc3d465",
   "metadata": {},
   "source": [
    "Now, the data is ready and I will continue with the model training phase."
   ]
  },
  {
   "cell_type": "code",
   "execution_count": 18,
   "id": "bb60add2",
   "metadata": {},
   "outputs": [],
   "source": [
    "df.to_csv('data/final_data_engineered.csv', index = False)"
   ]
  },
  {
   "cell_type": "markdown",
   "id": "0e023cc3",
   "metadata": {},
   "source": [
    "## Model Training\n",
    "After finishing the feature engineering, feature selection, and standardize the data, I will continue with model training. The steps are similar to the previous notebook. I saved all the training functions and metrics calculation functions in the file helper.py to make sure that the training phase in the experiment is exactly the same as the one in the baseline models creation. \n",
    "\n",
    "I will begin by initializing H2O, parsing the dataframe I used into H2O dataframe, assigning predictors and response columns, and splitting the data into train, test, and val."
   ]
  },
  {
   "cell_type": "code",
   "execution_count": 19,
   "id": "791f23f0",
   "metadata": {},
   "outputs": [
    {
     "name": "stdout",
     "output_type": "stream",
     "text": [
      "Checking whether there is an H2O instance running at http://localhost:54321..... not found.\n",
      "Attempting to start a local H2O server...\n",
      "; Java HotSpot(TM) 64-Bit Server VM (build 17.0.8+9-LTS-211, mixed mode, sharing)\n",
      "  Starting server from C:\\Users\\agust\\Anaconda3\\envs\\h2o_loan_classification\\Lib\\site-packages\\h2o\\backend\\bin\\h2o.jar\n",
      "  Ice root: C:\\Users\\agust\\AppData\\Local\\Temp\\tmph3prdt0b\n",
      "  JVM stdout: C:\\Users\\agust\\AppData\\Local\\Temp\\tmph3prdt0b\\h2o_agust_started_from_python.out\n",
      "  JVM stderr: C:\\Users\\agust\\AppData\\Local\\Temp\\tmph3prdt0b\\h2o_agust_started_from_python.err\n",
      "  Server is running at http://127.0.0.1:54321\n",
      "Connecting to H2O server at http://127.0.0.1:54321 ... successful.\n"
     ]
    },
    {
     "data": {
      "text/html": [
       "\n",
       "<style>\n",
       "\n",
       "#h2o-table-1.h2o-container {\n",
       "  overflow-x: auto;\n",
       "}\n",
       "#h2o-table-1 .h2o-table {\n",
       "  /* width: 100%; */\n",
       "  margin-top: 1em;\n",
       "  margin-bottom: 1em;\n",
       "}\n",
       "#h2o-table-1 .h2o-table caption {\n",
       "  white-space: nowrap;\n",
       "  caption-side: top;\n",
       "  text-align: left;\n",
       "  /* margin-left: 1em; */\n",
       "  margin: 0;\n",
       "  font-size: larger;\n",
       "}\n",
       "#h2o-table-1 .h2o-table thead {\n",
       "  white-space: nowrap; \n",
       "  position: sticky;\n",
       "  top: 0;\n",
       "  box-shadow: 0 -1px inset;\n",
       "}\n",
       "#h2o-table-1 .h2o-table tbody {\n",
       "  overflow: auto;\n",
       "}\n",
       "#h2o-table-1 .h2o-table th,\n",
       "#h2o-table-1 .h2o-table td {\n",
       "  text-align: right;\n",
       "  /* border: 1px solid; */\n",
       "}\n",
       "#h2o-table-1 .h2o-table tr:nth-child(even) {\n",
       "  /* background: #F5F5F5 */\n",
       "}\n",
       "\n",
       "</style>      \n",
       "<div id=\"h2o-table-1\" class=\"h2o-container\">\n",
       "  <table class=\"h2o-table\">\n",
       "    <caption></caption>\n",
       "    <thead></thead>\n",
       "    <tbody><tr><td>H2O_cluster_uptime:</td>\n",
       "<td>01 secs</td></tr>\n",
       "<tr><td>H2O_cluster_timezone:</td>\n",
       "<td>Asia/Jakarta</td></tr>\n",
       "<tr><td>H2O_data_parsing_timezone:</td>\n",
       "<td>UTC</td></tr>\n",
       "<tr><td>H2O_cluster_version:</td>\n",
       "<td>3.42.0.2</td></tr>\n",
       "<tr><td>H2O_cluster_version_age:</td>\n",
       "<td>1 month and 19 days</td></tr>\n",
       "<tr><td>H2O_cluster_name:</td>\n",
       "<td>H2O_from_python_agust_46vlwg</td></tr>\n",
       "<tr><td>H2O_cluster_total_nodes:</td>\n",
       "<td>1</td></tr>\n",
       "<tr><td>H2O_cluster_free_memory:</td>\n",
       "<td>3.854 Gb</td></tr>\n",
       "<tr><td>H2O_cluster_total_cores:</td>\n",
       "<td>16</td></tr>\n",
       "<tr><td>H2O_cluster_allowed_cores:</td>\n",
       "<td>16</td></tr>\n",
       "<tr><td>H2O_cluster_status:</td>\n",
       "<td>locked, healthy</td></tr>\n",
       "<tr><td>H2O_connection_url:</td>\n",
       "<td>http://127.0.0.1:54321</td></tr>\n",
       "<tr><td>H2O_connection_proxy:</td>\n",
       "<td>{\"http\": null, \"https\": null}</td></tr>\n",
       "<tr><td>H2O_internal_security:</td>\n",
       "<td>False</td></tr>\n",
       "<tr><td>Python_version:</td>\n",
       "<td>3.11.4 final</td></tr></tbody>\n",
       "  </table>\n",
       "</div>\n"
      ],
      "text/plain": [
       "--------------------------  -----------------------------\n",
       "H2O_cluster_uptime:         01 secs\n",
       "H2O_cluster_timezone:       Asia/Jakarta\n",
       "H2O_data_parsing_timezone:  UTC\n",
       "H2O_cluster_version:        3.42.0.2\n",
       "H2O_cluster_version_age:    1 month and 19 days\n",
       "H2O_cluster_name:           H2O_from_python_agust_46vlwg\n",
       "H2O_cluster_total_nodes:    1\n",
       "H2O_cluster_free_memory:    3.854 Gb\n",
       "H2O_cluster_total_cores:    16\n",
       "H2O_cluster_allowed_cores:  16\n",
       "H2O_cluster_status:         locked, healthy\n",
       "H2O_connection_url:         http://127.0.0.1:54321\n",
       "H2O_connection_proxy:       {\"http\": null, \"https\": null}\n",
       "H2O_internal_security:      False\n",
       "Python_version:             3.11.4 final\n",
       "--------------------------  -----------------------------"
      ]
     },
     "metadata": {},
     "output_type": "display_data"
    }
   ],
   "source": [
    "h2o.init()"
   ]
  },
  {
   "cell_type": "code",
   "execution_count": 20,
   "id": "2cfa9cfc",
   "metadata": {},
   "outputs": [
    {
     "name": "stdout",
     "output_type": "stream",
     "text": [
      "Parse progress: |████████████████████████████████████████████████████████████████| (done) 100%\n"
     ]
    }
   ],
   "source": [
    "#parsing the dataframe to H2O dataframe\n",
    "hf = h2o.H2OFrame(df)\n",
    "\n",
    "#separating predictors and response\n",
    "predictors = list(df.columns[1:])\n",
    "response = \"loan_status\""
   ]
  },
  {
   "cell_type": "code",
   "execution_count": 21,
   "id": "871cbada",
   "metadata": {},
   "outputs": [],
   "source": [
    "#create train, test, and validation dataset\n",
    "train_temp, test = hf.split_frame(ratios = [.8], seed = 42)\n",
    "train, val = train_temp.split_frame(ratios = [.8], seed = 42)"
   ]
  },
  {
   "cell_type": "markdown",
   "id": "b59309f6",
   "metadata": {},
   "source": [
    "### H2O Gradient Boosting Model\n",
    "The first model to train is the gradient boosting model. The hyperparameters to tune are the same as the previous notebook to make it a fair comparison. "
   ]
  },
  {
   "cell_type": "code",
   "execution_count": 22,
   "id": "1911ca1f",
   "metadata": {},
   "outputs": [
    {
     "name": "stdout",
     "output_type": "stream",
     "text": [
      "gbm Grid Build progress: |███████████████████████████████████████████████████████| (done) 100%\n"
     ]
    }
   ],
   "source": [
    "#hyperparameters to tune\n",
    "learn_rate = [0.01, 0.05, 0.1]\n",
    "max_depth = [5, 7, 9]\n",
    "ntrees = [300, 500, 700]\n",
    "sample_rate = [0.5, 0.8, 1.0]\n",
    "col_sample_rate = [0.25, 0.5, 1.0]\n",
    "\n",
    "#train the model\n",
    "best_gbm1, gbm_perf, gbm_gridperf1 = helper.train_gbm_h2o(predictors, response, train, test, val, learn_rate, max_depth, ntrees, sample_rate, col_sample_rate)"
   ]
  },
  {
   "cell_type": "code",
   "execution_count": 23,
   "id": "09fa4403",
   "metadata": {},
   "outputs": [
    {
     "data": {
      "text/html": [
       "\n",
       "<style>\n",
       "\n",
       "#h2o-table-2.h2o-container {\n",
       "  overflow-x: auto;\n",
       "}\n",
       "#h2o-table-2 .h2o-table {\n",
       "  /* width: 100%; */\n",
       "  margin-top: 1em;\n",
       "  margin-bottom: 1em;\n",
       "}\n",
       "#h2o-table-2 .h2o-table caption {\n",
       "  white-space: nowrap;\n",
       "  caption-side: top;\n",
       "  text-align: left;\n",
       "  /* margin-left: 1em; */\n",
       "  margin: 0;\n",
       "  font-size: larger;\n",
       "}\n",
       "#h2o-table-2 .h2o-table thead {\n",
       "  white-space: nowrap; \n",
       "  position: sticky;\n",
       "  top: 0;\n",
       "  box-shadow: 0 -1px inset;\n",
       "}\n",
       "#h2o-table-2 .h2o-table tbody {\n",
       "  overflow: auto;\n",
       "}\n",
       "#h2o-table-2 .h2o-table th,\n",
       "#h2o-table-2 .h2o-table td {\n",
       "  text-align: right;\n",
       "  /* border: 1px solid; */\n",
       "}\n",
       "#h2o-table-2 .h2o-table tr:nth-child(even) {\n",
       "  /* background: #F5F5F5 */\n",
       "}\n",
       "\n",
       "</style>      \n",
       "<div id=\"h2o-table-2\" class=\"h2o-container\">\n",
       "  <table class=\"h2o-table\">\n",
       "    <caption>Hyper-Parameter Search Summary: ordered by decreasing aucpr</caption>\n",
       "    <thead><tr><th></th>\n",
       "<th>col_sample_rate</th>\n",
       "<th>learn_rate</th>\n",
       "<th>max_depth</th>\n",
       "<th>ntrees</th>\n",
       "<th>sample_rate</th>\n",
       "<th>model_ids</th>\n",
       "<th>aucpr</th></tr></thead>\n",
       "    <tbody><tr><td></td>\n",
       "<td>1.0</td>\n",
       "<td>0.01</td>\n",
       "<td>7.0</td>\n",
       "<td>700.0</td>\n",
       "<td>0.8</td>\n",
       "<td>gbm_grid1_model_147</td>\n",
       "<td>0.4609114</td></tr>\n",
       "<tr><td></td>\n",
       "<td>1.0</td>\n",
       "<td>0.01</td>\n",
       "<td>7.0</td>\n",
       "<td>700.0</td>\n",
       "<td>0.5</td>\n",
       "<td>gbm_grid1_model_66</td>\n",
       "<td>0.4605907</td></tr>\n",
       "<tr><td></td>\n",
       "<td>1.0</td>\n",
       "<td>0.05</td>\n",
       "<td>5.0</td>\n",
       "<td>500.0</td>\n",
       "<td>0.8</td>\n",
       "<td>gbm_grid1_model_114</td>\n",
       "<td>0.4605097</td></tr>\n",
       "<tr><td></td>\n",
       "<td>1.0</td>\n",
       "<td>0.05</td>\n",
       "<td>5.0</td>\n",
       "<td>700.0</td>\n",
       "<td>0.8</td>\n",
       "<td>gbm_grid1_model_141</td>\n",
       "<td>0.4605097</td></tr>\n",
       "<tr><td></td>\n",
       "<td>1.0</td>\n",
       "<td>0.05</td>\n",
       "<td>5.0</td>\n",
       "<td>300.0</td>\n",
       "<td>0.8</td>\n",
       "<td>gbm_grid1_model_87</td>\n",
       "<td>0.4605097</td></tr>\n",
       "<tr><td></td>\n",
       "<td>1.0</td>\n",
       "<td>0.01</td>\n",
       "<td>7.0</td>\n",
       "<td>500.0</td>\n",
       "<td>0.8</td>\n",
       "<td>gbm_grid1_model_120</td>\n",
       "<td>0.4601493</td></tr>\n",
       "<tr><td></td>\n",
       "<td>0.5</td>\n",
       "<td>0.05</td>\n",
       "<td>5.0</td>\n",
       "<td>500.0</td>\n",
       "<td>0.8</td>\n",
       "<td>gbm_grid1_model_113</td>\n",
       "<td>0.4601478</td></tr>\n",
       "<tr><td></td>\n",
       "<td>0.5</td>\n",
       "<td>0.05</td>\n",
       "<td>5.0</td>\n",
       "<td>700.0</td>\n",
       "<td>0.8</td>\n",
       "<td>gbm_grid1_model_140</td>\n",
       "<td>0.4601478</td></tr>\n",
       "<tr><td></td>\n",
       "<td>0.5</td>\n",
       "<td>0.05</td>\n",
       "<td>5.0</td>\n",
       "<td>300.0</td>\n",
       "<td>1.0</td>\n",
       "<td>gbm_grid1_model_167</td>\n",
       "<td>0.4601291</td></tr>\n",
       "<tr><td></td>\n",
       "<td>0.5</td>\n",
       "<td>0.05</td>\n",
       "<td>5.0</td>\n",
       "<td>500.0</td>\n",
       "<td>1.0</td>\n",
       "<td>gbm_grid1_model_194</td>\n",
       "<td>0.4601291</td></tr>\n",
       "<tr><td>---</td>\n",
       "<td>---</td>\n",
       "<td>---</td>\n",
       "<td>---</td>\n",
       "<td>---</td>\n",
       "<td>---</td>\n",
       "<td>---</td>\n",
       "<td>---</td></tr>\n",
       "<tr><td></td>\n",
       "<td>0.5</td>\n",
       "<td>0.1</td>\n",
       "<td>7.0</td>\n",
       "<td>700.0</td>\n",
       "<td>0.5</td>\n",
       "<td>gbm_grid1_model_71</td>\n",
       "<td>0.4419447</td></tr>\n",
       "<tr><td></td>\n",
       "<td>0.5</td>\n",
       "<td>0.1</td>\n",
       "<td>9.0</td>\n",
       "<td>300.0</td>\n",
       "<td>0.5</td>\n",
       "<td>gbm_grid1_model_26</td>\n",
       "<td>0.4357498</td></tr>\n",
       "<tr><td></td>\n",
       "<td>0.5</td>\n",
       "<td>0.1</td>\n",
       "<td>9.0</td>\n",
       "<td>500.0</td>\n",
       "<td>0.5</td>\n",
       "<td>gbm_grid1_model_53</td>\n",
       "<td>0.4357498</td></tr>\n",
       "<tr><td></td>\n",
       "<td>0.5</td>\n",
       "<td>0.1</td>\n",
       "<td>9.0</td>\n",
       "<td>700.0</td>\n",
       "<td>0.5</td>\n",
       "<td>gbm_grid1_model_80</td>\n",
       "<td>0.4357498</td></tr>\n",
       "<tr><td></td>\n",
       "<td>1.0</td>\n",
       "<td>0.1</td>\n",
       "<td>9.0</td>\n",
       "<td>300.0</td>\n",
       "<td>0.5</td>\n",
       "<td>gbm_grid1_model_27</td>\n",
       "<td>0.4334335</td></tr>\n",
       "<tr><td></td>\n",
       "<td>1.0</td>\n",
       "<td>0.1</td>\n",
       "<td>9.0</td>\n",
       "<td>500.0</td>\n",
       "<td>0.5</td>\n",
       "<td>gbm_grid1_model_54</td>\n",
       "<td>0.4334335</td></tr>\n",
       "<tr><td></td>\n",
       "<td>1.0</td>\n",
       "<td>0.1</td>\n",
       "<td>9.0</td>\n",
       "<td>700.0</td>\n",
       "<td>0.5</td>\n",
       "<td>gbm_grid1_model_81</td>\n",
       "<td>0.4334335</td></tr>\n",
       "<tr><td></td>\n",
       "<td>0.25</td>\n",
       "<td>0.1</td>\n",
       "<td>9.0</td>\n",
       "<td>300.0</td>\n",
       "<td>0.5</td>\n",
       "<td>gbm_grid1_model_25</td>\n",
       "<td>0.4323044</td></tr>\n",
       "<tr><td></td>\n",
       "<td>0.25</td>\n",
       "<td>0.1</td>\n",
       "<td>9.0</td>\n",
       "<td>500.0</td>\n",
       "<td>0.5</td>\n",
       "<td>gbm_grid1_model_52</td>\n",
       "<td>0.4298362</td></tr>\n",
       "<tr><td></td>\n",
       "<td>0.25</td>\n",
       "<td>0.1</td>\n",
       "<td>9.0</td>\n",
       "<td>700.0</td>\n",
       "<td>0.5</td>\n",
       "<td>gbm_grid1_model_79</td>\n",
       "<td>0.4298362</td></tr></tbody>\n",
       "  </table>\n",
       "</div>\n",
       "<pre style='font-size: smaller; margin-bottom: 1em;'>[243 rows x 8 columns]</pre>"
      ],
      "text/plain": [
       "Hyper-Parameter Search Summary: ordered by decreasing aucpr\n",
       "     col_sample_rate    learn_rate    max_depth    ntrees    sample_rate    model_ids            aucpr\n",
       "---  -----------------  ------------  -----------  --------  -------------  -------------------  -------------------\n",
       "     1.0                0.01          7.0          700.0     0.8            gbm_grid1_model_147  0.46091143613071706\n",
       "     1.0                0.01          7.0          700.0     0.5            gbm_grid1_model_66   0.46059072014531327\n",
       "     1.0                0.05          5.0          500.0     0.8            gbm_grid1_model_114  0.4605097150849018\n",
       "     1.0                0.05          5.0          700.0     0.8            gbm_grid1_model_141  0.4605097150849018\n",
       "     1.0                0.05          5.0          300.0     0.8            gbm_grid1_model_87   0.4605097150849018\n",
       "     1.0                0.01          7.0          500.0     0.8            gbm_grid1_model_120  0.4601493369725937\n",
       "     0.5                0.05          5.0          500.0     0.8            gbm_grid1_model_113  0.4601478270440079\n",
       "     0.5                0.05          5.0          700.0     0.8            gbm_grid1_model_140  0.4601478270440079\n",
       "     0.5                0.05          5.0          300.0     1.0            gbm_grid1_model_167  0.460129112305337\n",
       "     0.5                0.05          5.0          500.0     1.0            gbm_grid1_model_194  0.460129112305337\n",
       "---  ---                ---           ---          ---       ---            ---                  ---\n",
       "     0.5                0.1           7.0          700.0     0.5            gbm_grid1_model_71   0.44194474084156776\n",
       "     0.5                0.1           9.0          300.0     0.5            gbm_grid1_model_26   0.43574976160328455\n",
       "     0.5                0.1           9.0          500.0     0.5            gbm_grid1_model_53   0.43574976160328455\n",
       "     0.5                0.1           9.0          700.0     0.5            gbm_grid1_model_80   0.43574976160328455\n",
       "     1.0                0.1           9.0          300.0     0.5            gbm_grid1_model_27   0.4334335378648233\n",
       "     1.0                0.1           9.0          500.0     0.5            gbm_grid1_model_54   0.4334335378648233\n",
       "     1.0                0.1           9.0          700.0     0.5            gbm_grid1_model_81   0.4334335378648233\n",
       "     0.25               0.1           9.0          300.0     0.5            gbm_grid1_model_25   0.4323044151693196\n",
       "     0.25               0.1           9.0          500.0     0.5            gbm_grid1_model_52   0.42983623139450416\n",
       "     0.25               0.1           9.0          700.0     0.5            gbm_grid1_model_79   0.42983623139450416\n",
       "[243 rows x 8 columns]\n"
      ]
     },
     "execution_count": 23,
     "metadata": {},
     "output_type": "execute_result"
    }
   ],
   "source": [
    "gbm_gridperf1"
   ]
  },
  {
   "cell_type": "code",
   "execution_count": 24,
   "id": "cb5a55b5",
   "metadata": {},
   "outputs": [
    {
     "name": "stdout",
     "output_type": "stream",
     "text": [
      "ModelMetricsBinomial: gbm\n",
      "** Reported on test data. **\n",
      "\n",
      "MSE: 0.18538822861257695\n",
      "RMSE: 0.43056733342483955\n",
      "LogLoss: 0.5518808406349871\n",
      "Mean Per-Class Error: 0.3838995824700379\n",
      "AUC: 0.6759952759884089\n",
      "AUCPR: 0.46548395191547687\n",
      "Gini: 0.35199055197681783\n",
      "\n",
      "Confusion Matrix (Act/Pred) for max f1 @ threshold = 0.23015043760183435\n",
      "              loan_given    loan_refused    Error    Rate\n",
      "------------  ------------  --------------  -------  ----------------\n",
      "loan_given    5687          6996            0.5516   (6996.0/12683.0)\n",
      "loan_refused  1084          3930            0.2162   (1084.0/5014.0)\n",
      "Total         6771          10926           0.4566   (8080.0/17697.0)\n",
      "\n",
      "Maximum Metrics: Maximum metrics at their respective thresholds\n",
      "metric                       threshold    value     idx\n",
      "---------------------------  -----------  --------  -----\n",
      "max f1                       0.23015      0.493099  271\n",
      "max f2                       0.125352     0.674937  351\n",
      "max f0point5                 0.365044     0.442157  167\n",
      "max accuracy                 0.525652     0.731197  88\n",
      "max precision                0.942841     1         0\n",
      "max recall                   0.0406473    1         394\n",
      "max specificity              0.942841     1         0\n",
      "max absolute_mcc             0.287481     0.226316  224\n",
      "max min_per_class_accuracy   0.280139     0.623669  230\n",
      "max mean_per_class_accuracy  0.270263     0.624843  239\n",
      "max tns                      0.942841     12683     0\n",
      "max fns                      0.942841     5013      0\n",
      "max fps                      0.0271301    12683     399\n",
      "max tps                      0.0406473    5014      394\n",
      "max tnr                      0.942841     1         0\n",
      "max fnr                      0.942841     0.999801  0\n",
      "max fpr                      0.0271301    1         399\n",
      "max tpr                      0.0406473    1         394\n",
      "\n",
      "Gains/Lift Table: Avg response rate: 28.33 %, avg score: 28.28 %\n",
      "group    cumulative_data_fraction    lower_threshold    lift      cumulative_lift    response_rate    score      cumulative_response_rate    cumulative_score    capture_rate    cumulative_capture_rate    gain      cumulative_gain    kolmogorov_smirnov\n",
      "-------  --------------------------  -----------------  --------  -----------------  ---------------  ---------  --------------------------  ------------------  --------------  -------------------------  --------  -----------------  --------------------\n",
      "1        0.0100017                   0.778136           3.07088   3.07088            0.870056         0.837938   0.870056                    0.837938            0.030714        0.030714                   207.088   207.088            0.0289005\n",
      "2        0.0200034                   0.65924            2.45272   2.7618             0.694915         0.71183    0.782486                    0.774884            0.0245313       0.0552453                  145.272   176.18             0.0491742\n",
      "3        0.0300051                   0.585675           2.03396   2.51918            0.576271         0.61454    0.713748                    0.721436            0.020343        0.0755884                  103.396   151.918            0.0636038\n",
      "4        0.0400068                   0.551359           1.77473   2.33307            0.502825         0.568471   0.661017                    0.683195            0.0177503       0.0933387                  77.4729   133.307            0.0744157\n",
      "5        0.0500085                   0.530041           1.93426   2.25331            0.548023         0.540837   0.638418                    0.654723            0.0193458       0.112684                   93.4255   125.331            0.0874539\n",
      "6        0.100017                    0.4501             1.683     1.96815            0.476836         0.484369   0.557627                    0.569546            0.0841643       0.196849                   68.3001   96.8155            0.135113\n",
      "7        0.150025                    0.408419           1.42776   1.78802            0.40452          0.427406   0.506591                    0.522166            0.0714001       0.268249                   42.776    78.8023            0.164961\n",
      "8        0.200034                    0.376534           1.39187   1.68898            0.39435          0.391773   0.478531                    0.489568            0.0696051       0.337854                   39.1866   68.8984            0.192305\n",
      "9        0.299994                    0.328556           1.19513   1.52443            0.338609         0.350522   0.431908                    0.443237            0.119465        0.45732                    19.5128   52.4427            0.219521\n",
      "10       0.400011                    0.293761           1.16255   1.43394            0.329379         0.31037    0.406272                    0.410015            0.116274        0.573594                   16.2547   43.3944            0.242205\n",
      "11       0.500028                    0.263717           1.011     1.34935            0.286441         0.278578   0.382303                    0.383725            0.101117        0.674711                   1.09973   34.9345            0.24374\n",
      "12       0.599989                    0.235017           0.92378   1.27844            0.26173          0.249461   0.362215                    0.361356            0.0923414       0.767052                   -7.62202  27.8445            0.233109\n",
      "13       0.700006                    0.206247           0.819566  1.21288            0.232203         0.2206     0.343639                    0.341245            0.0819705       0.849023                   -18.0434  21.288             0.207928\n",
      "14       0.799966                    0.172889           0.660413  1.14385            0.187111         0.190199   0.32408                     0.322371            0.0660152       0.915038                   -33.9587  14.3846            0.160563\n",
      "15       0.899983                    0.13173            0.514472  1.0739             0.145763         0.153136   0.304263                    0.303563            0.0514559       0.966494                   -48.5528  7.39022            0.0928046\n",
      "16       1                           0.0237987          0.335005  1                  0.0949153        0.0964654  0.283325                    0.28285             0.0335062       1                          -66.4995  0                  0\n"
     ]
    }
   ],
   "source": [
    "print(gbm_perf)"
   ]
  },
  {
   "cell_type": "markdown",
   "id": "f0807685",
   "metadata": {},
   "source": [
    "#### Model Summary\n",
    "The model summary is as follows:"
   ]
  },
  {
   "cell_type": "code",
   "execution_count": 27,
   "id": "b9db4e08",
   "metadata": {},
   "outputs": [
    {
     "name": "stdout",
     "output_type": "stream",
     "text": [
      "The F1 score for GBM is 0.7387352921302904\n",
      "The precision score for GBM is 0.9838040754588955\n",
      "The recall score for GBM is 0.7281700026330532\n",
      "The AUC score for GBM is 0.6759952759884089\n"
     ]
    }
   ],
   "source": [
    "f1_gbm, precision_gbm, recall_gbm, auc_gbm = helper.calculate_metrics_summary(gbm_perf, df, 'GBM')"
   ]
  },
  {
   "cell_type": "markdown",
   "id": "bb32cac3",
   "metadata": {},
   "source": [
    "The key takeaways from the model summary are:\n",
    "1. The F1 score indicates that the model can achieve a somewhat good balance between making correct positive predictions and capturing positive instances. The F1 score increases compared to the base model.\n",
    "2. Based on the precision score, this model is able to predict 98.38% approved loans when the loans are supposed to be approved. This is a good score for the model, and also the precision score improves from the base model, although the improvement is very little.\n",
    "3. Based on the recall score, this model can recognize 72.72% of all eligible loan applicants. This is also an improvement, although it's very little.\n",
    "4. The AUC score indicates that the model's power to discriminate between positive and negative cases (loan given and loan refused) is somewhat good. The score decreases compared to the base model."
   ]
  },
  {
   "cell_type": "code",
   "execution_count": 28,
   "id": "7cbfb7e2",
   "metadata": {},
   "outputs": [
    {
     "data": {
      "text/plain": [
       "'C:\\\\Online Course\\\\Projects\\\\loan-classification-h20-xgboost\\\\model\\\\gbm_grid1_model_147'"
      ]
     },
     "execution_count": 28,
     "metadata": {},
     "output_type": "execute_result"
    }
   ],
   "source": [
    "#saving model\n",
    "model_path = h2o.save_model(\n",
    "  best_gbm1,\n",
    "  path = \"model\",\n",
    "  force = True,\n",
    "  export_cross_validation_predictions = False\n",
    ")\n",
    "model_path"
   ]
  },
  {
   "cell_type": "markdown",
   "id": "ea1992a8",
   "metadata": {},
   "source": [
    "### Using H2O Deep Learning\n",
    "Next, I will repeat the training process using deep learning from H2O library. Again, the hyperparameters to tune are the same as the previous notebook. "
   ]
  },
  {
   "cell_type": "code",
   "execution_count": 29,
   "id": "6e5692be",
   "metadata": {},
   "outputs": [
    {
     "name": "stdout",
     "output_type": "stream",
     "text": [
      "deeplearning Grid Build progress: |██████████████████████████████████████████████| (done) 100%\n"
     ]
    }
   ],
   "source": [
    "hidden = [[16, 16], [16, 32, 64], [16, 32, 64, 128]]\n",
    "epochs = [50, 100, 200]\n",
    "balance_classes = [True, False]\n",
    "activation = ['Rectifier', 'Tanh', 'RectifierWithDropout','Maxout']\n",
    "best_dl_model, dl_perf = helper.train_dl_h2o(predictors, response, train, test, val, hidden, epochs, balance_classes, activation)"
   ]
  },
  {
   "cell_type": "code",
   "execution_count": 30,
   "id": "48249d27",
   "metadata": {},
   "outputs": [
    {
     "name": "stdout",
     "output_type": "stream",
     "text": [
      "ModelMetricsBinomial: deeplearning\n",
      "** Reported on test data. **\n",
      "\n",
      "MSE: 0.18853601461473812\n",
      "RMSE: 0.4342073405813611\n",
      "LogLoss: 0.5604730932510338\n",
      "Mean Per-Class Error: 0.4009184045769378\n",
      "AUC: 0.6611479499756592\n",
      "AUCPR: 0.4444374682822319\n",
      "Gini: 0.32229589995131835\n",
      "\n",
      "Confusion Matrix (Act/Pred) for max f1 @ threshold = 0.23980789615678788\n",
      "              loan_given    loan_refused    Error    Rate\n",
      "------------  ------------  --------------  -------  ----------------\n",
      "loan_given    5101          7582            0.5978   (7582.0/12683.0)\n",
      "loan_refused  1023          3991            0.204    (1023.0/5014.0)\n",
      "Total         6124          11573           0.4862   (8605.0/17697.0)\n",
      "\n",
      "Maximum Metrics: Maximum metrics at their respective thresholds\n",
      "metric                       threshold    value     idx\n",
      "---------------------------  -----------  --------  -----\n",
      "max f1                       0.239808     0.48122   280\n",
      "max f2                       0.126067     0.670528  375\n",
      "max f0point5                 0.338874     0.437187  176\n",
      "max accuracy                 0.473627     0.729333  84\n",
      "max precision                0.74148      1         0\n",
      "max recall                   0.0991441    1         399\n",
      "max specificity              0.74148      1         0\n",
      "max absolute_mcc             0.306356     0.213083  207\n",
      "max min_per_class_accuracy   0.27665      0.610291  237\n",
      "max mean_per_class_accuracy  0.294967     0.614403  219\n",
      "max tns                      0.74148      12683     0\n",
      "max fns                      0.74148      5013      0\n",
      "max fps                      0.0991441    12683     399\n",
      "max tps                      0.0991441    5014      399\n",
      "max tnr                      0.74148      1         0\n",
      "max fnr                      0.74148      0.999801  0\n",
      "max fpr                      0.0991441    1         399\n",
      "max tpr                      0.0991441    1         399\n",
      "\n",
      "Gains/Lift Table: Avg response rate: 28.33 %, avg score: 28.23 %\n",
      "group    cumulative_data_fraction    lower_threshold    lift      cumulative_lift    response_rate    score     cumulative_response_rate    cumulative_score    capture_rate    cumulative_capture_rate    gain      cumulative_gain    kolmogorov_smirnov\n",
      "-------  --------------------------  -----------------  --------  -----------------  ---------------  --------  --------------------------  ------------------  --------------  -------------------------  --------  -----------------  --------------------\n",
      "1        0.0100017                   0.659324           2.73189   2.73189            0.774011         0.690659  0.774011                    0.690659            0.0273235       0.0273235                  173.189   173.189            0.0241697\n",
      "2        0.0200034                   0.572761           2.45272   2.5923             0.694915         0.619647  0.734463                    0.655153            0.0245313       0.0518548                  145.272   159.23             0.0444433\n",
      "3        0.0300051                   0.50597            2.03396   2.40619            0.576271         0.532275  0.681733                    0.614194            0.020343        0.0721978                  103.396   140.619            0.0588729\n",
      "4        0.0400068                   0.489512           1.9542    2.29319            0.553672         0.496455  0.649718                    0.584759            0.0195453       0.0917431                  95.4196   129.319            0.0721894\n",
      "5        0.0500085                   0.475463           1.85449   2.20545            0.525424         0.482013  0.624859                    0.56421             0.0185481       0.110291                   85.4492   120.545            0.0841144\n",
      "6        0.100017                    0.427357           1.46764   1.83655            0.415819         0.450261  0.520339                    0.507235            0.0733945       0.183686                   46.7641   83.6545            0.116746\n",
      "7        0.150025                    0.387047           1.46365   1.71225            0.414689         0.406607  0.485122                    0.473693            0.0731951       0.256881                   46.3653   71.2248            0.149099\n",
      "8        0.200034                    0.357212           1.42377   1.64013            0.40339          0.371112  0.464689                    0.448047            0.0712006       0.328081                   42.3771   64.0129            0.178669\n",
      "9        0.299994                    0.317545           1.23104   1.50382            0.348785         0.33529   0.426069                    0.410476            0.123055        0.451137                   23.1041   50.3818            0.210894\n",
      "10       0.400011                    0.290257           1.10272   1.40353            0.312429         0.30408   0.397655                    0.383873            0.110291        0.561428                   10.2725   40.353             0.22523\n",
      "11       0.500028                    0.26346            0.965134  1.31584            0.273446         0.276759  0.37281                     0.362448            0.0965297       0.657958                   -3.48664  31.5841            0.220364\n",
      "12       0.599989                    0.245474           0.889861  1.24487            0.25212          0.253336  0.352703                    0.344269            0.0889509       0.746909                   -11.0139  24.4871            0.205002\n",
      "13       0.700006                    0.236164           0.847483  1.18809            0.240113         0.240312  0.336616                    0.329416            0.0847627       0.831671                   -15.2517  18.8092            0.183717\n",
      "14       0.799966                    0.206251           0.740221  1.13213            0.209723         0.225119  0.32076                     0.316383            0.0739928       0.905664                   -25.9779  13.2128            0.147484\n",
      "15       0.899983                    0.141465           0.550365  1.06748            0.155932         0.173615  0.302442                    0.300517            0.0550459       0.96071                    -44.9635  6.74757            0.0847343\n",
      "16       1                           0.0972312          0.392833  1                  0.111299         0.118141  0.283325                    0.282276            0.03929         1                          -60.7167  0                  0\n"
     ]
    }
   ],
   "source": [
    "print(dl_perf)"
   ]
  },
  {
   "cell_type": "markdown",
   "id": "034dda0f",
   "metadata": {},
   "source": [
    "#### Model Summary\n",
    "The model summary is as follows:"
   ]
  },
  {
   "cell_type": "code",
   "execution_count": 32,
   "id": "7e611cc3",
   "metadata": {},
   "outputs": [
    {
     "name": "stdout",
     "output_type": "stream",
     "text": [
      "The F1 score for Deep Learning is 0.7662106784318446\n",
      "The precision score for Deep Learning is 0.9267489806700677\n",
      "The recall score for Deep Learning is 0.7447449160571441\n",
      "The AUC score for Deep Learning is 0.6611479499756592\n"
     ]
    }
   ],
   "source": [
    "f1_dl, precision_dl, recall_dl, auc_dl = helper.calculate_metrics_summary(dl_perf, df, 'Deep Learning')"
   ]
  },
  {
   "cell_type": "markdown",
   "id": "0907a8d0",
   "metadata": {},
   "source": [
    "The key takeaways from the model summary are:\n",
    "1. The F1 score indicates that the model can achieve a somewhat good balance between making correct positive predictions and capturing positive instances. I can improve the F1 score by quite a high number.\n",
    "2. Based on the precision score, this model is able to predict 92.67% approved loans when the loans are supposed to be approved. This is a good score for the model. However, the precision score dropped significantly from 0.9984 to 0.9267.\n",
    "3. Based on the recall score, this model can recognize 74.47% of all eligible loan applicants. This is also an increase from the base model.\n",
    "4. The AUC score indicates that the model's power to discriminate between positive and negative cases (loan given and loan refused) good, although it can be improved more. However, this score also dropped from 0.678 to 0.6611"
   ]
  },
  {
   "cell_type": "code",
   "execution_count": 33,
   "id": "c7170c45",
   "metadata": {},
   "outputs": [
    {
     "data": {
      "text/plain": [
       "'C:\\\\Online Course\\\\Projects\\\\loan-classification-h20-xgboost\\\\model\\\\dl_grid_model_66'"
      ]
     },
     "execution_count": 33,
     "metadata": {},
     "output_type": "execute_result"
    }
   ],
   "source": [
    "#saving model\n",
    "model_path = h2o.save_model(\n",
    "  best_dl_model,\n",
    "  path = \"model\",\n",
    "  force = True,\n",
    "  export_cross_validation_predictions = False\n",
    ")\n",
    "model_path"
   ]
  },
  {
   "cell_type": "markdown",
   "id": "eab6e8ab",
   "metadata": {},
   "source": [
    "### Using XGBoost\n",
    "The last model in this experiment is the XGBoost model. Again, the hyperparameters to tune is the same as the previous notebook. "
   ]
  },
  {
   "cell_type": "code",
   "execution_count": 34,
   "id": "bd3f0378",
   "metadata": {},
   "outputs": [
    {
     "name": "stdout",
     "output_type": "stream",
     "text": [
      "The number of training dataset is 56510, the number of validation dataset is 14128, and the number of testing dataset is 17660.\n",
      "Training the model...\n",
      "Fitting 3 folds for each of 1458 candidates, totalling 4374 fits\n",
      "DONE!\n",
      "Best Parameters: {'learning_rate': 0.1, 'max_bin': 128, 'max_depth': 5, 'n_estimators': 100, 'reg_alpha': 0.8, 'reg_lambda': 0.5, 'subsample': 0.9}\n"
     ]
    }
   ],
   "source": [
    "n_estimators = [100, 200, 300]\n",
    "max_depth = [3, 4, 5]\n",
    "subsample = [0.8, 0.9, 1.0]\n",
    "reg_alpha = [0.1, 0.5, 0.8]\n",
    "reg_lambda = [0.1, 0.5, 0.8]\n",
    "learning_rate = [0.1, 0.01]\n",
    "max_bin = [128, 256, 512]\n",
    "\n",
    "best_xgb_model, X_test, y_test = helper.train_xgboost(df, n_estimators, max_depth, subsample, reg_alpha, reg_lambda, learning_rate, max_bin)"
   ]
  },
  {
   "cell_type": "markdown",
   "id": "1acdaab2",
   "metadata": {},
   "source": [
    "#### Model Summary\n",
    "The model summary is as follows:"
   ]
  },
  {
   "cell_type": "code",
   "execution_count": 41,
   "id": "19547ddc",
   "metadata": {},
   "outputs": [
    {
     "data": {
      "image/png": "[encoded data removed]",
      "text/plain": [
       "<Figure size 800x600 with 2 Axes>"
      ]
     },
     "metadata": {},
     "output_type": "display_data"
    },
    {
     "name": "stdout",
     "output_type": "stream",
     "text": [
      "The F1 score for XGBoost is 0.6600280166280574\n",
      "The precision score for XGBoost is 0.7047667794353247\n",
      "The recall score for XGBoost is 0.7312004530011325\n",
      "The AUC score for XGBoost is 0.5473422715357734\n"
     ]
    }
   ],
   "source": [
    "f1_xgb, precision_xgb, recall_xgb, auc_xgb = calculate_model_metrics_xgboost(best_xgb_model, X_test, y_test, \"XGBoost\")"
   ]
  },
  {
   "cell_type": "markdown",
   "id": "65c0c0f7",
   "metadata": {},
   "source": [
    "The key takeaways from the model summary are:\n",
    "1. The F1 score indicates that the model can achieve a somewhat good balance between making correct positive predictions and capturing positive instances. \n",
    "2. Based on the precision score, this model is able to predict 71.39% approved loans when the loans are supposed to be approved. This is a good score for the model.\n",
    "3. Based on the recall score, this model can recognize 73.6% of all eligible loan applicants. Although this number is considerably good, this means that the business has the chance of losing 27.28% eligible loan applicants.\n",
    "4. The AUC score indicates that the model's power to discriminate between positive and negative cases (loan given and loan refused) not too good. It's too close to 0.5 which indicates that the model is closer to a random guess than an accurate prediction."
   ]
  },
  {
   "cell_type": "code",
   "execution_count": 43,
   "id": "033b88ce",
   "metadata": {},
   "outputs": [
    {
     "data": {
      "text/plain": [
       "['model/best_xgb_model_no_multicol.pkl']"
      ]
     },
     "execution_count": 43,
     "metadata": {},
     "output_type": "execute_result"
    }
   ],
   "source": [
    "#saving the model\n",
    "joblib.dump(best_xgb_model, 'model/best_xgb_model_no_multicol.pkl')"
   ]
  },
  {
   "cell_type": "markdown",
   "id": "53b46bcf",
   "metadata": {},
   "source": [
    "### Comparisons between 3 models\n",
    "The next step is to compare the performance of the 3 models in this experiment. The metrics I'm going to compare is still the weighted F1 scores, weighted precision scores, weighted recall scores, and AUC scores. "
   ]
  },
  {
   "cell_type": "code",
   "execution_count": 44,
   "id": "adbb2bdb",
   "metadata": {},
   "outputs": [
    {
     "data": {
      "image/png": "[encoded data removed]",
      "text/plain": [
       "<Figure size 1200x600 with 4 Axes>"
      ]
     },
     "metadata": {},
     "output_type": "display_data"
    }
   ],
   "source": [
    "models = ['GBM', 'Deep Learning', 'XGBoost']\n",
    "f1_scores = [f1_gbm, f1_dl, f1_xgb]\n",
    "precision_scores = [precision_gbm, precision_dl, precision_xgb]\n",
    "recall_scores = [recall_gbm, recall_dl, recall_xgb]\n",
    "auc_scores = [auc_gbm, auc_dl, auc_xgb]\n",
    "scores_df = helper.compare_score(f1_scores, precision_scores, recall_scores, auc_scores, models)"
   ]
  },
  {
   "cell_type": "code",
   "execution_count": 45,
   "id": "8906d565",
   "metadata": {},
   "outputs": [
    {
     "data": {
      "text/html": [
       "<div>\n",
       "<style scoped>\n",
       "    .dataframe tbody tr th:only-of-type {\n",
       "        vertical-align: middle;\n",
       "    }\n",
       "\n",
       "    .dataframe tbody tr th {\n",
       "        vertical-align: top;\n",
       "    }\n",
       "\n",
       "    .dataframe thead th {\n",
       "        text-align: right;\n",
       "    }\n",
       "</style>\n",
       "<table border=\"1\" class=\"dataframe\">\n",
       "  <thead>\n",
       "    <tr style=\"text-align: right;\">\n",
       "      <th></th>\n",
       "      <th>Model</th>\n",
       "      <th>F1 Score</th>\n",
       "      <th>Precision</th>\n",
       "      <th>Recall</th>\n",
       "      <th>AUC Score</th>\n",
       "    </tr>\n",
       "  </thead>\n",
       "  <tbody>\n",
       "    <tr>\n",
       "      <th>0</th>\n",
       "      <td>GBM</td>\n",
       "      <td>0.738735</td>\n",
       "      <td>0.983804</td>\n",
       "      <td>0.728170</td>\n",
       "      <td>0.675995</td>\n",
       "    </tr>\n",
       "    <tr>\n",
       "      <th>1</th>\n",
       "      <td>Deep Learning</td>\n",
       "      <td>0.766211</td>\n",
       "      <td>0.926749</td>\n",
       "      <td>0.744745</td>\n",
       "      <td>0.661148</td>\n",
       "    </tr>\n",
       "    <tr>\n",
       "      <th>2</th>\n",
       "      <td>XGBoost</td>\n",
       "      <td>0.660028</td>\n",
       "      <td>0.704767</td>\n",
       "      <td>0.731200</td>\n",
       "      <td>0.547342</td>\n",
       "    </tr>\n",
       "  </tbody>\n",
       "</table>\n",
       "</div>"
      ],
      "text/plain": [
       "           Model  F1 Score  Precision    Recall  AUC Score\n",
       "0            GBM  0.738735   0.983804  0.728170   0.675995\n",
       "1  Deep Learning  0.766211   0.926749  0.744745   0.661148\n",
       "2        XGBoost  0.660028   0.704767  0.731200   0.547342"
      ]
     },
     "execution_count": 45,
     "metadata": {},
     "output_type": "execute_result"
    }
   ],
   "source": [
    "scores_df"
   ]
  },
  {
   "cell_type": "code",
   "execution_count": 46,
   "id": "d47a1605",
   "metadata": {},
   "outputs": [],
   "source": [
    "scores_df.to_csv('data/no_multicol_model_scores.csv', index = False)"
   ]
  },
  {
   "cell_type": "markdown",
   "id": "80854db1",
   "metadata": {},
   "source": [
    "## Experiment 2: Using all features\n",
    "In the second experiment, I will do similar stuff with the first one. However, in this experiment, I will use both the original and engineered features. While this will definitely have multicolinearity problems, I want to see whether it's okay to sacrifice interpretability for better model performance.\n",
    "\n",
    "The dataframe I will use is df_feature which was copied from the original dataframe (df) previously."
   ]
  },
  {
   "cell_type": "code",
   "execution_count": 47,
   "id": "8aacf87b",
   "metadata": {},
   "outputs": [
    {
     "data": {
      "text/html": [
       "<div>\n",
       "<style scoped>\n",
       "    .dataframe tbody tr th:only-of-type {\n",
       "        vertical-align: middle;\n",
       "    }\n",
       "\n",
       "    .dataframe tbody tr th {\n",
       "        vertical-align: top;\n",
       "    }\n",
       "\n",
       "    .dataframe thead th {\n",
       "        text-align: right;\n",
       "    }\n",
       "</style>\n",
       "<table border=\"1\" class=\"dataframe\">\n",
       "  <thead>\n",
       "    <tr style=\"text-align: right;\">\n",
       "      <th></th>\n",
       "      <th>loan_status</th>\n",
       "      <th>current_loan_amount</th>\n",
       "      <th>term</th>\n",
       "      <th>credit_score</th>\n",
       "      <th>years_in_current_job</th>\n",
       "      <th>home_ownership</th>\n",
       "      <th>annual_income</th>\n",
       "      <th>purpose</th>\n",
       "      <th>monthly_debt</th>\n",
       "      <th>years_of_credit_history</th>\n",
       "      <th>...</th>\n",
       "      <th>number_of_open_accounts</th>\n",
       "      <th>number_of_credit_problems</th>\n",
       "      <th>current_credit_balance</th>\n",
       "      <th>maximum_open_credit</th>\n",
       "      <th>bankruptcies</th>\n",
       "      <th>tax_liens</th>\n",
       "      <th>debt_equity_ratio</th>\n",
       "      <th>credit_utilization_ratio</th>\n",
       "      <th>is_months_delinquent_missing</th>\n",
       "      <th>has_stable_job</th>\n",
       "    </tr>\n",
       "  </thead>\n",
       "  <tbody>\n",
       "    <tr>\n",
       "      <th>0</th>\n",
       "      <td>loan_given</td>\n",
       "      <td>11731.0</td>\n",
       "      <td>0</td>\n",
       "      <td>746.0</td>\n",
       "      <td>4.0</td>\n",
       "      <td>rent</td>\n",
       "      <td>50025.0</td>\n",
       "      <td>debt_consolidation</td>\n",
       "      <td>355.18</td>\n",
       "      <td>11.5</td>\n",
       "      <td>...</td>\n",
       "      <td>12</td>\n",
       "      <td>0</td>\n",
       "      <td>17391</td>\n",
       "      <td>37081.0</td>\n",
       "      <td>0.0</td>\n",
       "      <td>0.0</td>\n",
       "      <td>0.007100</td>\n",
       "      <td>0.469000</td>\n",
       "      <td>0</td>\n",
       "      <td>1</td>\n",
       "    </tr>\n",
       "    <tr>\n",
       "      <th>1</th>\n",
       "      <td>loan_refused</td>\n",
       "      <td>24613.0</td>\n",
       "      <td>1</td>\n",
       "      <td>744.8</td>\n",
       "      <td>6.0</td>\n",
       "      <td>rent</td>\n",
       "      <td>95414.0</td>\n",
       "      <td>business_loans</td>\n",
       "      <td>542.29</td>\n",
       "      <td>17.6</td>\n",
       "      <td>...</td>\n",
       "      <td>7</td>\n",
       "      <td>0</td>\n",
       "      <td>14123</td>\n",
       "      <td>16954.0</td>\n",
       "      <td>0.0</td>\n",
       "      <td>0.0</td>\n",
       "      <td>0.005684</td>\n",
       "      <td>0.833019</td>\n",
       "      <td>0</td>\n",
       "      <td>1</td>\n",
       "    </tr>\n",
       "    <tr>\n",
       "      <th>2</th>\n",
       "      <td>loan_given</td>\n",
       "      <td>19018.4</td>\n",
       "      <td>0</td>\n",
       "      <td>742.0</td>\n",
       "      <td>3.0</td>\n",
       "      <td>home_mortgage</td>\n",
       "      <td>64760.0</td>\n",
       "      <td>debt_consolidation</td>\n",
       "      <td>582.84</td>\n",
       "      <td>26.8</td>\n",
       "      <td>...</td>\n",
       "      <td>11</td>\n",
       "      <td>0</td>\n",
       "      <td>8880</td>\n",
       "      <td>22711.0</td>\n",
       "      <td>0.0</td>\n",
       "      <td>0.0</td>\n",
       "      <td>0.009000</td>\n",
       "      <td>0.391000</td>\n",
       "      <td>0</td>\n",
       "      <td>1</td>\n",
       "    </tr>\n",
       "    <tr>\n",
       "      <th>3</th>\n",
       "      <td>loan_given</td>\n",
       "      <td>11863.0</td>\n",
       "      <td>0</td>\n",
       "      <td>734.0</td>\n",
       "      <td>10.0</td>\n",
       "      <td>own_home</td>\n",
       "      <td>69202.0</td>\n",
       "      <td>debt_consolidation</td>\n",
       "      <td>859.26</td>\n",
       "      <td>30.3</td>\n",
       "      <td>...</td>\n",
       "      <td>7</td>\n",
       "      <td>0</td>\n",
       "      <td>9959</td>\n",
       "      <td>16995.0</td>\n",
       "      <td>0.0</td>\n",
       "      <td>0.0</td>\n",
       "      <td>0.012417</td>\n",
       "      <td>0.585996</td>\n",
       "      <td>0</td>\n",
       "      <td>1</td>\n",
       "    </tr>\n",
       "    <tr>\n",
       "      <th>4</th>\n",
       "      <td>loan_given</td>\n",
       "      <td>13719.0</td>\n",
       "      <td>0</td>\n",
       "      <td>724.0</td>\n",
       "      <td>1.0</td>\n",
       "      <td>own_home</td>\n",
       "      <td>34297.0</td>\n",
       "      <td>personal_loans</td>\n",
       "      <td>777.38</td>\n",
       "      <td>13.6</td>\n",
       "      <td>...</td>\n",
       "      <td>12</td>\n",
       "      <td>0</td>\n",
       "      <td>6720</td>\n",
       "      <td>53335.0</td>\n",
       "      <td>0.0</td>\n",
       "      <td>0.0</td>\n",
       "      <td>0.022666</td>\n",
       "      <td>0.125996</td>\n",
       "      <td>0</td>\n",
       "      <td>0</td>\n",
       "    </tr>\n",
       "  </tbody>\n",
       "</table>\n",
       "<p>5 rows × 21 columns</p>\n",
       "</div>"
      ],
      "text/plain": [
       "    loan_status  current_loan_amount  term  credit_score  \\\n",
       "0    loan_given              11731.0     0         746.0   \n",
       "1  loan_refused              24613.0     1         744.8   \n",
       "2    loan_given              19018.4     0         742.0   \n",
       "3    loan_given              11863.0     0         734.0   \n",
       "4    loan_given              13719.0     0         724.0   \n",
       "\n",
       "   years_in_current_job home_ownership  annual_income             purpose  \\\n",
       "0                   4.0           rent        50025.0  debt_consolidation   \n",
       "1                   6.0           rent        95414.0      business_loans   \n",
       "2                   3.0  home_mortgage        64760.0  debt_consolidation   \n",
       "3                  10.0       own_home        69202.0  debt_consolidation   \n",
       "4                   1.0       own_home        34297.0      personal_loans   \n",
       "\n",
       "   monthly_debt  years_of_credit_history  ...  number_of_open_accounts  \\\n",
       "0        355.18                     11.5  ...                       12   \n",
       "1        542.29                     17.6  ...                        7   \n",
       "2        582.84                     26.8  ...                       11   \n",
       "3        859.26                     30.3  ...                        7   \n",
       "4        777.38                     13.6  ...                       12   \n",
       "\n",
       "   number_of_credit_problems  current_credit_balance  maximum_open_credit  \\\n",
       "0                          0                   17391              37081.0   \n",
       "1                          0                   14123              16954.0   \n",
       "2                          0                    8880              22711.0   \n",
       "3                          0                    9959              16995.0   \n",
       "4                          0                    6720              53335.0   \n",
       "\n",
       "   bankruptcies  tax_liens  debt_equity_ratio  credit_utilization_ratio  \\\n",
       "0           0.0        0.0           0.007100                  0.469000   \n",
       "1           0.0        0.0           0.005684                  0.833019   \n",
       "2           0.0        0.0           0.009000                  0.391000   \n",
       "3           0.0        0.0           0.012417                  0.585996   \n",
       "4           0.0        0.0           0.022666                  0.125996   \n",
       "\n",
       "   is_months_delinquent_missing  has_stable_job  \n",
       "0                             0               1  \n",
       "1                             0               1  \n",
       "2                             0               1  \n",
       "3                             0               1  \n",
       "4                             0               0  \n",
       "\n",
       "[5 rows x 21 columns]"
      ]
     },
     "execution_count": 47,
     "metadata": {},
     "output_type": "execute_result"
    }
   ],
   "source": [
    "df_feature.head()"
   ]
  },
  {
   "cell_type": "code",
   "execution_count": 48,
   "id": "7247671d",
   "metadata": {},
   "outputs": [
    {
     "data": {
      "text/plain": [
       "loan_status                       0\n",
       "current_loan_amount               0\n",
       "term                              0\n",
       "credit_score                      0\n",
       "years_in_current_job              0\n",
       "home_ownership                    0\n",
       "annual_income                     0\n",
       "purpose                           0\n",
       "monthly_debt                      0\n",
       "years_of_credit_history           0\n",
       "months_since_last_delinquent      0\n",
       "number_of_open_accounts           0\n",
       "number_of_credit_problems         0\n",
       "current_credit_balance            0\n",
       "maximum_open_credit               0\n",
       "bankruptcies                      0\n",
       "tax_liens                         0\n",
       "debt_equity_ratio                 0\n",
       "credit_utilization_ratio        511\n",
       "is_months_delinquent_missing      0\n",
       "has_stable_job                    0\n",
       "dtype: int64"
      ]
     },
     "execution_count": 48,
     "metadata": {},
     "output_type": "execute_result"
    }
   ],
   "source": [
    "#checking for missing values\n",
    "df_feature.isnull().sum()"
   ]
  },
  {
   "cell_type": "markdown",
   "id": "d1f5750e",
   "metadata": {},
   "source": [
    "First of all, I will need to impute the missing values in the dataframe."
   ]
  },
  {
   "cell_type": "code",
   "execution_count": 49,
   "id": "74637817",
   "metadata": {},
   "outputs": [
    {
     "data": {
      "text/plain": [
       "loan_status                     0\n",
       "current_loan_amount             0\n",
       "term                            0\n",
       "credit_score                    0\n",
       "years_in_current_job            0\n",
       "home_ownership                  0\n",
       "annual_income                   0\n",
       "purpose                         0\n",
       "monthly_debt                    0\n",
       "years_of_credit_history         0\n",
       "months_since_last_delinquent    0\n",
       "number_of_open_accounts         0\n",
       "number_of_credit_problems       0\n",
       "current_credit_balance          0\n",
       "maximum_open_credit             0\n",
       "bankruptcies                    0\n",
       "tax_liens                       0\n",
       "debt_equity_ratio               0\n",
       "credit_utilization_ratio        0\n",
       "is_months_delinquent_missing    0\n",
       "has_stable_job                  0\n",
       "dtype: int64"
      ]
     },
     "execution_count": 49,
     "metadata": {},
     "output_type": "execute_result"
    }
   ],
   "source": [
    "#impute using KNNImputer\n",
    "imputer = KNNImputer(n_neighbors=5)\n",
    "column_names_to_impute = ['credit_utilization_ratio']\n",
    "df_feature = df_feature.replace([np.inf, -np.inf], np.nan).dropna(subset=column_names_to_impute)\n",
    "imputed = imputer.fit_transform(df_feature[column_names_to_impute].values)\n",
    "\n",
    "joblib.dump(imputer, 'model/knn_imputer_model_all_features.pkl')\n",
    "\n",
    "data_temp = pd.DataFrame(imputed, columns=column_names_to_impute, index = df_feature.index)\n",
    "df_feature[column_names_to_impute] = data_temp\n",
    "\n",
    "#sanity checking\n",
    "df_feature.isnull().sum()"
   ]
  },
  {
   "cell_type": "markdown",
   "id": "9a03ff29",
   "metadata": {},
   "source": [
    "Next, I will check whether there are multicolinearity problems in this dataset."
   ]
  },
  {
   "cell_type": "code",
   "execution_count": 51,
   "id": "3e8db8bd",
   "metadata": {},
   "outputs": [
    {
     "data": {
      "image/png": "[encoded data removed]",
      "text/plain": [
       "<Figure size 1000x800 with 2 Axes>"
      ]
     },
     "metadata": {},
     "output_type": "display_data"
    }
   ],
   "source": [
    "corr_matrix = df_feature[['current_loan_amount', 'credit_score', 'years_in_current_job', 'annual_income', 'monthly_debt', 'years_of_credit_history', 'months_since_last_delinquent', 'number_of_open_accounts', 'number_of_credit_problems', 'current_credit_balance', 'maximum_open_credit', 'bankruptcies', 'tax_liens', 'debt_equity_ratio', 'credit_utilization_ratio']].corr()\n",
    "plt.figure(figsize=(10, 8))\n",
    "sns.heatmap(corr_matrix, annot=True, cmap='coolwarm')\n",
    "plt.title(\"Correlation Heatmap\")\n",
    "plt.show();"
   ]
  },
  {
   "cell_type": "markdown",
   "id": "9988a175",
   "metadata": {},
   "source": [
    "As expected, there are several multicolinearity problems here. For this experiment, I will leave them be. Again, this is because I want to check whether I can sacrifice model interpretability for model performance scores. Often, the user doesn't really care whether I can interpret the model's prediction or not. So, if I can increase the scores significantly using all the features (both original and engineered features), I will choose the model with all the features. However, if I can't increase the score or the increase is not significant, I will use the model with no multicolinearity since it's easier to interpret. \n",
    "\n",
    "The next step is to standardize all the numeric columns except for the binary and ratio columns."
   ]
  },
  {
   "cell_type": "code",
   "execution_count": 52,
   "id": "f0c7936f",
   "metadata": {},
   "outputs": [
    {
     "name": "stdout",
     "output_type": "stream",
     "text": [
      "<class 'pandas.core.frame.DataFrame'>\n",
      "Index: 88298 entries, 0 to 88907\n",
      "Data columns (total 21 columns):\n",
      " #   Column                        Non-Null Count  Dtype  \n",
      "---  ------                        --------------  -----  \n",
      " 0   loan_status                   88298 non-null  object \n",
      " 1   current_loan_amount           88298 non-null  float64\n",
      " 2   term                          88298 non-null  int64  \n",
      " 3   credit_score                  88298 non-null  float64\n",
      " 4   years_in_current_job          88298 non-null  float64\n",
      " 5   home_ownership                88298 non-null  object \n",
      " 6   annual_income                 88298 non-null  float64\n",
      " 7   purpose                       88298 non-null  object \n",
      " 8   monthly_debt                  88298 non-null  float64\n",
      " 9   years_of_credit_history       88298 non-null  float64\n",
      " 10  months_since_last_delinquent  88298 non-null  float64\n",
      " 11  number_of_open_accounts       88298 non-null  int64  \n",
      " 12  number_of_credit_problems     88298 non-null  int64  \n",
      " 13  current_credit_balance        88298 non-null  int64  \n",
      " 14  maximum_open_credit           88298 non-null  float64\n",
      " 15  bankruptcies                  88298 non-null  float64\n",
      " 16  tax_liens                     88298 non-null  float64\n",
      " 17  debt_equity_ratio             88298 non-null  float64\n",
      " 18  credit_utilization_ratio      88298 non-null  float64\n",
      " 19  is_months_delinquent_missing  88298 non-null  int32  \n",
      " 20  has_stable_job                88298 non-null  int32  \n",
      "dtypes: float64(12), int32(2), int64(4), object(3)\n",
      "memory usage: 14.1+ MB\n"
     ]
    }
   ],
   "source": [
    "df_feature.info()"
   ]
  },
  {
   "cell_type": "code",
   "execution_count": 53,
   "id": "b34cccaf",
   "metadata": {},
   "outputs": [],
   "source": [
    "cols_to_standardize = ['current_loan_amount', 'credit_score', 'annual_income', 'monthly_debt', 'years_of_credit_history', 'months_since_last_delinquent', 'number_of_open_accounts', 'number_of_credit_problems', 'current_credit_balance', 'maximum_open_credit', 'bankruptcies', 'tax_liens']\n",
    "scaler = StandardScaler()\n",
    "data_scaled = scaler.fit_transform(df_feature[cols_to_standardize].values)\n",
    "\n",
    "data_temp = pd.DataFrame(data_scaled, columns=cols_to_standardize, index = df_feature.index)\n",
    "df_feature[cols_to_standardize] = data_temp"
   ]
  },
  {
   "cell_type": "code",
   "execution_count": 55,
   "id": "dc22b5af",
   "metadata": {},
   "outputs": [
    {
     "data": {
      "text/html": [
       "<div>\n",
       "<style scoped>\n",
       "    .dataframe tbody tr th:only-of-type {\n",
       "        vertical-align: middle;\n",
       "    }\n",
       "\n",
       "    .dataframe tbody tr th {\n",
       "        vertical-align: top;\n",
       "    }\n",
       "\n",
       "    .dataframe thead th {\n",
       "        text-align: right;\n",
       "    }\n",
       "</style>\n",
       "<table border=\"1\" class=\"dataframe\">\n",
       "  <thead>\n",
       "    <tr style=\"text-align: right;\">\n",
       "      <th></th>\n",
       "      <th>loan_status</th>\n",
       "      <th>current_loan_amount</th>\n",
       "      <th>term</th>\n",
       "      <th>credit_score</th>\n",
       "      <th>years_in_current_job</th>\n",
       "      <th>home_ownership</th>\n",
       "      <th>annual_income</th>\n",
       "      <th>purpose</th>\n",
       "      <th>monthly_debt</th>\n",
       "      <th>years_of_credit_history</th>\n",
       "      <th>...</th>\n",
       "      <th>number_of_open_accounts</th>\n",
       "      <th>number_of_credit_problems</th>\n",
       "      <th>current_credit_balance</th>\n",
       "      <th>maximum_open_credit</th>\n",
       "      <th>bankruptcies</th>\n",
       "      <th>tax_liens</th>\n",
       "      <th>debt_equity_ratio</th>\n",
       "      <th>credit_utilization_ratio</th>\n",
       "      <th>is_months_delinquent_missing</th>\n",
       "      <th>has_stable_job</th>\n",
       "    </tr>\n",
       "  </thead>\n",
       "  <tbody>\n",
       "    <tr>\n",
       "      <th>0</th>\n",
       "      <td>loan_given</td>\n",
       "      <td>-0.328502</td>\n",
       "      <td>0</td>\n",
       "      <td>0.803701</td>\n",
       "      <td>4.0</td>\n",
       "      <td>rent</td>\n",
       "      <td>-0.554712</td>\n",
       "      <td>debt_consolidation</td>\n",
       "      <td>-0.958154</td>\n",
       "      <td>-0.967132</td>\n",
       "      <td>...</td>\n",
       "      <td>0.172482</td>\n",
       "      <td>-0.339374</td>\n",
       "      <td>0.096590</td>\n",
       "      <td>0.406314</td>\n",
       "      <td>-0.328764</td>\n",
       "      <td>-0.109704</td>\n",
       "      <td>0.007100</td>\n",
       "      <td>0.469000</td>\n",
       "      <td>0</td>\n",
       "      <td>1</td>\n",
       "    </tr>\n",
       "    <tr>\n",
       "      <th>1</th>\n",
       "      <td>loan_refused</td>\n",
       "      <td>1.268386</td>\n",
       "      <td>1</td>\n",
       "      <td>0.759013</td>\n",
       "      <td>6.0</td>\n",
       "      <td>rent</td>\n",
       "      <td>0.203041</td>\n",
       "      <td>business_loans</td>\n",
       "      <td>-0.664370</td>\n",
       "      <td>-0.101841</td>\n",
       "      <td>...</td>\n",
       "      <td>-0.833903</td>\n",
       "      <td>-0.339374</td>\n",
       "      <td>-0.070480</td>\n",
       "      <td>-0.492673</td>\n",
       "      <td>-0.328764</td>\n",
       "      <td>-0.109704</td>\n",
       "      <td>0.005684</td>\n",
       "      <td>0.833019</td>\n",
       "      <td>0</td>\n",
       "      <td>1</td>\n",
       "    </tr>\n",
       "    <tr>\n",
       "      <th>2</th>\n",
       "      <td>loan_given</td>\n",
       "      <td>0.574864</td>\n",
       "      <td>0</td>\n",
       "      <td>0.654741</td>\n",
       "      <td>3.0</td>\n",
       "      <td>home_mortgage</td>\n",
       "      <td>-0.308716</td>\n",
       "      <td>debt_consolidation</td>\n",
       "      <td>-0.600702</td>\n",
       "      <td>1.203189</td>\n",
       "      <td>...</td>\n",
       "      <td>-0.028795</td>\n",
       "      <td>-0.339374</td>\n",
       "      <td>-0.338518</td>\n",
       "      <td>-0.235532</td>\n",
       "      <td>-0.328764</td>\n",
       "      <td>-0.109704</td>\n",
       "      <td>0.009000</td>\n",
       "      <td>0.391000</td>\n",
       "      <td>0</td>\n",
       "      <td>1</td>\n",
       "    </tr>\n",
       "    <tr>\n",
       "      <th>3</th>\n",
       "      <td>loan_given</td>\n",
       "      <td>-0.312139</td>\n",
       "      <td>0</td>\n",
       "      <td>0.356820</td>\n",
       "      <td>10.0</td>\n",
       "      <td>own_home</td>\n",
       "      <td>-0.234559</td>\n",
       "      <td>debt_consolidation</td>\n",
       "      <td>-0.166690</td>\n",
       "      <td>1.699668</td>\n",
       "      <td>...</td>\n",
       "      <td>-0.833903</td>\n",
       "      <td>-0.339374</td>\n",
       "      <td>-0.283356</td>\n",
       "      <td>-0.490842</td>\n",
       "      <td>-0.328764</td>\n",
       "      <td>-0.109704</td>\n",
       "      <td>0.012417</td>\n",
       "      <td>0.585996</td>\n",
       "      <td>0</td>\n",
       "      <td>1</td>\n",
       "    </tr>\n",
       "    <tr>\n",
       "      <th>4</th>\n",
       "      <td>loan_given</td>\n",
       "      <td>-0.082064</td>\n",
       "      <td>0</td>\n",
       "      <td>-0.015582</td>\n",
       "      <td>1.0</td>\n",
       "      <td>own_home</td>\n",
       "      <td>-0.817285</td>\n",
       "      <td>personal_loans</td>\n",
       "      <td>-0.295251</td>\n",
       "      <td>-0.669245</td>\n",
       "      <td>...</td>\n",
       "      <td>0.172482</td>\n",
       "      <td>-0.339374</td>\n",
       "      <td>-0.448944</td>\n",
       "      <td>1.132311</td>\n",
       "      <td>-0.328764</td>\n",
       "      <td>-0.109704</td>\n",
       "      <td>0.022666</td>\n",
       "      <td>0.125996</td>\n",
       "      <td>0</td>\n",
       "      <td>0</td>\n",
       "    </tr>\n",
       "  </tbody>\n",
       "</table>\n",
       "<p>5 rows × 21 columns</p>\n",
       "</div>"
      ],
      "text/plain": [
       "    loan_status  current_loan_amount  term  credit_score  \\\n",
       "0    loan_given            -0.328502     0      0.803701   \n",
       "1  loan_refused             1.268386     1      0.759013   \n",
       "2    loan_given             0.574864     0      0.654741   \n",
       "3    loan_given            -0.312139     0      0.356820   \n",
       "4    loan_given            -0.082064     0     -0.015582   \n",
       "\n",
       "   years_in_current_job home_ownership  annual_income             purpose  \\\n",
       "0                   4.0           rent      -0.554712  debt_consolidation   \n",
       "1                   6.0           rent       0.203041      business_loans   \n",
       "2                   3.0  home_mortgage      -0.308716  debt_consolidation   \n",
       "3                  10.0       own_home      -0.234559  debt_consolidation   \n",
       "4                   1.0       own_home      -0.817285      personal_loans   \n",
       "\n",
       "   monthly_debt  years_of_credit_history  ...  number_of_open_accounts  \\\n",
       "0     -0.958154                -0.967132  ...                 0.172482   \n",
       "1     -0.664370                -0.101841  ...                -0.833903   \n",
       "2     -0.600702                 1.203189  ...                -0.028795   \n",
       "3     -0.166690                 1.699668  ...                -0.833903   \n",
       "4     -0.295251                -0.669245  ...                 0.172482   \n",
       "\n",
       "   number_of_credit_problems  current_credit_balance  maximum_open_credit  \\\n",
       "0                  -0.339374                0.096590             0.406314   \n",
       "1                  -0.339374               -0.070480            -0.492673   \n",
       "2                  -0.339374               -0.338518            -0.235532   \n",
       "3                  -0.339374               -0.283356            -0.490842   \n",
       "4                  -0.339374               -0.448944             1.132311   \n",
       "\n",
       "   bankruptcies  tax_liens  debt_equity_ratio  credit_utilization_ratio  \\\n",
       "0     -0.328764  -0.109704           0.007100                  0.469000   \n",
       "1     -0.328764  -0.109704           0.005684                  0.833019   \n",
       "2     -0.328764  -0.109704           0.009000                  0.391000   \n",
       "3     -0.328764  -0.109704           0.012417                  0.585996   \n",
       "4     -0.328764  -0.109704           0.022666                  0.125996   \n",
       "\n",
       "   is_months_delinquent_missing  has_stable_job  \n",
       "0                             0               1  \n",
       "1                             0               1  \n",
       "2                             0               1  \n",
       "3                             0               1  \n",
       "4                             0               0  \n",
       "\n",
       "[5 rows x 21 columns]"
      ]
     },
     "execution_count": 55,
     "metadata": {},
     "output_type": "execute_result"
    }
   ],
   "source": [
    "df_feature.head()"
   ]
  },
  {
   "cell_type": "code",
   "execution_count": 54,
   "id": "e1c65ef2",
   "metadata": {},
   "outputs": [
    {
     "data": {
      "text/plain": [
       "['model/scaler_all_features.pkl']"
      ]
     },
     "execution_count": 54,
     "metadata": {},
     "output_type": "execute_result"
    }
   ],
   "source": [
    "#save the scaler\n",
    "scaler_filename = 'model/scaler_all_features.pkl'\n",
    "joblib.dump(scaler, scaler_filename)"
   ]
  },
  {
   "cell_type": "markdown",
   "id": "e3b8c17e",
   "metadata": {},
   "source": [
    "Last thing to do in the preprocessing stage is to one-hot-encode \"home_ownership\" and \"purpose\" columns."
   ]
  },
  {
   "cell_type": "code",
   "execution_count": 56,
   "id": "da90b717",
   "metadata": {},
   "outputs": [],
   "source": [
    "#create dummies variable (one hot encode)\n",
    "dummies = pd.get_dummies(df_feature['purpose'], prefix='purpose', drop_first = True)\n",
    "df_feature[dummies.columns] = dummies\n",
    "\n",
    "dummies = pd.get_dummies(df_feature['home_ownership'], prefix='home', drop_first = True)\n",
    "df_feature[dummies.columns] = dummies\n",
    "\n",
    "df_feature = df_feature.drop([\"home_ownership\", \"purpose\"], axis=1)\n",
    "df_feature = df_feature.replace({True: 1, False: 0})"
   ]
  },
  {
   "cell_type": "code",
   "execution_count": 57,
   "id": "936b1dde",
   "metadata": {},
   "outputs": [],
   "source": [
    "df_feature.to_csv('data/final_data_all_features.csv', index = False)"
   ]
  },
  {
   "cell_type": "code",
   "execution_count": 61,
   "id": "24a070fa",
   "metadata": {},
   "outputs": [
    {
     "name": "stdout",
     "output_type": "stream",
     "text": [
      "H2O session _sid_9569 closed.\n"
     ]
    }
   ],
   "source": [
    "h2o.cluster().shutdown()"
   ]
  },
  {
   "cell_type": "markdown",
   "id": "a18ef2fd",
   "metadata": {},
   "source": [
    "## Model Training\n",
    "Here, I need to repeat some steps from the previous experiment, which is parsing the dataframe into H2O dataframe and dividing the dataframe into train, test, and val."
   ]
  },
  {
   "cell_type": "code",
   "execution_count": 62,
   "id": "f27cd4b5",
   "metadata": {},
   "outputs": [
    {
     "name": "stdout",
     "output_type": "stream",
     "text": [
      "Checking whether there is an H2O instance running at http://localhost:54321..... not found.\n",
      "Attempting to start a local H2O server...\n",
      "; Java HotSpot(TM) 64-Bit Server VM (build 17.0.8+9-LTS-211, mixed mode, sharing)\n",
      "  Starting server from C:\\Users\\agust\\Anaconda3\\envs\\h2o_loan_classification\\Lib\\site-packages\\h2o\\backend\\bin\\h2o.jar\n",
      "  Ice root: C:\\Users\\agust\\AppData\\Local\\Temp\\tmpm36tewpq\n",
      "  JVM stdout: C:\\Users\\agust\\AppData\\Local\\Temp\\tmpm36tewpq\\h2o_agust_started_from_python.out\n",
      "  JVM stderr: C:\\Users\\agust\\AppData\\Local\\Temp\\tmpm36tewpq\\h2o_agust_started_from_python.err\n",
      "  Server is running at http://127.0.0.1:54321\n",
      "Connecting to H2O server at http://127.0.0.1:54321 ... successful.\n"
     ]
    },
    {
     "data": {
      "text/html": [
       "\n",
       "<style>\n",
       "\n",
       "#h2o-table-3.h2o-container {\n",
       "  overflow-x: auto;\n",
       "}\n",
       "#h2o-table-3 .h2o-table {\n",
       "  /* width: 100%; */\n",
       "  margin-top: 1em;\n",
       "  margin-bottom: 1em;\n",
       "}\n",
       "#h2o-table-3 .h2o-table caption {\n",
       "  white-space: nowrap;\n",
       "  caption-side: top;\n",
       "  text-align: left;\n",
       "  /* margin-left: 1em; */\n",
       "  margin: 0;\n",
       "  font-size: larger;\n",
       "}\n",
       "#h2o-table-3 .h2o-table thead {\n",
       "  white-space: nowrap; \n",
       "  position: sticky;\n",
       "  top: 0;\n",
       "  box-shadow: 0 -1px inset;\n",
       "}\n",
       "#h2o-table-3 .h2o-table tbody {\n",
       "  overflow: auto;\n",
       "}\n",
       "#h2o-table-3 .h2o-table th,\n",
       "#h2o-table-3 .h2o-table td {\n",
       "  text-align: right;\n",
       "  /* border: 1px solid; */\n",
       "}\n",
       "#h2o-table-3 .h2o-table tr:nth-child(even) {\n",
       "  /* background: #F5F5F5 */\n",
       "}\n",
       "\n",
       "</style>      \n",
       "<div id=\"h2o-table-3\" class=\"h2o-container\">\n",
       "  <table class=\"h2o-table\">\n",
       "    <caption></caption>\n",
       "    <thead></thead>\n",
       "    <tbody><tr><td>H2O_cluster_uptime:</td>\n",
       "<td>01 secs</td></tr>\n",
       "<tr><td>H2O_cluster_timezone:</td>\n",
       "<td>Asia/Jakarta</td></tr>\n",
       "<tr><td>H2O_data_parsing_timezone:</td>\n",
       "<td>UTC</td></tr>\n",
       "<tr><td>H2O_cluster_version:</td>\n",
       "<td>3.42.0.2</td></tr>\n",
       "<tr><td>H2O_cluster_version_age:</td>\n",
       "<td>1 month and 19 days</td></tr>\n",
       "<tr><td>H2O_cluster_name:</td>\n",
       "<td>H2O_from_python_agust_5qg0g0</td></tr>\n",
       "<tr><td>H2O_cluster_total_nodes:</td>\n",
       "<td>1</td></tr>\n",
       "<tr><td>H2O_cluster_free_memory:</td>\n",
       "<td>3.854 Gb</td></tr>\n",
       "<tr><td>H2O_cluster_total_cores:</td>\n",
       "<td>16</td></tr>\n",
       "<tr><td>H2O_cluster_allowed_cores:</td>\n",
       "<td>16</td></tr>\n",
       "<tr><td>H2O_cluster_status:</td>\n",
       "<td>locked, healthy</td></tr>\n",
       "<tr><td>H2O_connection_url:</td>\n",
       "<td>http://127.0.0.1:54321</td></tr>\n",
       "<tr><td>H2O_connection_proxy:</td>\n",
       "<td>{\"http\": null, \"https\": null}</td></tr>\n",
       "<tr><td>H2O_internal_security:</td>\n",
       "<td>False</td></tr>\n",
       "<tr><td>Python_version:</td>\n",
       "<td>3.11.4 final</td></tr></tbody>\n",
       "  </table>\n",
       "</div>\n"
      ],
      "text/plain": [
       "--------------------------  -----------------------------\n",
       "H2O_cluster_uptime:         01 secs\n",
       "H2O_cluster_timezone:       Asia/Jakarta\n",
       "H2O_data_parsing_timezone:  UTC\n",
       "H2O_cluster_version:        3.42.0.2\n",
       "H2O_cluster_version_age:    1 month and 19 days\n",
       "H2O_cluster_name:           H2O_from_python_agust_5qg0g0\n",
       "H2O_cluster_total_nodes:    1\n",
       "H2O_cluster_free_memory:    3.854 Gb\n",
       "H2O_cluster_total_cores:    16\n",
       "H2O_cluster_allowed_cores:  16\n",
       "H2O_cluster_status:         locked, healthy\n",
       "H2O_connection_url:         http://127.0.0.1:54321\n",
       "H2O_connection_proxy:       {\"http\": null, \"https\": null}\n",
       "H2O_internal_security:      False\n",
       "Python_version:             3.11.4 final\n",
       "--------------------------  -----------------------------"
      ]
     },
     "metadata": {},
     "output_type": "display_data"
    },
    {
     "name": "stdout",
     "output_type": "stream",
     "text": [
      "Parse progress: |████████████████████████████████████████████████████████████████| (done) 100%\n"
     ]
    }
   ],
   "source": [
    "#restarting h2o server\n",
    "h2o.init()\n",
    "\n",
    "hf_all_features = h2o.H2OFrame(df_feature)\n",
    "\n",
    "#separating predictors and response\n",
    "predictors_af = list(df_feature.columns[1:])\n",
    "response = \"loan_status\""
   ]
  },
  {
   "cell_type": "code",
   "execution_count": 63,
   "id": "d623299d",
   "metadata": {},
   "outputs": [],
   "source": [
    "#create train, test, and validation dataset\n",
    "train_temp_af, test_af = hf_all_features.split_frame(ratios = [.8], seed = 42)\n",
    "train_af, val_af = train_temp_af.split_frame(ratios = [.8], seed = 42)"
   ]
  },
  {
   "cell_type": "markdown",
   "id": "c515d47d",
   "metadata": {},
   "source": [
    "### H2O Gradient Boosting Model\n",
    "Similar to the previous experiment, I will use the helper function to train the gradient boosting model."
   ]
  },
  {
   "cell_type": "code",
   "execution_count": 64,
   "id": "6ce4adcf",
   "metadata": {},
   "outputs": [
    {
     "name": "stdout",
     "output_type": "stream",
     "text": [
      "gbm Grid Build progress: |███████████████████████████████████████████████████████| (done) 100%\n"
     ]
    }
   ],
   "source": [
    "#hyperparameters to tune\n",
    "learn_rate = [0.01, 0.05, 0.1]\n",
    "max_depth = [5, 7, 9]\n",
    "ntrees = [300, 500, 700]\n",
    "sample_rate = [0.5, 0.8, 1.0]\n",
    "col_sample_rate = [0.25, 0.5, 1.0]\n",
    "\n",
    "#train the model\n",
    "best_gbm_af, gbm_perf_af, gbm_gridperf_af = helper.train_gbm_h2o(predictors_af, response, train_af, test_af, val_af, learn_rate, max_depth, ntrees, sample_rate, col_sample_rate)"
   ]
  },
  {
   "cell_type": "code",
   "execution_count": 65,
   "id": "2639cb76",
   "metadata": {},
   "outputs": [
    {
     "data": {
      "text/html": [
       "\n",
       "<style>\n",
       "\n",
       "#h2o-table-4.h2o-container {\n",
       "  overflow-x: auto;\n",
       "}\n",
       "#h2o-table-4 .h2o-table {\n",
       "  /* width: 100%; */\n",
       "  margin-top: 1em;\n",
       "  margin-bottom: 1em;\n",
       "}\n",
       "#h2o-table-4 .h2o-table caption {\n",
       "  white-space: nowrap;\n",
       "  caption-side: top;\n",
       "  text-align: left;\n",
       "  /* margin-left: 1em; */\n",
       "  margin: 0;\n",
       "  font-size: larger;\n",
       "}\n",
       "#h2o-table-4 .h2o-table thead {\n",
       "  white-space: nowrap; \n",
       "  position: sticky;\n",
       "  top: 0;\n",
       "  box-shadow: 0 -1px inset;\n",
       "}\n",
       "#h2o-table-4 .h2o-table tbody {\n",
       "  overflow: auto;\n",
       "}\n",
       "#h2o-table-4 .h2o-table th,\n",
       "#h2o-table-4 .h2o-table td {\n",
       "  text-align: right;\n",
       "  /* border: 1px solid; */\n",
       "}\n",
       "#h2o-table-4 .h2o-table tr:nth-child(even) {\n",
       "  /* background: #F5F5F5 */\n",
       "}\n",
       "\n",
       "</style>      \n",
       "<div id=\"h2o-table-4\" class=\"h2o-container\">\n",
       "  <table class=\"h2o-table\">\n",
       "    <caption>Hyper-Parameter Search Summary: ordered by decreasing aucpr</caption>\n",
       "    <thead><tr><th></th>\n",
       "<th>col_sample_rate</th>\n",
       "<th>learn_rate</th>\n",
       "<th>max_depth</th>\n",
       "<th>ntrees</th>\n",
       "<th>sample_rate</th>\n",
       "<th>model_ids</th>\n",
       "<th>aucpr</th></tr></thead>\n",
       "    <tbody><tr><td></td>\n",
       "<td>1.0</td>\n",
       "<td>0.05</td>\n",
       "<td>7.0</td>\n",
       "<td>300.0</td>\n",
       "<td>0.8</td>\n",
       "<td>gbm_grid1_model_96</td>\n",
       "<td>0.4723157</td></tr>\n",
       "<tr><td></td>\n",
       "<td>0.5</td>\n",
       "<td>0.01</td>\n",
       "<td>9.0</td>\n",
       "<td>700.0</td>\n",
       "<td>0.5</td>\n",
       "<td>gbm_grid1_model_74</td>\n",
       "<td>0.4721133</td></tr>\n",
       "<tr><td></td>\n",
       "<td>1.0</td>\n",
       "<td>0.01</td>\n",
       "<td>7.0</td>\n",
       "<td>700.0</td>\n",
       "<td>0.5</td>\n",
       "<td>gbm_grid1_model_66</td>\n",
       "<td>0.4719734</td></tr>\n",
       "<tr><td></td>\n",
       "<td>1.0</td>\n",
       "<td>0.05</td>\n",
       "<td>5.0</td>\n",
       "<td>700.0</td>\n",
       "<td>0.8</td>\n",
       "<td>gbm_grid1_model_141</td>\n",
       "<td>0.4719572</td></tr>\n",
       "<tr><td></td>\n",
       "<td>1.0</td>\n",
       "<td>0.05</td>\n",
       "<td>5.0</td>\n",
       "<td>300.0</td>\n",
       "<td>0.5</td>\n",
       "<td>gbm_grid1_model_6</td>\n",
       "<td>0.4718498</td></tr>\n",
       "<tr><td></td>\n",
       "<td>0.5</td>\n",
       "<td>0.05</td>\n",
       "<td>5.0</td>\n",
       "<td>500.0</td>\n",
       "<td>0.8</td>\n",
       "<td>gbm_grid1_model_113</td>\n",
       "<td>0.4718229</td></tr>\n",
       "<tr><td></td>\n",
       "<td>1.0</td>\n",
       "<td>0.01</td>\n",
       "<td>9.0</td>\n",
       "<td>700.0</td>\n",
       "<td>0.8</td>\n",
       "<td>gbm_grid1_model_156</td>\n",
       "<td>0.4717810</td></tr>\n",
       "<tr><td></td>\n",
       "<td>1.0</td>\n",
       "<td>0.05</td>\n",
       "<td>5.0</td>\n",
       "<td>500.0</td>\n",
       "<td>0.5</td>\n",
       "<td>gbm_grid1_model_33</td>\n",
       "<td>0.4717438</td></tr>\n",
       "<tr><td></td>\n",
       "<td>1.0</td>\n",
       "<td>0.05</td>\n",
       "<td>5.0</td>\n",
       "<td>500.0</td>\n",
       "<td>0.8</td>\n",
       "<td>gbm_grid1_model_114</td>\n",
       "<td>0.4717289</td></tr>\n",
       "<tr><td></td>\n",
       "<td>1.0</td>\n",
       "<td>0.01</td>\n",
       "<td>7.0</td>\n",
       "<td>700.0</td>\n",
       "<td>0.8</td>\n",
       "<td>gbm_grid1_model_147</td>\n",
       "<td>0.4717230</td></tr>\n",
       "<tr><td>---</td>\n",
       "<td>---</td>\n",
       "<td>---</td>\n",
       "<td>---</td>\n",
       "<td>---</td>\n",
       "<td>---</td>\n",
       "<td>---</td>\n",
       "<td>---</td></tr>\n",
       "<tr><td></td>\n",
       "<td>1.0</td>\n",
       "<td>0.1</td>\n",
       "<td>7.0</td>\n",
       "<td>500.0</td>\n",
       "<td>0.5</td>\n",
       "<td>gbm_grid1_model_45</td>\n",
       "<td>0.4437929</td></tr>\n",
       "<tr><td></td>\n",
       "<td>0.5</td>\n",
       "<td>0.1</td>\n",
       "<td>9.0</td>\n",
       "<td>300.0</td>\n",
       "<td>0.5</td>\n",
       "<td>gbm_grid1_model_26</td>\n",
       "<td>0.4428364</td></tr>\n",
       "<tr><td></td>\n",
       "<td>1.0</td>\n",
       "<td>0.1</td>\n",
       "<td>7.0</td>\n",
       "<td>700.0</td>\n",
       "<td>0.5</td>\n",
       "<td>gbm_grid1_model_72</td>\n",
       "<td>0.4403748</td></tr>\n",
       "<tr><td></td>\n",
       "<td>0.25</td>\n",
       "<td>0.1</td>\n",
       "<td>9.0</td>\n",
       "<td>500.0</td>\n",
       "<td>0.5</td>\n",
       "<td>gbm_grid1_model_52</td>\n",
       "<td>0.4394956</td></tr>\n",
       "<tr><td></td>\n",
       "<td>0.25</td>\n",
       "<td>0.1</td>\n",
       "<td>9.0</td>\n",
       "<td>700.0</td>\n",
       "<td>0.5</td>\n",
       "<td>gbm_grid1_model_79</td>\n",
       "<td>0.4394956</td></tr>\n",
       "<tr><td></td>\n",
       "<td>0.5</td>\n",
       "<td>0.1</td>\n",
       "<td>9.0</td>\n",
       "<td>500.0</td>\n",
       "<td>0.5</td>\n",
       "<td>gbm_grid1_model_53</td>\n",
       "<td>0.4389229</td></tr>\n",
       "<tr><td></td>\n",
       "<td>0.5</td>\n",
       "<td>0.1</td>\n",
       "<td>9.0</td>\n",
       "<td>700.0</td>\n",
       "<td>0.5</td>\n",
       "<td>gbm_grid1_model_80</td>\n",
       "<td>0.4389229</td></tr>\n",
       "<tr><td></td>\n",
       "<td>1.0</td>\n",
       "<td>0.1</td>\n",
       "<td>9.0</td>\n",
       "<td>300.0</td>\n",
       "<td>0.5</td>\n",
       "<td>gbm_grid1_model_27</td>\n",
       "<td>0.4383946</td></tr>\n",
       "<tr><td></td>\n",
       "<td>1.0</td>\n",
       "<td>0.1</td>\n",
       "<td>9.0</td>\n",
       "<td>500.0</td>\n",
       "<td>0.5</td>\n",
       "<td>gbm_grid1_model_54</td>\n",
       "<td>0.4303741</td></tr>\n",
       "<tr><td></td>\n",
       "<td>1.0</td>\n",
       "<td>0.1</td>\n",
       "<td>9.0</td>\n",
       "<td>700.0</td>\n",
       "<td>0.5</td>\n",
       "<td>gbm_grid1_model_81</td>\n",
       "<td>0.4282028</td></tr></tbody>\n",
       "  </table>\n",
       "</div>\n",
       "<pre style='font-size: smaller; margin-bottom: 1em;'>[243 rows x 8 columns]</pre>"
      ],
      "text/plain": [
       "Hyper-Parameter Search Summary: ordered by decreasing aucpr\n",
       "     col_sample_rate    learn_rate    max_depth    ntrees    sample_rate    model_ids            aucpr\n",
       "---  -----------------  ------------  -----------  --------  -------------  -------------------  -------------------\n",
       "     1.0                0.05          7.0          300.0     0.8            gbm_grid1_model_96   0.4723156923885427\n",
       "     0.5                0.01          9.0          700.0     0.5            gbm_grid1_model_74   0.47211328601583435\n",
       "     1.0                0.01          7.0          700.0     0.5            gbm_grid1_model_66   0.4719733719558266\n",
       "     1.0                0.05          5.0          700.0     0.8            gbm_grid1_model_141  0.4719572291533723\n",
       "     1.0                0.05          5.0          300.0     0.5            gbm_grid1_model_6    0.4718497524873955\n",
       "     0.5                0.05          5.0          500.0     0.8            gbm_grid1_model_113  0.4718229365379896\n",
       "     1.0                0.01          9.0          700.0     0.8            gbm_grid1_model_156  0.47178100898919245\n",
       "     1.0                0.05          5.0          500.0     0.5            gbm_grid1_model_33   0.4717437625563784\n",
       "     1.0                0.05          5.0          500.0     0.8            gbm_grid1_model_114  0.47172887796344193\n",
       "     1.0                0.01          7.0          700.0     0.8            gbm_grid1_model_147  0.4717229790771848\n",
       "---  ---                ---           ---          ---       ---            ---                  ---\n",
       "     1.0                0.1           7.0          500.0     0.5            gbm_grid1_model_45   0.4437928669699368\n",
       "     0.5                0.1           9.0          300.0     0.5            gbm_grid1_model_26   0.44283640180652506\n",
       "     1.0                0.1           7.0          700.0     0.5            gbm_grid1_model_72   0.4403747523777976\n",
       "     0.25               0.1           9.0          500.0     0.5            gbm_grid1_model_52   0.4394956329965089\n",
       "     0.25               0.1           9.0          700.0     0.5            gbm_grid1_model_79   0.4394956329965089\n",
       "     0.5                0.1           9.0          500.0     0.5            gbm_grid1_model_53   0.43892291148582524\n",
       "     0.5                0.1           9.0          700.0     0.5            gbm_grid1_model_80   0.43892291148582524\n",
       "     1.0                0.1           9.0          300.0     0.5            gbm_grid1_model_27   0.4383945577186981\n",
       "     1.0                0.1           9.0          500.0     0.5            gbm_grid1_model_54   0.43037412023110727\n",
       "     1.0                0.1           9.0          700.0     0.5            gbm_grid1_model_81   0.428202757562478\n",
       "[243 rows x 8 columns]\n"
      ]
     },
     "execution_count": 65,
     "metadata": {},
     "output_type": "execute_result"
    }
   ],
   "source": [
    "gbm_gridperf_af"
   ]
  },
  {
   "cell_type": "code",
   "execution_count": 66,
   "id": "ad43acab",
   "metadata": {},
   "outputs": [
    {
     "name": "stdout",
     "output_type": "stream",
     "text": [
      "ModelMetricsBinomial: gbm\n",
      "** Reported on test data. **\n",
      "\n",
      "MSE: 0.182987902604885\n",
      "RMSE: 0.42777085291647093\n",
      "LogLoss: 0.5451574784290131\n",
      "Mean Per-Class Error: 0.36606071162850773\n",
      "AUC: 0.6903680024717357\n",
      "AUCPR: 0.4803279677319608\n",
      "Gini: 0.3807360049434714\n",
      "\n",
      "Confusion Matrix (Act/Pred) for max f1 @ threshold = 0.2429933788806691\n",
      "              loan_given    loan_refused    Error    Rate\n",
      "------------  ------------  --------------  -------  ----------------\n",
      "loan_given    6825          5858            0.4619   (5858.0/12683.0)\n",
      "loan_refused  1355          3659            0.2702   (1355.0/5014.0)\n",
      "Total         8180          9517            0.4076   (7213.0/17697.0)\n",
      "\n",
      "Maximum Metrics: Maximum metrics at their respective thresholds\n",
      "metric                       threshold    value     idx\n",
      "---------------------------  -----------  --------  -----\n",
      "max f1                       0.242993     0.503613  259\n",
      "max f2                       0.135358     0.678246  339\n",
      "max f0point5                 0.36746      0.461789  175\n",
      "max accuracy                 0.556217     0.73391   85\n",
      "max precision                0.955743     1         0\n",
      "max recall                   0.0213195    1         396\n",
      "max specificity              0.955743     1         0\n",
      "max absolute_mcc             0.300662     0.245588  218\n",
      "max min_per_class_accuracy   0.276781     0.630834  234\n",
      "max mean_per_class_accuracy  0.242993     0.633939  259\n",
      "max tns                      0.955743     12683     0\n",
      "max fns                      0.955743     5009      0\n",
      "max fps                      0.0101194    12683     399\n",
      "max tps                      0.0213195    5014      396\n",
      "max tnr                      0.955743     1         0\n",
      "max fnr                      0.955743     0.999003  0\n",
      "max fpr                      0.0101194    1         399\n",
      "max tpr                      0.0213195    1         396\n",
      "\n",
      "Gains/Lift Table: Avg response rate: 28.33 %, avg score: 28.23 %\n",
      "group    cumulative_data_fraction    lower_threshold    lift      cumulative_lift    response_rate    score      cumulative_response_rate    cumulative_score    capture_rate    cumulative_capture_rate    gain       cumulative_gain    kolmogorov_smirnov\n",
      "-------  --------------------------  -----------------  --------  -----------------  ---------------  ---------  --------------------------  ------------------  --------------  -------------------------  ---------  -----------------  --------------------\n",
      "1        0.0100017                   0.805148           3.21046   3.21046            0.909605         0.871474   0.909605                    0.871474            0.0321101       0.0321101                  221.046    221.046            0.0308486\n",
      "2        0.0200034                   0.705042           2.29319   2.75183            0.649718         0.750544   0.779661                    0.811009            0.0229358       0.0550459                  129.319    175.183            0.0488959\n",
      "3        0.0300051                   0.638585           2.29319   2.59895            0.649718         0.667562   0.736347                    0.763193            0.0229358       0.0779817                  129.319    159.895            0.0669433\n",
      "4        0.0400068                   0.593629           1.99408   2.44773            0.564972         0.613758   0.693503                    0.725835            0.0199442       0.0979258                  99.4078    144.773            0.0808163\n",
      "5        0.0500085                   0.563408           1.91431   2.34105            0.542373         0.577945   0.663277                    0.696257            0.0191464       0.117072                   91.4314    134.105            0.0935762\n",
      "6        0.100017                    0.480964           1.65907   2.00006            0.470056         0.517367   0.566667                    0.606812            0.0829677       0.20004                    65.9073    100.006            0.139565\n",
      "7        0.150025                    0.431281           1.53943   1.84652            0.436158         0.455974   0.523164                    0.556533            0.0769844       0.277024                   53.9428    84.6516            0.177206\n",
      "8        0.200034                    0.396278           1.49157   1.75778            0.422599         0.413209   0.498023                    0.520702            0.0745911       0.351615                   49.157     75.7779            0.211507\n",
      "9        0.299994                    0.336419           1.25299   1.58958            0.355003         0.364695   0.450367                    0.468719            0.125249        0.476865                   25.2989    58.9579            0.246793\n",
      "10       0.400011                    0.29128            1.12267   1.47283            0.318079         0.313007   0.417291                    0.429786            0.112286        0.58915                    12.2666    47.2834            0.263912\n",
      "11       0.500028                    0.254905           0.995045  1.37727            0.281921         0.272804   0.390214                    0.398386            0.0995213       0.688672                   -0.495528  37.7266            0.26322\n",
      "12       0.599989                    0.222137           0.935751  1.30371            0.265122         0.238497   0.369373                    0.371748            0.0935381       0.78221                    -6.42489   30.3708            0.254259\n",
      "13       0.700006                    0.191201           0.763732  1.22656            0.216384         0.206828   0.347514                    0.348184            0.0763861       0.858596                   -23.6268   22.6556            0.221286\n",
      "14       0.799966                    0.157275           0.646446  1.15407            0.183154         0.174638   0.326976                    0.326498            0.0646191       0.923215                   -35.3554   15.4068            0.171973\n",
      "15       0.899983                    0.112687           0.476585  1.07878            0.135028         0.135988   0.305645                    0.305327            0.0476665       0.970882                   -52.3415   7.87776            0.0989269\n",
      "16       1                           0.00892741         0.291135  1                  0.0824859        0.0753797  0.283325                    0.282328            0.0291185       1                          -70.8865   0                  0\n"
     ]
    }
   ],
   "source": [
    "print(gbm_perf_af)"
   ]
  },
  {
   "cell_type": "markdown",
   "id": "0ec74ec4",
   "metadata": {},
   "source": [
    "#### Model Summary\n",
    "The model summary is as follows:"
   ]
  },
  {
   "cell_type": "code",
   "execution_count": 69,
   "id": "103ad6d9",
   "metadata": {},
   "outputs": [
    {
     "name": "stdout",
     "output_type": "stream",
     "text": [
      "The F1 score for GBM is 0.7284706965627562\n",
      "The precision score for GBM is 0.9874599461673628\n",
      "The recall score for GBM is 0.7226935078006457\n",
      "The AUC score for GBM is 0.6903680024717357\n"
     ]
    }
   ],
   "source": [
    "f1_gbm_af, precision_gbm_af, recall_gbm_af, auc_gbm_af = helper.calculate_metrics_summary(gbm_perf_af, df_feature, 'GBM')"
   ]
  },
  {
   "cell_type": "markdown",
   "id": "3c77525a",
   "metadata": {},
   "source": [
    "The key takeaways from the model summary are:\n",
    "1. The F1 score indicates that the model can achieve a somewhat good balance between making correct positive predictions and capturing positive instances. \n",
    "2. Based on the precision score, this model is able to predict 71.39% approved loans when the loans are supposed to be approved. This is a good score for the model.\n",
    "3. Based on the recall score, this model can recognize 73.6% of all eligible loan applicants. Although this number is considerably good, this means that the business has the chance of losing 27.28% eligible loan applicants.\n",
    "4. The AUC score indicates that the model's power to discriminate between positive and negative cases (loan given and loan refused) not too good. It's too close to 0.5 which indicates that the model is closer to a random guess than an accurate prediction."
   ]
  },
  {
   "cell_type": "code",
   "execution_count": 70,
   "id": "bcaa0335",
   "metadata": {},
   "outputs": [
    {
     "data": {
      "text/plain": [
       "'C:\\\\Online Course\\\\Projects\\\\loan-classification-h20-xgboost\\\\model\\\\gbm_grid1_model_96'"
      ]
     },
     "execution_count": 70,
     "metadata": {},
     "output_type": "execute_result"
    }
   ],
   "source": [
    "#saving model\n",
    "model_path = h2o.save_model(\n",
    "  best_gbm_af,\n",
    "  path = \"model\",\n",
    "  force = True,\n",
    "  export_cross_validation_predictions = False\n",
    ")\n",
    "model_path"
   ]
  },
  {
   "cell_type": "markdown",
   "id": "634af747",
   "metadata": {},
   "source": [
    "### Using H2O Deep Learning \n",
    "Similar to the previous experiment, I will use the helper function to train the deep learning model."
   ]
  },
  {
   "cell_type": "code",
   "execution_count": 71,
   "id": "e1a41993",
   "metadata": {},
   "outputs": [
    {
     "name": "stdout",
     "output_type": "stream",
     "text": [
      "deeplearning Grid Build progress: |██████████████████████████████████████████████| (done) 100%\n"
     ]
    }
   ],
   "source": [
    "best_dl_model_af, dl_perf_af = helper.train_dl_h2o(predictors_af, response, train_af, test_af, val_af, hidden, epochs, balance_classes, activation)"
   ]
  },
  {
   "cell_type": "code",
   "execution_count": 72,
   "id": "4623111d",
   "metadata": {},
   "outputs": [
    {
     "name": "stdout",
     "output_type": "stream",
     "text": [
      "ModelMetricsBinomial: deeplearning\n",
      "** Reported on test data. **\n",
      "\n",
      "MSE: 0.1857448774213884\n",
      "RMSE: 0.43098129590666506\n",
      "LogLoss: 0.5537266748033468\n",
      "Mean Per-Class Error: 0.38668435783417565\n",
      "AUC: 0.6769308335147749\n",
      "AUCPR: 0.47035100862085977\n",
      "Gini: 0.3538616670295498\n",
      "\n",
      "Confusion Matrix (Act/Pred) for max f1 @ threshold = 0.21459508308080927\n",
      "              loan_given    loan_refused    Error    Rate\n",
      "------------  ------------  --------------  -------  ----------------\n",
      "loan_given    5414          7269            0.5731   (7269.0/12683.0)\n",
      "loan_refused  1004          4010            0.2002   (1004.0/5014.0)\n",
      "Total         6418          11279           0.4675   (8273.0/17697.0)\n",
      "\n",
      "Maximum Metrics: Maximum metrics at their respective thresholds\n",
      "metric                       threshold    value     idx\n",
      "---------------------------  -----------  --------  -----\n",
      "max f1                       0.214595     0.492236  277\n",
      "max f2                       0.0906327    0.675399  356\n",
      "max f0point5                 0.377179     0.446156  175\n",
      "max accuracy                 0.551961     0.733006  88\n",
      "max precision                0.984261     1         0\n",
      "max recall                   0.0023872    1         399\n",
      "max specificity              0.984261     1         0\n",
      "max absolute_mcc             0.335138     0.232232  201\n",
      "max min_per_class_accuracy   0.292071     0.62485   226\n",
      "max mean_per_class_accuracy  0.297153     0.625368  223\n",
      "max tns                      0.984261     12683     0\n",
      "max fns                      0.984261     5013      0\n",
      "max fps                      0.0023872    12683     399\n",
      "max tps                      0.0023872    5014      399\n",
      "max tnr                      0.984261     1         0\n",
      "max fnr                      0.984261     0.999801  0\n",
      "max fpr                      0.0023872    1         399\n",
      "max tpr                      0.0023872    1         399\n",
      "\n",
      "Gains/Lift Table: Avg response rate: 28.33 %, avg score: 28.92 %\n",
      "group    cumulative_data_fraction    lower_threshold    lift      cumulative_lift    response_rate    score      cumulative_response_rate    cumulative_score    capture_rate    cumulative_capture_rate    gain      cumulative_gain    kolmogorov_smirnov\n",
      "-------  --------------------------  -----------------  --------  -----------------  ---------------  ---------  --------------------------  ------------------  --------------  -------------------------  --------  -----------------  --------------------\n",
      "1        0.0100017                   0.830887           3.11076   3.11076            0.881356         0.896725   0.881356                    0.896725            0.0311129       0.0311129                  211.076   211.076            0.0294571\n",
      "2        0.0200034                   0.713792           2.75183   2.93129            0.779661         0.770989   0.830508                    0.833857            0.0275229       0.0586358                  175.183   193.129            0.0539051\n",
      "3        0.0300051                   0.644005           1.97414   2.61224            0.559322         0.674435   0.740113                    0.780716            0.0197447       0.0783805                  97.4137   161.224            0.0674998\n",
      "4        0.0400068                   0.601621           1.9542    2.44773            0.553672         0.621319   0.693503                    0.740867            0.0195453       0.0979258                  95.4196   144.773            0.0808163\n",
      "5        0.0500085                   0.570387           1.69497   2.29718            0.480226         0.586034   0.650847                    0.7099              0.0169525       0.114878                   69.4966   129.718            0.090515\n",
      "6        0.100017                    0.490731           1.63116   1.96417            0.462147         0.526159   0.556497                    0.61803             0.0815716       0.19645                    63.1155   96.4166            0.134556\n",
      "7        0.150025                    0.444221           1.45966   1.796              0.413559         0.46599    0.508851                    0.56735             0.0729956       0.269446                   45.9665   79.5999            0.166631\n",
      "8        0.200034                    0.414209           1.34401   1.683              0.380791         0.42846    0.476836                    0.532627            0.0672118       0.336657                   34.4008   68.3001            0.190635\n",
      "9        0.299994                    0.362021           1.2889    1.55168            0.365178         0.387845   0.439631                    0.484385            0.128839        0.465497                   28.8902   55.1685            0.230931\n",
      "10       0.400011                    0.312606           1.09275   1.43694            0.309605         0.337662   0.40712                     0.447699            0.109294        0.574791                   9.27545   43.6936            0.243875\n",
      "11       0.500028                    0.26714            1.02695   1.35493            0.29096          0.289677   0.383885                    0.416091            0.102712        0.677503                   2.695     35.4929            0.247636\n",
      "12       0.599989                    0.227532           0.879885  1.27579            0.249293         0.24669    0.361462                    0.387868            0.0879537       0.765457                   -12.0115  27.5785            0.230883\n",
      "13       0.700006                    0.192386           0.789655  1.20633            0.223729         0.209393   0.341782                    0.362367            0.0789789       0.844436                   -21.0345  20.6327            0.201528\n",
      "14       0.799966                    0.150036           0.674379  1.13986            0.191068         0.172028   0.32295                     0.338583            0.0674112       0.911847                   -32.5621  13.9857            0.156111\n",
      "15       0.899983                    0.0961807          0.550365  1.07435            0.155932         0.124482   0.304389                    0.31479             0.0550459       0.966893                   -44.9635  7.43455            0.0933612\n",
      "16       1                           0.000592972        0.331017  1                  0.0937853        0.0592445  0.283325                    0.289231            0.0331073       1                          -66.8983  0                  0\n"
     ]
    }
   ],
   "source": [
    "print(dl_perf_af)"
   ]
  },
  {
   "cell_type": "markdown",
   "id": "f70c62cf",
   "metadata": {},
   "source": [
    "#### Model Summary\n",
    "The model summary is as follows:"
   ]
  },
  {
   "cell_type": "code",
   "execution_count": 74,
   "id": "a2399af5",
   "metadata": {},
   "outputs": [
    {
     "name": "stdout",
     "output_type": "stream",
     "text": [
      "The F1 score for Deep Learning is 0.7180022370137817\n",
      "The precision score for Deep Learning is 0.995540417177498\n",
      "The recall score for Deep Learning is 0.7173291044787228\n",
      "The AUC score for Deep Learning is 0.6769308335147749\n"
     ]
    }
   ],
   "source": [
    "f1_dl_af, precision_dl_af, recall_dl_af, auc_dl_af = helper.calculate_metrics_summary(dl_perf_af, df_feature, 'Deep Learning')"
   ]
  },
  {
   "cell_type": "markdown",
   "id": "80de81b6",
   "metadata": {},
   "source": [
    "The key takeaways from the model summary are:\n",
    "1. The F1 score indicates that the model can achieve a somewhat good balance between making correct positive predictions and capturing positive instances. \n",
    "2. Based on the precision score, this model is able to predict 71.39% approved loans when the loans are supposed to be approved. This is a good score for the model.\n",
    "3. Based on the recall score, this model can recognize 73.6% of all eligible loan applicants. Although this number is considerably good, this means that the business has the chance of losing 27.28% eligible loan applicants.\n",
    "4. The AUC score indicates that the model's power to discriminate between positive and negative cases (loan given and loan refused) not too good. It's too close to 0.5 which indicates that the model is closer to a random guess than an accurate prediction."
   ]
  },
  {
   "cell_type": "code",
   "execution_count": 75,
   "id": "53cfde99",
   "metadata": {},
   "outputs": [
    {
     "data": {
      "text/plain": [
       "'C:\\\\Online Course\\\\Projects\\\\loan-classification-h20-xgboost\\\\model\\\\dl_grid_model_1'"
      ]
     },
     "execution_count": 75,
     "metadata": {},
     "output_type": "execute_result"
    }
   ],
   "source": [
    "#saving model\n",
    "model_path = h2o.save_model(\n",
    "  best_dl_model_af,\n",
    "  path = \"model\",\n",
    "  force = True,\n",
    "  export_cross_validation_predictions = False\n",
    ")\n",
    "model_path"
   ]
  },
  {
   "cell_type": "markdown",
   "id": "e2a4ecfd",
   "metadata": {},
   "source": [
    "### Using XGBoost\n",
    "Similar to the previous experiment, I will use the helper function to train the XGBoost model."
   ]
  },
  {
   "cell_type": "code",
   "execution_count": 77,
   "id": "6ebac082",
   "metadata": {},
   "outputs": [
    {
     "name": "stdout",
     "output_type": "stream",
     "text": [
      "The number of training dataset is 56510, the number of validation dataset is 14128, and the number of testing dataset is 17660.\n",
      "Training the model...\n",
      "Fitting 3 folds for each of 1458 candidates, totalling 4374 fits\n",
      "DONE!\n",
      "Best Parameters: {'learning_rate': 0.1, 'max_bin': 128, 'max_depth': 5, 'n_estimators': 100, 'reg_alpha': 0.5, 'reg_lambda': 0.1, 'subsample': 0.8}\n"
     ]
    }
   ],
   "source": [
    "best_xgb_model_af, X_test_af, y_test_af = helper.train_xgboost(df_feature, n_estimators, max_depth, subsample, reg_alpha, reg_lambda, learning_rate, max_bin)"
   ]
  },
  {
   "cell_type": "markdown",
   "id": "cf75c78d",
   "metadata": {},
   "source": [
    "#### Model Summary\n",
    "The model summary is as follows:"
   ]
  },
  {
   "cell_type": "code",
   "execution_count": 79,
   "id": "4d210110",
   "metadata": {},
   "outputs": [
    {
     "data": {
      "image/png": "[encoded data removed]",
      "text/plain": [
       "<Figure size 800x600 with 2 Axes>"
      ]
     },
     "metadata": {},
     "output_type": "display_data"
    },
    {
     "name": "stdout",
     "output_type": "stream",
     "text": [
      "The F1 score for XGBoost is 0.6653096002117962\n",
      "The precision score for XGBoost is 0.7092983500892115\n",
      "The recall score for XGBoost is 0.7334654586636467\n",
      "The AUC score for XGBoost is 0.5523840160451485\n"
     ]
    }
   ],
   "source": [
    "f1_xgb_af, precision_xgb_af, recall_xgb_af, auc_xgb_af = calculate_model_metrics_xgboost(best_xgb_model_af, X_test_af, y_test_af, \"XGBoost\")"
   ]
  },
  {
   "cell_type": "markdown",
   "id": "5b3e7eae",
   "metadata": {},
   "source": [
    "The key takeaways from the model summary are:\n",
    "1. The F1 score indicates that the model can achieve a somewhat good balance between making correct positive predictions and capturing positive instances. \n",
    "2. Based on the precision score, this model is able to predict 70.92% approved loans when the loans are supposed to be approved. This is a good score for the model.\n",
    "3. Based on the recall score, this model can recognize 73.34% of all eligible loan applicants. .\n",
    "4. The AUC score indicates that the model's power to discriminate between positive and negative cases (loan given and loan refused) not too good. It's too close to 0.5 which indicates that the model is closer to a random guess than an accurate prediction.\n",
    "5. All the scores are lower compared to the base model."
   ]
  },
  {
   "cell_type": "code",
   "execution_count": 80,
   "id": "8f708248",
   "metadata": {},
   "outputs": [
    {
     "data": {
      "text/plain": [
       "['model/best_xgb_model_all_features.pkl']"
      ]
     },
     "execution_count": 80,
     "metadata": {},
     "output_type": "execute_result"
    }
   ],
   "source": [
    "joblib.dump(best_xgb_model_af, 'model/best_xgb_model_all_features.pkl')"
   ]
  },
  {
   "cell_type": "markdown",
   "id": "54457521",
   "metadata": {},
   "source": [
    "### Comparisons between 3 models"
   ]
  },
  {
   "cell_type": "code",
   "execution_count": 81,
   "id": "bb77b2ab",
   "metadata": {},
   "outputs": [
    {
     "data": {
      "image/png": "[encoded data removed]",
      "text/plain": [
       "<Figure size 1200x600 with 4 Axes>"
      ]
     },
     "metadata": {},
     "output_type": "display_data"
    }
   ],
   "source": [
    "models = ['GBM', 'Deep Learning', 'XGBoost']\n",
    "f1_scores_af = [f1_gbm_af, f1_dl_af, f1_xgb_af]\n",
    "precision_scores_af = [precision_gbm_af, precision_dl_af, precision_xgb_af]\n",
    "recall_scores_af = [recall_gbm_af, recall_dl_af, recall_xgb_af]\n",
    "auc_scores_af = [auc_gbm_af, auc_dl_af, auc_xgb_af]\n",
    "scores_df_af = helper.compare_score(f1_scores_af, precision_scores_af, recall_scores_af, auc_scores_af, models)"
   ]
  },
  {
   "cell_type": "code",
   "execution_count": 82,
   "id": "667c7b56",
   "metadata": {},
   "outputs": [
    {
     "data": {
      "text/html": [
       "<div>\n",
       "<style scoped>\n",
       "    .dataframe tbody tr th:only-of-type {\n",
       "        vertical-align: middle;\n",
       "    }\n",
       "\n",
       "    .dataframe tbody tr th {\n",
       "        vertical-align: top;\n",
       "    }\n",
       "\n",
       "    .dataframe thead th {\n",
       "        text-align: right;\n",
       "    }\n",
       "</style>\n",
       "<table border=\"1\" class=\"dataframe\">\n",
       "  <thead>\n",
       "    <tr style=\"text-align: right;\">\n",
       "      <th></th>\n",
       "      <th>Model</th>\n",
       "      <th>F1 Score</th>\n",
       "      <th>Precision</th>\n",
       "      <th>Recall</th>\n",
       "      <th>AUC Score</th>\n",
       "    </tr>\n",
       "  </thead>\n",
       "  <tbody>\n",
       "    <tr>\n",
       "      <th>0</th>\n",
       "      <td>GBM</td>\n",
       "      <td>0.728471</td>\n",
       "      <td>0.987460</td>\n",
       "      <td>0.722694</td>\n",
       "      <td>0.690368</td>\n",
       "    </tr>\n",
       "    <tr>\n",
       "      <th>1</th>\n",
       "      <td>Deep Learning</td>\n",
       "      <td>0.718002</td>\n",
       "      <td>0.995540</td>\n",
       "      <td>0.717329</td>\n",
       "      <td>0.676931</td>\n",
       "    </tr>\n",
       "    <tr>\n",
       "      <th>2</th>\n",
       "      <td>XGBoost</td>\n",
       "      <td>0.665310</td>\n",
       "      <td>0.709298</td>\n",
       "      <td>0.733465</td>\n",
       "      <td>0.552384</td>\n",
       "    </tr>\n",
       "  </tbody>\n",
       "</table>\n",
       "</div>"
      ],
      "text/plain": [
       "           Model  F1 Score  Precision    Recall  AUC Score\n",
       "0            GBM  0.728471   0.987460  0.722694   0.690368\n",
       "1  Deep Learning  0.718002   0.995540  0.717329   0.676931\n",
       "2        XGBoost  0.665310   0.709298  0.733465   0.552384"
      ]
     },
     "execution_count": 82,
     "metadata": {},
     "output_type": "execute_result"
    }
   ],
   "source": [
    "scores_df_af"
   ]
  },
  {
   "cell_type": "code",
   "execution_count": 83,
   "id": "3df75bd5",
   "metadata": {},
   "outputs": [],
   "source": [
    "scores_df_af.to_csv('data/all_features_model_scores.csv', index = False)"
   ]
  },
  {
   "cell_type": "markdown",
   "id": "b8f1c52c",
   "metadata": {},
   "source": [
    "## Selecting the best model"
   ]
  },
  {
   "cell_type": "code",
   "execution_count": 85,
   "id": "4ee2eb27",
   "metadata": {},
   "outputs": [
    {
     "data": {
      "text/html": [
       "<div>\n",
       "<style scoped>\n",
       "    .dataframe tbody tr th:only-of-type {\n",
       "        vertical-align: middle;\n",
       "    }\n",
       "\n",
       "    .dataframe tbody tr th {\n",
       "        vertical-align: top;\n",
       "    }\n",
       "\n",
       "    .dataframe thead th {\n",
       "        text-align: right;\n",
       "    }\n",
       "</style>\n",
       "<table border=\"1\" class=\"dataframe\">\n",
       "  <thead>\n",
       "    <tr style=\"text-align: right;\">\n",
       "      <th></th>\n",
       "      <th>Model</th>\n",
       "      <th>F1 Score</th>\n",
       "      <th>Precision</th>\n",
       "      <th>Recall</th>\n",
       "      <th>AUC Score</th>\n",
       "    </tr>\n",
       "  </thead>\n",
       "  <tbody>\n",
       "    <tr>\n",
       "      <th>0</th>\n",
       "      <td>GBM</td>\n",
       "      <td>0.736870</td>\n",
       "      <td>0.982921</td>\n",
       "      <td>0.727268</td>\n",
       "      <td>0.691829</td>\n",
       "    </tr>\n",
       "    <tr>\n",
       "      <th>1</th>\n",
       "      <td>Deep Learning</td>\n",
       "      <td>0.739197</td>\n",
       "      <td>0.998454</td>\n",
       "      <td>0.728502</td>\n",
       "      <td>0.678001</td>\n",
       "    </tr>\n",
       "    <tr>\n",
       "      <th>2</th>\n",
       "      <td>XGBoost</td>\n",
       "      <td>0.674320</td>\n",
       "      <td>0.713955</td>\n",
       "      <td>0.736025</td>\n",
       "      <td>0.562727</td>\n",
       "    </tr>\n",
       "  </tbody>\n",
       "</table>\n",
       "</div>"
      ],
      "text/plain": [
       "           Model  F1 Score  Precision    Recall  AUC Score\n",
       "0            GBM  0.736870   0.982921  0.727268   0.691829\n",
       "1  Deep Learning  0.739197   0.998454  0.728502   0.678001\n",
       "2        XGBoost  0.674320   0.713955  0.736025   0.562727"
      ]
     },
     "execution_count": 85,
     "metadata": {},
     "output_type": "execute_result"
    }
   ],
   "source": [
    "base_scores_df = pd.read_csv('data/base_model_scores.csv')\n",
    "base_scores_df"
   ]
  },
  {
   "cell_type": "code",
   "execution_count": 86,
   "id": "2d7bc712",
   "metadata": {},
   "outputs": [
    {
     "data": {
      "text/html": [
       "<div>\n",
       "<style scoped>\n",
       "    .dataframe tbody tr th:only-of-type {\n",
       "        vertical-align: middle;\n",
       "    }\n",
       "\n",
       "    .dataframe tbody tr th {\n",
       "        vertical-align: top;\n",
       "    }\n",
       "\n",
       "    .dataframe thead th {\n",
       "        text-align: right;\n",
       "    }\n",
       "</style>\n",
       "<table border=\"1\" class=\"dataframe\">\n",
       "  <thead>\n",
       "    <tr style=\"text-align: right;\">\n",
       "      <th></th>\n",
       "      <th>Model</th>\n",
       "      <th>F1 Score</th>\n",
       "      <th>Precision</th>\n",
       "      <th>Recall</th>\n",
       "      <th>AUC Score</th>\n",
       "    </tr>\n",
       "  </thead>\n",
       "  <tbody>\n",
       "    <tr>\n",
       "      <th>0</th>\n",
       "      <td>GBM</td>\n",
       "      <td>0.738735</td>\n",
       "      <td>0.983804</td>\n",
       "      <td>0.728170</td>\n",
       "      <td>0.675995</td>\n",
       "    </tr>\n",
       "    <tr>\n",
       "      <th>1</th>\n",
       "      <td>Deep Learning</td>\n",
       "      <td>0.766211</td>\n",
       "      <td>0.926749</td>\n",
       "      <td>0.744745</td>\n",
       "      <td>0.661148</td>\n",
       "    </tr>\n",
       "    <tr>\n",
       "      <th>2</th>\n",
       "      <td>XGBoost</td>\n",
       "      <td>0.660028</td>\n",
       "      <td>0.704767</td>\n",
       "      <td>0.731200</td>\n",
       "      <td>0.547342</td>\n",
       "    </tr>\n",
       "  </tbody>\n",
       "</table>\n",
       "</div>"
      ],
      "text/plain": [
       "           Model  F1 Score  Precision    Recall  AUC Score\n",
       "0            GBM  0.738735   0.983804  0.728170   0.675995\n",
       "1  Deep Learning  0.766211   0.926749  0.744745   0.661148\n",
       "2        XGBoost  0.660028   0.704767  0.731200   0.547342"
      ]
     },
     "execution_count": 86,
     "metadata": {},
     "output_type": "execute_result"
    }
   ],
   "source": [
    "scores_df"
   ]
  },
  {
   "cell_type": "code",
   "execution_count": 87,
   "id": "2617b48a",
   "metadata": {},
   "outputs": [
    {
     "data": {
      "text/html": [
       "<div>\n",
       "<style scoped>\n",
       "    .dataframe tbody tr th:only-of-type {\n",
       "        vertical-align: middle;\n",
       "    }\n",
       "\n",
       "    .dataframe tbody tr th {\n",
       "        vertical-align: top;\n",
       "    }\n",
       "\n",
       "    .dataframe thead th {\n",
       "        text-align: right;\n",
       "    }\n",
       "</style>\n",
       "<table border=\"1\" class=\"dataframe\">\n",
       "  <thead>\n",
       "    <tr style=\"text-align: right;\">\n",
       "      <th></th>\n",
       "      <th>Model</th>\n",
       "      <th>F1 Score</th>\n",
       "      <th>Precision</th>\n",
       "      <th>Recall</th>\n",
       "      <th>AUC Score</th>\n",
       "    </tr>\n",
       "  </thead>\n",
       "  <tbody>\n",
       "    <tr>\n",
       "      <th>0</th>\n",
       "      <td>GBM</td>\n",
       "      <td>0.728471</td>\n",
       "      <td>0.987460</td>\n",
       "      <td>0.722694</td>\n",
       "      <td>0.690368</td>\n",
       "    </tr>\n",
       "    <tr>\n",
       "      <th>1</th>\n",
       "      <td>Deep Learning</td>\n",
       "      <td>0.718002</td>\n",
       "      <td>0.995540</td>\n",
       "      <td>0.717329</td>\n",
       "      <td>0.676931</td>\n",
       "    </tr>\n",
       "    <tr>\n",
       "      <th>2</th>\n",
       "      <td>XGBoost</td>\n",
       "      <td>0.665310</td>\n",
       "      <td>0.709298</td>\n",
       "      <td>0.733465</td>\n",
       "      <td>0.552384</td>\n",
       "    </tr>\n",
       "  </tbody>\n",
       "</table>\n",
       "</div>"
      ],
      "text/plain": [
       "           Model  F1 Score  Precision    Recall  AUC Score\n",
       "0            GBM  0.728471   0.987460  0.722694   0.690368\n",
       "1  Deep Learning  0.718002   0.995540  0.717329   0.676931\n",
       "2        XGBoost  0.665310   0.709298  0.733465   0.552384"
      ]
     },
     "execution_count": 87,
     "metadata": {},
     "output_type": "execute_result"
    }
   ],
   "source": [
    "scores_df_af"
   ]
  },
  {
   "cell_type": "markdown",
   "id": "694f3a97",
   "metadata": {},
   "source": [
    "The resulting base models and models generated from the experiments are a bit mixed. However, it's obvious that the models from the experiment with both original and engineered features included perform worse than the base model and the one with no multicolinearity.\n",
    "\n",
    "The best AUC scores are generated from the base models, with the highest being the base GBM model. However, the GBM model with no multicolinearity holds the best precision score. In terms of scores, this model outperforms the best GBM model apart from the AUC score. The deep learning model with no multicolinearity has the best F1 and recall scores. However, although the precision score is quite high, it dropped from the base deep learning model.\n",
    "\n",
    "For me, the best model I have to choose depends on the requirements of the user. If the user demands a high precision score, I will go with the GBM model with no multicolinearity. If the user wants the highest recall or F1 score, I will go with the deep learning model with no multicolinearity. If the concern is the AUC score, I will go with the base GBM model.\n",
    "\n",
    "For this project, I choose the deep learning model with no multicolinearity (dl_grid_model_66) since in general, it performs quite well. Although I have to sacrifice the precision and AUC scores. The model explainability are as follows: "
   ]
  },
  {
   "cell_type": "code",
   "execution_count": 31,
   "id": "da13406a",
   "metadata": {},
   "outputs": [
    {
     "data": {
      "image/png": "[encoded data removed]",
      "text/plain": [
       "<Figure size 1400x1000 with 1 Axes>"
      ]
     },
     "metadata": {},
     "output_type": "display_data"
    },
    {
     "data": {
      "text/plain": [
       "<h2o.plot._plot_result._MObject at 0x22a15a90910>"
      ]
     },
     "execution_count": 31,
     "metadata": {},
     "output_type": "execute_result"
    },
    {
     "data": {
      "text/plain": [
       "<Figure size 640x480 with 0 Axes>"
      ]
     },
     "metadata": {},
     "output_type": "display_data"
    }
   ],
   "source": [
    "best_dl_model.varimp_plot()"
   ]
  },
  {
   "cell_type": "markdown",
   "id": "300847d2",
   "metadata": {},
   "source": [
    "The barchart indicates that the top 3 most important features are credit_score, credit_utilization_ratio, and current_loan_amount. They affect the model's prediction the most. It has to be noted, however, that deep learning models are considerable more chalenging to interpret. For this model, as far as I know, the H2O varimp plot works better with tree-based model compared to deep learning model. If I need to interpret this model well, I might need to create it from scratch using tensorflow or pytorch, and use SHAP vales or Grad-cam techniques to do so."
   ]
  },
  {
   "cell_type": "markdown",
   "id": "959b40c2",
   "metadata": {},
   "source": [
    "## Conclusion\n",
    "From these 2 experiments, I was able to get the best model to make predictions. Since this is just a project with the aim to hone my skills, I limit the experiments into 2 because training the models take a long time. Usually, I try to get the scores as high as possible by getting new data, engineer more features, or mix-and-match the features. For example, I might do more experiments by using the engineered features and bankruptcies, the engineered features with tax_liens, or the engineered features with both. And I will strive to get the demographic features (such as age, sex, location, type of jobs, etc.) from the data engineers and create more features based on that. \n",
    "\n",
    "Usually, I select the best model based on the task requirements. Some might want to have the highest precision so that the user is confident that the loans given to applicants will be paid, and some might want to have the highest recall so that the chance of losing business is the lowest. For this project, I choose the deep learning model with no multicolinearity since in general, it performs well.\n",
    "\n",
    "In the next notebook, I will create a prediction pipeline for the model. However, I will first deploy the model using FastAPI since this is not that big of a model. Then, I will build the pipeline for the prediction, accounting for any feature I created in this notebook."
   ]
  }
 ],
 "metadata": {
  "kernelspec": {
   "display_name": "H2O Loan Prediction",
   "language": "python",
   "name": "h2o_loan_classification"
  },
  "language_info": {
   "codemirror_mode": {
    "name": "ipython",
    "version": 3
   },
   "file_extension": ".py",
   "mimetype": "text/x-python",
   "name": "python",
   "nbconvert_exporter": "python",
   "pygments_lexer": "ipython3",
   "version": "3.11.4"
  }
 },
 "nbformat": 4,
 "nbformat_minor": 5
}
