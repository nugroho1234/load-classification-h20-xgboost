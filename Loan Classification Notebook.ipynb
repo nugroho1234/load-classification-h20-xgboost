{
 "cells": [
  {
   "cell_type": "code",
   "execution_count": 1,
   "id": "aa24b366",
   "metadata": {},
   "outputs": [],
   "source": [
    "#basic libraries\n",
    "import h2o\n",
    "import numpy as np\n",
    "import pandas as pd\n",
    "import re\n",
    "\n",
    "#scikit-learn libraries\n",
    "from sklearn.preprocessing import LabelBinarizer, StandardScaler, MinMaxScaler\n",
    "from sklearn.model_selection import train_test_split\n",
    "from sklearn.impute import KNNImputer\n",
    "\n",
    "#h2o models and grid search\n",
    "from h2o.estimators.gbm import H2OGradientBoostingEstimator\n",
    "from h2o.estimators import H2OXGBoostEstimator\n",
    "from h2o.estimators.deeplearning import H2ODeepLearningEstimator\n",
    "from h2o.grid.grid_search import H2OGridSearch\n",
    "\n",
    "#plotting libraries\n",
    "import matplotlib.pyplot as plt\n",
    "import seaborn as sns"
   ]
  },
  {
   "cell_type": "code",
   "execution_count": 2,
   "id": "ba146451",
   "metadata": {},
   "outputs": [
    {
     "name": "stderr",
     "output_type": "stream",
     "text": [
      "C:\\Users\\agust\\AppData\\Local\\Temp\\ipykernel_36036\\403483046.py:1: DtypeWarning: Columns (10,16) have mixed types. Specify dtype option on import or set low_memory=False.\n",
      "  df = pd.read_csv('data/LoansTrainingSetV2.csv')\n"
     ]
    }
   ],
   "source": [
    "df = pd.read_csv('data/LoansTrainingSetV2.csv')"
   ]
  },
  {
   "cell_type": "code",
   "execution_count": 3,
   "id": "172ea783",
   "metadata": {},
   "outputs": [
    {
     "data": {
      "text/html": [
       "<div>\n",
       "<style scoped>\n",
       "    .dataframe tbody tr th:only-of-type {\n",
       "        vertical-align: middle;\n",
       "    }\n",
       "\n",
       "    .dataframe tbody tr th {\n",
       "        vertical-align: top;\n",
       "    }\n",
       "\n",
       "    .dataframe thead th {\n",
       "        text-align: right;\n",
       "    }\n",
       "</style>\n",
       "<table border=\"1\" class=\"dataframe\">\n",
       "  <thead>\n",
       "    <tr style=\"text-align: right;\">\n",
       "      <th></th>\n",
       "      <th>Loan ID</th>\n",
       "      <th>Customer ID</th>\n",
       "      <th>Loan Status</th>\n",
       "      <th>Current Loan Amount</th>\n",
       "      <th>Term</th>\n",
       "      <th>Credit Score</th>\n",
       "      <th>Years in current job</th>\n",
       "      <th>Home Ownership</th>\n",
       "      <th>Annual Income</th>\n",
       "      <th>Purpose</th>\n",
       "      <th>Monthly Debt</th>\n",
       "      <th>Years of Credit History</th>\n",
       "      <th>Months since last delinquent</th>\n",
       "      <th>Number of Open Accounts</th>\n",
       "      <th>Number of Credit Problems</th>\n",
       "      <th>Current Credit Balance</th>\n",
       "      <th>Maximum Open Credit</th>\n",
       "      <th>Bankruptcies</th>\n",
       "      <th>Tax Liens</th>\n",
       "    </tr>\n",
       "  </thead>\n",
       "  <tbody>\n",
       "    <tr>\n",
       "      <th>0</th>\n",
       "      <td>6cf51492-02a2-423e-b93d-676f05b9ad53</td>\n",
       "      <td>7c202b37-2add-44e8-9aea-d5b119aea935</td>\n",
       "      <td>Loan Refused</td>\n",
       "      <td>12232</td>\n",
       "      <td>Short Term</td>\n",
       "      <td>7280.0</td>\n",
       "      <td>&lt; 1 year</td>\n",
       "      <td>Rent</td>\n",
       "      <td>46643.0</td>\n",
       "      <td>Debt Consolidation</td>\n",
       "      <td>777.39</td>\n",
       "      <td>18.0</td>\n",
       "      <td>10.0</td>\n",
       "      <td>12</td>\n",
       "      <td>0</td>\n",
       "      <td>6762</td>\n",
       "      <td>7946</td>\n",
       "      <td>0.0</td>\n",
       "      <td>0.0</td>\n",
       "    </tr>\n",
       "    <tr>\n",
       "      <th>1</th>\n",
       "      <td>552e7ade-4292-4354-9ff9-c48031697d72</td>\n",
       "      <td>e7217b0a-07ac-47dd-b379-577b5a35b7c6</td>\n",
       "      <td>Loan Refused</td>\n",
       "      <td>25014</td>\n",
       "      <td>Long Term</td>\n",
       "      <td>7330.0</td>\n",
       "      <td>10+ years</td>\n",
       "      <td>Home Mortgage</td>\n",
       "      <td>81099.0</td>\n",
       "      <td>Debt Consolidation</td>\n",
       "      <td>892.09</td>\n",
       "      <td>26.7</td>\n",
       "      <td>NaN</td>\n",
       "      <td>14</td>\n",
       "      <td>0</td>\n",
       "      <td>35706</td>\n",
       "      <td>77961</td>\n",
       "      <td>0.0</td>\n",
       "      <td>0.0</td>\n",
       "    </tr>\n",
       "    <tr>\n",
       "      <th>2</th>\n",
       "      <td>9b5e32b3-8d76-4801-afc8-d729d5a2e6b9</td>\n",
       "      <td>0a62fc41-16c8-40b5-92ff-9e4b763ce714</td>\n",
       "      <td>Loan Refused</td>\n",
       "      <td>16117</td>\n",
       "      <td>Short Term</td>\n",
       "      <td>7240.0</td>\n",
       "      <td>9 years</td>\n",
       "      <td>Home Mortgage</td>\n",
       "      <td>60438.0</td>\n",
       "      <td>Home Improvements</td>\n",
       "      <td>1244.02</td>\n",
       "      <td>16.7</td>\n",
       "      <td>32.0</td>\n",
       "      <td>11</td>\n",
       "      <td>1</td>\n",
       "      <td>11275</td>\n",
       "      <td>14815</td>\n",
       "      <td>1.0</td>\n",
       "      <td>0.0</td>\n",
       "    </tr>\n",
       "    <tr>\n",
       "      <th>3</th>\n",
       "      <td>5419b7c7-ac11-4be2-a8a7-b131fb6d6dbe</td>\n",
       "      <td>30f36c59-5182-4482-8bbb-5b736849ae43</td>\n",
       "      <td>Loan Refused</td>\n",
       "      <td>11716</td>\n",
       "      <td>Short Term</td>\n",
       "      <td>7400.0</td>\n",
       "      <td>3 years</td>\n",
       "      <td>Rent</td>\n",
       "      <td>34171.0</td>\n",
       "      <td>Debt Consolidation</td>\n",
       "      <td>990.94</td>\n",
       "      <td>10.0</td>\n",
       "      <td>NaN</td>\n",
       "      <td>21</td>\n",
       "      <td>0</td>\n",
       "      <td>7009</td>\n",
       "      <td>43533</td>\n",
       "      <td>0.0</td>\n",
       "      <td>0.0</td>\n",
       "    </tr>\n",
       "    <tr>\n",
       "      <th>4</th>\n",
       "      <td>1450910f-9495-4fc9-afaf-9bdf4b9821df</td>\n",
       "      <td>70c26012-bba5-42c0-8dcb-75295ada31bb</td>\n",
       "      <td>Loan Refused</td>\n",
       "      <td>9789</td>\n",
       "      <td>Long Term</td>\n",
       "      <td>6860.0</td>\n",
       "      <td>10+ years</td>\n",
       "      <td>Home Mortgage</td>\n",
       "      <td>47003.0</td>\n",
       "      <td>Home Improvements</td>\n",
       "      <td>503.71</td>\n",
       "      <td>16.7</td>\n",
       "      <td>25.0</td>\n",
       "      <td>13</td>\n",
       "      <td>1</td>\n",
       "      <td>16913</td>\n",
       "      <td>19553</td>\n",
       "      <td>1.0</td>\n",
       "      <td>0.0</td>\n",
       "    </tr>\n",
       "  </tbody>\n",
       "</table>\n",
       "</div>"
      ],
      "text/plain": [
       "                                Loan ID                           Customer ID  \\\n",
       "0  6cf51492-02a2-423e-b93d-676f05b9ad53  7c202b37-2add-44e8-9aea-d5b119aea935   \n",
       "1  552e7ade-4292-4354-9ff9-c48031697d72  e7217b0a-07ac-47dd-b379-577b5a35b7c6   \n",
       "2  9b5e32b3-8d76-4801-afc8-d729d5a2e6b9  0a62fc41-16c8-40b5-92ff-9e4b763ce714   \n",
       "3  5419b7c7-ac11-4be2-a8a7-b131fb6d6dbe  30f36c59-5182-4482-8bbb-5b736849ae43   \n",
       "4  1450910f-9495-4fc9-afaf-9bdf4b9821df  70c26012-bba5-42c0-8dcb-75295ada31bb   \n",
       "\n",
       "    Loan Status  Current Loan Amount        Term  Credit Score  \\\n",
       "0  Loan Refused                12232  Short Term        7280.0   \n",
       "1  Loan Refused                25014   Long Term        7330.0   \n",
       "2  Loan Refused                16117  Short Term        7240.0   \n",
       "3  Loan Refused                11716  Short Term        7400.0   \n",
       "4  Loan Refused                 9789   Long Term        6860.0   \n",
       "\n",
       "  Years in current job Home Ownership  Annual Income             Purpose  \\\n",
       "0             < 1 year           Rent        46643.0  Debt Consolidation   \n",
       "1            10+ years  Home Mortgage        81099.0  Debt Consolidation   \n",
       "2              9 years  Home Mortgage        60438.0   Home Improvements   \n",
       "3              3 years           Rent        34171.0  Debt Consolidation   \n",
       "4            10+ years  Home Mortgage        47003.0   Home Improvements   \n",
       "\n",
       "  Monthly Debt  Years of Credit History  Months since last delinquent  \\\n",
       "0       777.39                     18.0                          10.0   \n",
       "1       892.09                     26.7                           NaN   \n",
       "2      1244.02                     16.7                          32.0   \n",
       "3       990.94                     10.0                           NaN   \n",
       "4       503.71                     16.7                          25.0   \n",
       "\n",
       "   Number of Open Accounts  Number of Credit Problems  Current Credit Balance  \\\n",
       "0                       12                          0                    6762   \n",
       "1                       14                          0                   35706   \n",
       "2                       11                          1                   11275   \n",
       "3                       21                          0                    7009   \n",
       "4                       13                          1                   16913   \n",
       "\n",
       "  Maximum Open Credit  Bankruptcies  Tax Liens  \n",
       "0                7946           0.0        0.0  \n",
       "1               77961           0.0        0.0  \n",
       "2               14815           1.0        0.0  \n",
       "3               43533           0.0        0.0  \n",
       "4               19553           1.0        0.0  "
      ]
     },
     "execution_count": 3,
     "metadata": {},
     "output_type": "execute_result"
    }
   ],
   "source": [
    "df.head()"
   ]
  },
  {
   "cell_type": "code",
   "execution_count": 4,
   "id": "8e07deec",
   "metadata": {},
   "outputs": [
    {
     "data": {
      "text/plain": [
       "(111105, 19)"
      ]
     },
     "execution_count": 4,
     "metadata": {},
     "output_type": "execute_result"
    }
   ],
   "source": [
    "df.shape"
   ]
  },
  {
   "cell_type": "code",
   "execution_count": 5,
   "id": "f3745c41",
   "metadata": {},
   "outputs": [
    {
     "name": "stdout",
     "output_type": "stream",
     "text": [
      "<class 'pandas.core.frame.DataFrame'>\n",
      "RangeIndex: 111105 entries, 0 to 111104\n",
      "Data columns (total 19 columns):\n",
      " #   Column                        Non-Null Count   Dtype  \n",
      "---  ------                        --------------   -----  \n",
      " 0   Loan ID                       111105 non-null  object \n",
      " 1   Customer ID                   111105 non-null  object \n",
      " 2   Loan Status                   111105 non-null  object \n",
      " 3   Current Loan Amount           111105 non-null  int64  \n",
      " 4   Term                          111105 non-null  object \n",
      " 5   Credit Score                  89767 non-null   float64\n",
      " 6   Years in current job          106412 non-null  object \n",
      " 7   Home Ownership                111105 non-null  object \n",
      " 8   Annual Income                 89767 non-null   float64\n",
      " 9   Purpose                       111105 non-null  object \n",
      " 10  Monthly Debt                  111105 non-null  object \n",
      " 11  Years of Credit History       111105 non-null  float64\n",
      " 12  Months since last delinquent  52102 non-null   float64\n",
      " 13  Number of Open Accounts       111105 non-null  int64  \n",
      " 14  Number of Credit Problems     111105 non-null  int64  \n",
      " 15  Current Credit Balance        111105 non-null  int64  \n",
      " 16  Maximum Open Credit           111105 non-null  object \n",
      " 17  Bankruptcies                  110877 non-null  float64\n",
      " 18  Tax Liens                     111094 non-null  float64\n",
      "dtypes: float64(6), int64(4), object(9)\n",
      "memory usage: 16.1+ MB\n"
     ]
    }
   ],
   "source": [
    "df.info()"
   ]
  },
  {
   "cell_type": "markdown",
   "id": "3f51dd70",
   "metadata": {},
   "source": [
    "The datatypes seems fine. However, I need to inspect Years in current job, Monthly Debt, and Maximum Open Credit column. From my point of view, they shouldn't be object."
   ]
  },
  {
   "cell_type": "code",
   "execution_count": 6,
   "id": "61739030",
   "metadata": {},
   "outputs": [
    {
     "data": {
      "text/html": [
       "<div>\n",
       "<style scoped>\n",
       "    .dataframe tbody tr th:only-of-type {\n",
       "        vertical-align: middle;\n",
       "    }\n",
       "\n",
       "    .dataframe tbody tr th {\n",
       "        vertical-align: top;\n",
       "    }\n",
       "\n",
       "    .dataframe thead th {\n",
       "        text-align: right;\n",
       "    }\n",
       "</style>\n",
       "<table border=\"1\" class=\"dataframe\">\n",
       "  <thead>\n",
       "    <tr style=\"text-align: right;\">\n",
       "      <th></th>\n",
       "      <th>Current Loan Amount</th>\n",
       "      <th>Credit Score</th>\n",
       "      <th>Annual Income</th>\n",
       "      <th>Years of Credit History</th>\n",
       "      <th>Months since last delinquent</th>\n",
       "      <th>Number of Open Accounts</th>\n",
       "      <th>Number of Credit Problems</th>\n",
       "      <th>Current Credit Balance</th>\n",
       "      <th>Bankruptcies</th>\n",
       "      <th>Tax Liens</th>\n",
       "    </tr>\n",
       "  </thead>\n",
       "  <tbody>\n",
       "    <tr>\n",
       "      <th>count</th>\n",
       "      <td>1.111050e+05</td>\n",
       "      <td>89767.000000</td>\n",
       "      <td>8.976700e+04</td>\n",
       "      <td>111105.000000</td>\n",
       "      <td>52102.00000</td>\n",
       "      <td>111105.000000</td>\n",
       "      <td>111105.000000</td>\n",
       "      <td>1.111050e+05</td>\n",
       "      <td>110877.000000</td>\n",
       "      <td>111094.000000</td>\n",
       "    </tr>\n",
       "    <tr>\n",
       "      <th>mean</th>\n",
       "      <td>1.147739e+07</td>\n",
       "      <td>1075.662036</td>\n",
       "      <td>7.248528e+04</td>\n",
       "      <td>18.201012</td>\n",
       "      <td>34.90223</td>\n",
       "      <td>11.125044</td>\n",
       "      <td>0.168021</td>\n",
       "      <td>1.548308e+04</td>\n",
       "      <td>0.117662</td>\n",
       "      <td>0.029354</td>\n",
       "    </tr>\n",
       "    <tr>\n",
       "      <th>std</th>\n",
       "      <td>3.185533e+07</td>\n",
       "      <td>1473.879929</td>\n",
       "      <td>5.593131e+04</td>\n",
       "      <td>7.014530</td>\n",
       "      <td>21.97033</td>\n",
       "      <td>5.010288</td>\n",
       "      <td>0.484210</td>\n",
       "      <td>1.982133e+04</td>\n",
       "      <td>0.351423</td>\n",
       "      <td>0.260577</td>\n",
       "    </tr>\n",
       "    <tr>\n",
       "      <th>min</th>\n",
       "      <td>4.910000e+02</td>\n",
       "      <td>585.000000</td>\n",
       "      <td>4.033000e+03</td>\n",
       "      <td>3.600000</td>\n",
       "      <td>0.00000</td>\n",
       "      <td>0.000000</td>\n",
       "      <td>0.000000</td>\n",
       "      <td>0.000000e+00</td>\n",
       "      <td>0.000000</td>\n",
       "      <td>0.000000</td>\n",
       "    </tr>\n",
       "    <tr>\n",
       "      <th>25%</th>\n",
       "      <td>8.162000e+03</td>\n",
       "      <td>705.000000</td>\n",
       "      <td>4.468700e+04</td>\n",
       "      <td>13.500000</td>\n",
       "      <td>16.00000</td>\n",
       "      <td>8.000000</td>\n",
       "      <td>0.000000</td>\n",
       "      <td>5.905000e+03</td>\n",
       "      <td>0.000000</td>\n",
       "      <td>0.000000</td>\n",
       "    </tr>\n",
       "    <tr>\n",
       "      <th>50%</th>\n",
       "      <td>1.418300e+04</td>\n",
       "      <td>724.000000</td>\n",
       "      <td>6.175200e+04</td>\n",
       "      <td>16.900000</td>\n",
       "      <td>32.00000</td>\n",
       "      <td>10.000000</td>\n",
       "      <td>0.000000</td>\n",
       "      <td>1.102700e+04</td>\n",
       "      <td>0.000000</td>\n",
       "      <td>0.000000</td>\n",
       "    </tr>\n",
       "    <tr>\n",
       "      <th>75%</th>\n",
       "      <td>2.382200e+04</td>\n",
       "      <td>741.000000</td>\n",
       "      <td>8.688700e+04</td>\n",
       "      <td>21.700000</td>\n",
       "      <td>51.00000</td>\n",
       "      <td>14.000000</td>\n",
       "      <td>0.000000</td>\n",
       "      <td>1.933800e+04</td>\n",
       "      <td>0.000000</td>\n",
       "      <td>0.000000</td>\n",
       "    </tr>\n",
       "    <tr>\n",
       "      <th>max</th>\n",
       "      <td>1.000000e+08</td>\n",
       "      <td>7510.000000</td>\n",
       "      <td>8.713547e+06</td>\n",
       "      <td>70.500000</td>\n",
       "      <td>176.00000</td>\n",
       "      <td>76.000000</td>\n",
       "      <td>15.000000</td>\n",
       "      <td>1.730472e+06</td>\n",
       "      <td>7.000000</td>\n",
       "      <td>15.000000</td>\n",
       "    </tr>\n",
       "  </tbody>\n",
       "</table>\n",
       "</div>"
      ],
      "text/plain": [
       "       Current Loan Amount  Credit Score  Annual Income  \\\n",
       "count         1.111050e+05  89767.000000   8.976700e+04   \n",
       "mean          1.147739e+07   1075.662036   7.248528e+04   \n",
       "std           3.185533e+07   1473.879929   5.593131e+04   \n",
       "min           4.910000e+02    585.000000   4.033000e+03   \n",
       "25%           8.162000e+03    705.000000   4.468700e+04   \n",
       "50%           1.418300e+04    724.000000   6.175200e+04   \n",
       "75%           2.382200e+04    741.000000   8.688700e+04   \n",
       "max           1.000000e+08   7510.000000   8.713547e+06   \n",
       "\n",
       "       Years of Credit History  Months since last delinquent  \\\n",
       "count            111105.000000                   52102.00000   \n",
       "mean                 18.201012                      34.90223   \n",
       "std                   7.014530                      21.97033   \n",
       "min                   3.600000                       0.00000   \n",
       "25%                  13.500000                      16.00000   \n",
       "50%                  16.900000                      32.00000   \n",
       "75%                  21.700000                      51.00000   \n",
       "max                  70.500000                     176.00000   \n",
       "\n",
       "       Number of Open Accounts  Number of Credit Problems  \\\n",
       "count            111105.000000              111105.000000   \n",
       "mean                 11.125044                   0.168021   \n",
       "std                   5.010288                   0.484210   \n",
       "min                   0.000000                   0.000000   \n",
       "25%                   8.000000                   0.000000   \n",
       "50%                  10.000000                   0.000000   \n",
       "75%                  14.000000                   0.000000   \n",
       "max                  76.000000                  15.000000   \n",
       "\n",
       "       Current Credit Balance   Bankruptcies      Tax Liens  \n",
       "count            1.111050e+05  110877.000000  111094.000000  \n",
       "mean             1.548308e+04       0.117662       0.029354  \n",
       "std              1.982133e+04       0.351423       0.260577  \n",
       "min              0.000000e+00       0.000000       0.000000  \n",
       "25%              5.905000e+03       0.000000       0.000000  \n",
       "50%              1.102700e+04       0.000000       0.000000  \n",
       "75%              1.933800e+04       0.000000       0.000000  \n",
       "max              1.730472e+06       7.000000      15.000000  "
      ]
     },
     "execution_count": 6,
     "metadata": {},
     "output_type": "execute_result"
    }
   ],
   "source": [
    "df.describe()"
   ]
  },
  {
   "cell_type": "code",
   "execution_count": 7,
   "id": "d10540e1",
   "metadata": {},
   "outputs": [
    {
     "data": {
      "text/plain": [
       "Loan ID                             0\n",
       "Customer ID                         0\n",
       "Loan Status                         0\n",
       "Current Loan Amount                 0\n",
       "Term                                0\n",
       "Credit Score                    21338\n",
       "Years in current job             4693\n",
       "Home Ownership                      0\n",
       "Annual Income                   21338\n",
       "Purpose                             0\n",
       "Monthly Debt                        0\n",
       "Years of Credit History             0\n",
       "Months since last delinquent    59003\n",
       "Number of Open Accounts             0\n",
       "Number of Credit Problems           0\n",
       "Current Credit Balance              0\n",
       "Maximum Open Credit                 0\n",
       "Bankruptcies                      228\n",
       "Tax Liens                          11\n",
       "dtype: int64"
      ]
     },
     "execution_count": 7,
     "metadata": {},
     "output_type": "execute_result"
    }
   ],
   "source": [
    "df.isnull().sum()"
   ]
  },
  {
   "cell_type": "markdown",
   "id": "30dd2ae8",
   "metadata": {},
   "source": [
    "There are 6 columns with missing values. The column Months since last delinquent has the most missing values, and it might be problematic. It's followed by Credit Score and Annual Income. I need to see what the data looks like before deciding which strategy I should implement for data imputation."
   ]
  },
  {
   "cell_type": "markdown",
   "id": "c56e5452",
   "metadata": {},
   "source": [
    "# EDA\n",
    "\n",
    "Before imputing the missing data, I will perform EDA to understand the data better. First of all, I will convert the column names into snake case to make it easier to call later.\n",
    "\n",
    "I will start with the EDA for single variables."
   ]
  },
  {
   "cell_type": "code",
   "execution_count": 8,
   "id": "a0cf1115",
   "metadata": {},
   "outputs": [],
   "source": [
    "def clean_columns(column_list):\n",
    "    all_cols = column_list\n",
    "    \n",
    "    modified_list = []\n",
    "\n",
    "    for item in all_cols:\n",
    "        item = str(item).lower()\n",
    "        modified_item = re.sub(r'[^a-zA-Z0-9]', '_', item)\n",
    "        modified_list.append(modified_item)\n",
    "    \n",
    "    final_list = []\n",
    "    \n",
    "    for i in modified_list:\n",
    "        cleaned_column_name = re.sub(r'_+', '_', i)\n",
    "        final_list.append(cleaned_column_name)\n",
    "    \n",
    "    final_list = [col.strip('_') for col in final_list]\n",
    "        \n",
    "    return final_list"
   ]
  },
  {
   "cell_type": "code",
   "execution_count": 129,
   "id": "0765c246",
   "metadata": {},
   "outputs": [],
   "source": [
    "df.columns = clean_columns(df.columns.tolist())"
   ]
  },
  {
   "cell_type": "code",
   "execution_count": 10,
   "id": "ee523316",
   "metadata": {},
   "outputs": [
    {
     "data": {
      "text/html": [
       "<div>\n",
       "<style scoped>\n",
       "    .dataframe tbody tr th:only-of-type {\n",
       "        vertical-align: middle;\n",
       "    }\n",
       "\n",
       "    .dataframe tbody tr th {\n",
       "        vertical-align: top;\n",
       "    }\n",
       "\n",
       "    .dataframe thead th {\n",
       "        text-align: right;\n",
       "    }\n",
       "</style>\n",
       "<table border=\"1\" class=\"dataframe\">\n",
       "  <thead>\n",
       "    <tr style=\"text-align: right;\">\n",
       "      <th></th>\n",
       "      <th>loan_id</th>\n",
       "      <th>customer_id</th>\n",
       "      <th>loan_status</th>\n",
       "      <th>current_loan_amount</th>\n",
       "      <th>term</th>\n",
       "      <th>credit_score</th>\n",
       "      <th>years_in_current_job</th>\n",
       "      <th>home_ownership</th>\n",
       "      <th>annual_income</th>\n",
       "      <th>purpose</th>\n",
       "      <th>monthly_debt</th>\n",
       "      <th>years_of_credit_history</th>\n",
       "      <th>months_since_last_delinquent</th>\n",
       "      <th>number_of_open_accounts</th>\n",
       "      <th>number_of_credit_problems</th>\n",
       "      <th>current_credit_balance</th>\n",
       "      <th>maximum_open_credit</th>\n",
       "      <th>bankruptcies</th>\n",
       "      <th>tax_liens</th>\n",
       "    </tr>\n",
       "  </thead>\n",
       "  <tbody>\n",
       "    <tr>\n",
       "      <th>0</th>\n",
       "      <td>6cf51492-02a2-423e-b93d-676f05b9ad53</td>\n",
       "      <td>7c202b37-2add-44e8-9aea-d5b119aea935</td>\n",
       "      <td>Loan Refused</td>\n",
       "      <td>12232</td>\n",
       "      <td>Short Term</td>\n",
       "      <td>7280.0</td>\n",
       "      <td>&lt; 1 year</td>\n",
       "      <td>Rent</td>\n",
       "      <td>46643.0</td>\n",
       "      <td>Debt Consolidation</td>\n",
       "      <td>777.39</td>\n",
       "      <td>18.0</td>\n",
       "      <td>10.0</td>\n",
       "      <td>12</td>\n",
       "      <td>0</td>\n",
       "      <td>6762</td>\n",
       "      <td>7946</td>\n",
       "      <td>0.0</td>\n",
       "      <td>0.0</td>\n",
       "    </tr>\n",
       "    <tr>\n",
       "      <th>1</th>\n",
       "      <td>552e7ade-4292-4354-9ff9-c48031697d72</td>\n",
       "      <td>e7217b0a-07ac-47dd-b379-577b5a35b7c6</td>\n",
       "      <td>Loan Refused</td>\n",
       "      <td>25014</td>\n",
       "      <td>Long Term</td>\n",
       "      <td>7330.0</td>\n",
       "      <td>10+ years</td>\n",
       "      <td>Home Mortgage</td>\n",
       "      <td>81099.0</td>\n",
       "      <td>Debt Consolidation</td>\n",
       "      <td>892.09</td>\n",
       "      <td>26.7</td>\n",
       "      <td>NaN</td>\n",
       "      <td>14</td>\n",
       "      <td>0</td>\n",
       "      <td>35706</td>\n",
       "      <td>77961</td>\n",
       "      <td>0.0</td>\n",
       "      <td>0.0</td>\n",
       "    </tr>\n",
       "    <tr>\n",
       "      <th>2</th>\n",
       "      <td>9b5e32b3-8d76-4801-afc8-d729d5a2e6b9</td>\n",
       "      <td>0a62fc41-16c8-40b5-92ff-9e4b763ce714</td>\n",
       "      <td>Loan Refused</td>\n",
       "      <td>16117</td>\n",
       "      <td>Short Term</td>\n",
       "      <td>7240.0</td>\n",
       "      <td>9 years</td>\n",
       "      <td>Home Mortgage</td>\n",
       "      <td>60438.0</td>\n",
       "      <td>Home Improvements</td>\n",
       "      <td>1244.02</td>\n",
       "      <td>16.7</td>\n",
       "      <td>32.0</td>\n",
       "      <td>11</td>\n",
       "      <td>1</td>\n",
       "      <td>11275</td>\n",
       "      <td>14815</td>\n",
       "      <td>1.0</td>\n",
       "      <td>0.0</td>\n",
       "    </tr>\n",
       "    <tr>\n",
       "      <th>3</th>\n",
       "      <td>5419b7c7-ac11-4be2-a8a7-b131fb6d6dbe</td>\n",
       "      <td>30f36c59-5182-4482-8bbb-5b736849ae43</td>\n",
       "      <td>Loan Refused</td>\n",
       "      <td>11716</td>\n",
       "      <td>Short Term</td>\n",
       "      <td>7400.0</td>\n",
       "      <td>3 years</td>\n",
       "      <td>Rent</td>\n",
       "      <td>34171.0</td>\n",
       "      <td>Debt Consolidation</td>\n",
       "      <td>990.94</td>\n",
       "      <td>10.0</td>\n",
       "      <td>NaN</td>\n",
       "      <td>21</td>\n",
       "      <td>0</td>\n",
       "      <td>7009</td>\n",
       "      <td>43533</td>\n",
       "      <td>0.0</td>\n",
       "      <td>0.0</td>\n",
       "    </tr>\n",
       "    <tr>\n",
       "      <th>4</th>\n",
       "      <td>1450910f-9495-4fc9-afaf-9bdf4b9821df</td>\n",
       "      <td>70c26012-bba5-42c0-8dcb-75295ada31bb</td>\n",
       "      <td>Loan Refused</td>\n",
       "      <td>9789</td>\n",
       "      <td>Long Term</td>\n",
       "      <td>6860.0</td>\n",
       "      <td>10+ years</td>\n",
       "      <td>Home Mortgage</td>\n",
       "      <td>47003.0</td>\n",
       "      <td>Home Improvements</td>\n",
       "      <td>503.71</td>\n",
       "      <td>16.7</td>\n",
       "      <td>25.0</td>\n",
       "      <td>13</td>\n",
       "      <td>1</td>\n",
       "      <td>16913</td>\n",
       "      <td>19553</td>\n",
       "      <td>1.0</td>\n",
       "      <td>0.0</td>\n",
       "    </tr>\n",
       "  </tbody>\n",
       "</table>\n",
       "</div>"
      ],
      "text/plain": [
       "                                loan_id                           customer_id  \\\n",
       "0  6cf51492-02a2-423e-b93d-676f05b9ad53  7c202b37-2add-44e8-9aea-d5b119aea935   \n",
       "1  552e7ade-4292-4354-9ff9-c48031697d72  e7217b0a-07ac-47dd-b379-577b5a35b7c6   \n",
       "2  9b5e32b3-8d76-4801-afc8-d729d5a2e6b9  0a62fc41-16c8-40b5-92ff-9e4b763ce714   \n",
       "3  5419b7c7-ac11-4be2-a8a7-b131fb6d6dbe  30f36c59-5182-4482-8bbb-5b736849ae43   \n",
       "4  1450910f-9495-4fc9-afaf-9bdf4b9821df  70c26012-bba5-42c0-8dcb-75295ada31bb   \n",
       "\n",
       "    loan_status  current_loan_amount        term  credit_score  \\\n",
       "0  Loan Refused                12232  Short Term        7280.0   \n",
       "1  Loan Refused                25014   Long Term        7330.0   \n",
       "2  Loan Refused                16117  Short Term        7240.0   \n",
       "3  Loan Refused                11716  Short Term        7400.0   \n",
       "4  Loan Refused                 9789   Long Term        6860.0   \n",
       "\n",
       "  years_in_current_job home_ownership  annual_income             purpose  \\\n",
       "0             < 1 year           Rent        46643.0  Debt Consolidation   \n",
       "1            10+ years  Home Mortgage        81099.0  Debt Consolidation   \n",
       "2              9 years  Home Mortgage        60438.0   Home Improvements   \n",
       "3              3 years           Rent        34171.0  Debt Consolidation   \n",
       "4            10+ years  Home Mortgage        47003.0   Home Improvements   \n",
       "\n",
       "  monthly_debt  years_of_credit_history  months_since_last_delinquent  \\\n",
       "0       777.39                     18.0                          10.0   \n",
       "1       892.09                     26.7                           NaN   \n",
       "2      1244.02                     16.7                          32.0   \n",
       "3       990.94                     10.0                           NaN   \n",
       "4       503.71                     16.7                          25.0   \n",
       "\n",
       "   number_of_open_accounts  number_of_credit_problems  current_credit_balance  \\\n",
       "0                       12                          0                    6762   \n",
       "1                       14                          0                   35706   \n",
       "2                       11                          1                   11275   \n",
       "3                       21                          0                    7009   \n",
       "4                       13                          1                   16913   \n",
       "\n",
       "  maximum_open_credit  bankruptcies  tax_liens  \n",
       "0                7946           0.0        0.0  \n",
       "1               77961           0.0        0.0  \n",
       "2               14815           1.0        0.0  \n",
       "3               43533           0.0        0.0  \n",
       "4               19553           1.0        0.0  "
      ]
     },
     "execution_count": 10,
     "metadata": {},
     "output_type": "execute_result"
    }
   ],
   "source": [
    "df.head()"
   ]
  },
  {
   "cell_type": "code",
   "execution_count": 66,
   "id": "051f9c49",
   "metadata": {},
   "outputs": [],
   "source": [
    "def create_bar_chart(df,col,rotation=0):\n",
    "    value_counts_series = df[col].value_counts()\n",
    "\n",
    "    # Create a bar chart using Seaborn\n",
    "    sns.barplot(x=value_counts_series.index, y=value_counts_series.values)\n",
    "\n",
    "    # Add labels and title\n",
    "    plt.xlabel(col.replace('_',' ').title())\n",
    "    plt.ylabel('Count')\n",
    "    plt.title('Distribution of ' + col.replace('_',' ').title())\n",
    "\n",
    "    plt.xticks(rotation=rotation)\n",
    "\n",
    "    # Show the plot\n",
    "    plt.show();"
   ]
  },
  {
   "cell_type": "code",
   "execution_count": 50,
   "id": "59add60f",
   "metadata": {},
   "outputs": [],
   "source": [
    "def create_histogram(df,col):\n",
    "    plt.hist(df[col])\n",
    "    plt.title('Histogram of ' + col.replace('_',' ').title())\n",
    "    plt.show()"
   ]
  },
  {
   "cell_type": "markdown",
   "id": "142705dd",
   "metadata": {},
   "source": [
    "### Loan Status\n",
    "I will check whether there are class imbalances in this column."
   ]
  },
  {
   "cell_type": "code",
   "execution_count": 13,
   "id": "83442c0b",
   "metadata": {},
   "outputs": [
    {
     "data": {
      "text/plain": [
       "loan_status\n",
       "Loan Given      85934\n",
       "Loan Refused    25171\n",
       "Name: count, dtype: int64"
      ]
     },
     "execution_count": 13,
     "metadata": {},
     "output_type": "execute_result"
    }
   ],
   "source": [
    "df.loan_status.value_counts()"
   ]
  },
  {
   "cell_type": "code",
   "execution_count": 17,
   "id": "1776d1e5",
   "metadata": {},
   "outputs": [
    {
     "data": {
      "text/plain": [
       "'loan_status'"
      ]
     },
     "execution_count": 17,
     "metadata": {},
     "output_type": "execute_result"
    }
   ],
   "source": [
    "df.loan_status.value_counts().index.name"
   ]
  },
  {
   "cell_type": "code",
   "execution_count": 67,
   "id": "b3ea647f",
   "metadata": {},
   "outputs": [
    {
     "data": {
      "image/png": "[encoded data removed]",
      "text/plain": [
       "<Figure size 640x480 with 1 Axes>"
      ]
     },
     "metadata": {},
     "output_type": "display_data"
    }
   ],
   "source": [
    "create_bar_chart(df,'loan_status')"
   ]
  },
  {
   "cell_type": "markdown",
   "id": "aa2c303d",
   "metadata": {},
   "source": [
    "According to the bar chart, there is a class imbalance in the loan status column where there are significantly more loan given compared to loan refused.\n",
    "\n",
    "Next, I'll create a histogram of the current loan amount column to understand the data distribution."
   ]
  },
  {
   "cell_type": "code",
   "execution_count": 53,
   "id": "2b2e1799",
   "metadata": {},
   "outputs": [
    {
     "data": {
      "image/png": "[encoded data removed]",
      "text/plain": [
       "<Figure size 640x480 with 1 Axes>"
      ]
     },
     "metadata": {},
     "output_type": "display_data"
    }
   ],
   "source": [
    "create_histogram(df,'current_loan_amount')"
   ]
  },
  {
   "cell_type": "markdown",
   "id": "6fe2a26b",
   "metadata": {},
   "source": [
    "There are extreme values in the histogram, shown by the bar on the far right. The values are:"
   ]
  },
  {
   "cell_type": "code",
   "execution_count": 40,
   "id": "b73dec68",
   "metadata": {},
   "outputs": [
    {
     "data": {
      "text/html": [
       "<div>\n",
       "<style scoped>\n",
       "    .dataframe tbody tr th:only-of-type {\n",
       "        vertical-align: middle;\n",
       "    }\n",
       "\n",
       "    .dataframe tbody tr th {\n",
       "        vertical-align: top;\n",
       "    }\n",
       "\n",
       "    .dataframe thead th {\n",
       "        text-align: right;\n",
       "    }\n",
       "</style>\n",
       "<table border=\"1\" class=\"dataframe\">\n",
       "  <thead>\n",
       "    <tr style=\"text-align: right;\">\n",
       "      <th></th>\n",
       "      <th>loan_id</th>\n",
       "      <th>customer_id</th>\n",
       "      <th>loan_status</th>\n",
       "      <th>current_loan_amount</th>\n",
       "      <th>term</th>\n",
       "      <th>credit_score</th>\n",
       "      <th>years_in_current_job</th>\n",
       "      <th>home_ownership</th>\n",
       "      <th>annual_income</th>\n",
       "      <th>purpose</th>\n",
       "      <th>monthly_debt</th>\n",
       "      <th>years_of_credit_history</th>\n",
       "      <th>months_since_last_delinquent</th>\n",
       "      <th>number_of_open_accounts</th>\n",
       "      <th>number_of_credit_problems</th>\n",
       "      <th>current_credit_balance</th>\n",
       "      <th>maximum_open_credit</th>\n",
       "      <th>bankruptcies</th>\n",
       "      <th>tax_liens</th>\n",
       "    </tr>\n",
       "  </thead>\n",
       "  <tbody>\n",
       "    <tr>\n",
       "      <th>5042</th>\n",
       "      <td>bac918fa-35e0-40a2-af65-58b456a742e7</td>\n",
       "      <td>c96da120-30d2-4acd-9740-e4d280f4bfcb</td>\n",
       "      <td>Loan Given</td>\n",
       "      <td>99999999</td>\n",
       "      <td>Short Term</td>\n",
       "      <td>739.0</td>\n",
       "      <td>3 years</td>\n",
       "      <td>Home Mortgage</td>\n",
       "      <td>60012.0</td>\n",
       "      <td>Home Improvements</td>\n",
       "      <td>1295.26</td>\n",
       "      <td>16.6</td>\n",
       "      <td>33.0</td>\n",
       "      <td>16</td>\n",
       "      <td>0</td>\n",
       "      <td>427</td>\n",
       "      <td>8542</td>\n",
       "      <td>0.0</td>\n",
       "      <td>0.0</td>\n",
       "    </tr>\n",
       "    <tr>\n",
       "      <th>5043</th>\n",
       "      <td>bb983383-0aa0-4d13-9b7f-05f694672374</td>\n",
       "      <td>d602647a-0820-4025-b93d-9f962f958acf</td>\n",
       "      <td>Loan Given</td>\n",
       "      <td>99999999</td>\n",
       "      <td>Short Term</td>\n",
       "      <td>704.0</td>\n",
       "      <td>9 years</td>\n",
       "      <td>Rent</td>\n",
       "      <td>54802.0</td>\n",
       "      <td>Debt Consolidation</td>\n",
       "      <td>1114.31</td>\n",
       "      <td>16.9</td>\n",
       "      <td>30.0</td>\n",
       "      <td>12</td>\n",
       "      <td>0</td>\n",
       "      <td>4716</td>\n",
       "      <td>5822</td>\n",
       "      <td>0.0</td>\n",
       "      <td>0.0</td>\n",
       "    </tr>\n",
       "    <tr>\n",
       "      <th>5044</th>\n",
       "      <td>0c7fcf5e-ec4a-46d5-8175-15c846df7c74</td>\n",
       "      <td>a709e893-b6b6-49ed-b775-bdef1155c78d</td>\n",
       "      <td>Loan Given</td>\n",
       "      <td>99999999</td>\n",
       "      <td>Short Term</td>\n",
       "      <td>751.0</td>\n",
       "      <td>5 years</td>\n",
       "      <td>Rent</td>\n",
       "      <td>35693.0</td>\n",
       "      <td>Debt Consolidation</td>\n",
       "      <td>626.12</td>\n",
       "      <td>11.0</td>\n",
       "      <td>NaN</td>\n",
       "      <td>7</td>\n",
       "      <td>0</td>\n",
       "      <td>742</td>\n",
       "      <td>9166</td>\n",
       "      <td>0.0</td>\n",
       "      <td>0.0</td>\n",
       "    </tr>\n",
       "    <tr>\n",
       "      <th>5045</th>\n",
       "      <td>878c4189-bd53-4836-a16d-203519034758</td>\n",
       "      <td>64fa8876-80fa-4a69-b16b-144a8ecfb14a</td>\n",
       "      <td>Loan Given</td>\n",
       "      <td>99999999</td>\n",
       "      <td>Short Term</td>\n",
       "      <td>735.0</td>\n",
       "      <td>NaN</td>\n",
       "      <td>Home Mortgage</td>\n",
       "      <td>33884.0</td>\n",
       "      <td>Debt Consolidation</td>\n",
       "      <td>683.34</td>\n",
       "      <td>18.9</td>\n",
       "      <td>10.0</td>\n",
       "      <td>12</td>\n",
       "      <td>0</td>\n",
       "      <td>10835</td>\n",
       "      <td>18028</td>\n",
       "      <td>0.0</td>\n",
       "      <td>0.0</td>\n",
       "    </tr>\n",
       "    <tr>\n",
       "      <th>5046</th>\n",
       "      <td>193ac878-4d50-4be0-995b-20896ebc9ad8</td>\n",
       "      <td>02a4bc6d-db02-406b-9bf6-8e0dd42782eb</td>\n",
       "      <td>Loan Given</td>\n",
       "      <td>99999999</td>\n",
       "      <td>Short Term</td>\n",
       "      <td>745.0</td>\n",
       "      <td>3 years</td>\n",
       "      <td>Own Home</td>\n",
       "      <td>103343.0</td>\n",
       "      <td>Debt Consolidation</td>\n",
       "      <td>1300.41</td>\n",
       "      <td>14.1</td>\n",
       "      <td>NaN</td>\n",
       "      <td>14</td>\n",
       "      <td>0</td>\n",
       "      <td>22746</td>\n",
       "      <td>42835</td>\n",
       "      <td>0.0</td>\n",
       "      <td>0.0</td>\n",
       "    </tr>\n",
       "  </tbody>\n",
       "</table>\n",
       "</div>"
      ],
      "text/plain": [
       "                                   loan_id  \\\n",
       "5042  bac918fa-35e0-40a2-af65-58b456a742e7   \n",
       "5043  bb983383-0aa0-4d13-9b7f-05f694672374   \n",
       "5044  0c7fcf5e-ec4a-46d5-8175-15c846df7c74   \n",
       "5045  878c4189-bd53-4836-a16d-203519034758   \n",
       "5046  193ac878-4d50-4be0-995b-20896ebc9ad8   \n",
       "\n",
       "                               customer_id loan_status  current_loan_amount  \\\n",
       "5042  c96da120-30d2-4acd-9740-e4d280f4bfcb  Loan Given             99999999   \n",
       "5043  d602647a-0820-4025-b93d-9f962f958acf  Loan Given             99999999   \n",
       "5044  a709e893-b6b6-49ed-b775-bdef1155c78d  Loan Given             99999999   \n",
       "5045  64fa8876-80fa-4a69-b16b-144a8ecfb14a  Loan Given             99999999   \n",
       "5046  02a4bc6d-db02-406b-9bf6-8e0dd42782eb  Loan Given             99999999   \n",
       "\n",
       "            term  credit_score years_in_current_job home_ownership  \\\n",
       "5042  Short Term         739.0              3 years  Home Mortgage   \n",
       "5043  Short Term         704.0              9 years           Rent   \n",
       "5044  Short Term         751.0              5 years           Rent   \n",
       "5045  Short Term         735.0                  NaN  Home Mortgage   \n",
       "5046  Short Term         745.0              3 years       Own Home   \n",
       "\n",
       "      annual_income             purpose monthly_debt  years_of_credit_history  \\\n",
       "5042        60012.0   Home Improvements      1295.26                     16.6   \n",
       "5043        54802.0  Debt Consolidation      1114.31                     16.9   \n",
       "5044        35693.0  Debt Consolidation       626.12                     11.0   \n",
       "5045        33884.0  Debt Consolidation       683.34                     18.9   \n",
       "5046       103343.0  Debt Consolidation      1300.41                     14.1   \n",
       "\n",
       "      months_since_last_delinquent  number_of_open_accounts  \\\n",
       "5042                          33.0                       16   \n",
       "5043                          30.0                       12   \n",
       "5044                           NaN                        7   \n",
       "5045                          10.0                       12   \n",
       "5046                           NaN                       14   \n",
       "\n",
       "      number_of_credit_problems  current_credit_balance maximum_open_credit  \\\n",
       "5042                          0                     427                8542   \n",
       "5043                          0                    4716                5822   \n",
       "5044                          0                     742                9166   \n",
       "5045                          0                   10835               18028   \n",
       "5046                          0                   22746               42835   \n",
       "\n",
       "      bankruptcies  tax_liens  \n",
       "5042           0.0        0.0  \n",
       "5043           0.0        0.0  \n",
       "5044           0.0        0.0  \n",
       "5045           0.0        0.0  \n",
       "5046           0.0        0.0  "
      ]
     },
     "execution_count": 40,
     "metadata": {},
     "output_type": "execute_result"
    }
   ],
   "source": [
    "df[df.current_loan_amount == df.current_loan_amount.max()].head()"
   ]
  },
  {
   "cell_type": "code",
   "execution_count": 29,
   "id": "0b78056a",
   "metadata": {},
   "outputs": [
    {
     "name": "stdout",
     "output_type": "stream",
     "text": [
      "The average of the extreme values found in the dataframe is 99999999.0\n"
     ]
    }
   ],
   "source": [
    "mean_extreme_values = df[df.current_loan_amount == df.current_loan_amount.max()].current_loan_amount.mean()\n",
    "print(f\"The average of the extreme values found in the dataframe is {mean_extreme_values}\")"
   ]
  },
  {
   "cell_type": "markdown",
   "id": "39c0a4bd",
   "metadata": {},
   "source": [
    "The values off all the extreme values are 99999999.0. This indicates that there are errors in inputting the data. I will need to deal with this later.\n",
    "\n",
    "Next, I will create the bar chart of the loan term."
   ]
  },
  {
   "cell_type": "code",
   "execution_count": 68,
   "id": "6b0109db",
   "metadata": {},
   "outputs": [
    {
     "data": {
      "image/png": "[encoded data removed]",
      "text/plain": [
       "<Figure size 640x480 with 1 Axes>"
      ]
     },
     "metadata": {},
     "output_type": "display_data"
    }
   ],
   "source": [
    "create_bar_chart(df,'term')"
   ]
  },
  {
   "cell_type": "markdown",
   "id": "39b68848",
   "metadata": {},
   "source": [
    "Again, there is a class imbalance problem here. But as this is a feature, I will later do a one-hot-encode for this column.\n",
    "\n",
    "Next, onto the credit score histogram."
   ]
  },
  {
   "cell_type": "code",
   "execution_count": 55,
   "id": "d9858d1c",
   "metadata": {},
   "outputs": [
    {
     "data": {
      "image/png": "[encoded data removed]",
      "text/plain": [
       "<Figure size 640x480 with 1 Axes>"
      ]
     },
     "metadata": {},
     "output_type": "display_data"
    }
   ],
   "source": [
    "create_histogram(df,'credit_score')"
   ]
  },
  {
   "cell_type": "markdown",
   "id": "2f8b5f04",
   "metadata": {},
   "source": [
    "As we can see, there are values that exceed the maximum credit score according to FICO (850). Although there is another method of scoring credit which goes up to 900, I will use FICO as the most common one. I will take a look at the data description where the credit score exceeds 850."
   ]
  },
  {
   "cell_type": "code",
   "execution_count": 34,
   "id": "73ce7319",
   "metadata": {},
   "outputs": [
    {
     "data": {
      "text/plain": [
       "count    5042.000000\n",
       "mean     7109.071797\n",
       "std       306.060537\n",
       "min      5850.000000\n",
       "25%      6950.000000\n",
       "50%      7190.000000\n",
       "75%      7350.000000\n",
       "max      7510.000000\n",
       "Name: credit_score, dtype: float64"
      ]
     },
     "execution_count": 34,
     "metadata": {},
     "output_type": "execute_result"
    }
   ],
   "source": [
    "df[df.credit_score>850].credit_score.describe()"
   ]
  },
  {
   "cell_type": "markdown",
   "id": "8b51149e",
   "metadata": {},
   "source": [
    "The minimum value is 5850 and the maximum value is 7510. Again, this has to be beacuse of errors in inputting the data. I will divide this score by 10, assuming that the errors happened because of inputting an extra 0 in each row.\n",
    "\n",
    "Next, I will take a look at the distribution of years in current job."
   ]
  },
  {
   "cell_type": "code",
   "execution_count": 69,
   "id": "260d3c8b",
   "metadata": {},
   "outputs": [
    {
     "data": {
      "image/png": "[encoded data removed]",
      "text/plain": [
       "<Figure size 640x480 with 1 Axes>"
      ]
     },
     "metadata": {},
     "output_type": "display_data"
    }
   ],
   "source": [
    "create_bar_chart(df,'years_in_current_job', rotation=45)"
   ]
  },
  {
   "cell_type": "markdown",
   "id": "7b560fd8",
   "metadata": {},
   "source": [
    "Most of the people applying for loan have work 10+ years in their respective companies. The data type is string, because there are special characters and the word 'year(s)'. I will map this into numbers, but treat it as categorical data. \n",
    "\n",
    "Next, I will look at the distribution of home ownership."
   ]
  },
  {
   "cell_type": "code",
   "execution_count": 70,
   "id": "26ba6001",
   "metadata": {},
   "outputs": [
    {
     "data": {
      "image/png": "[encoded data removed]",
      "text/plain": [
       "<Figure size 640x480 with 1 Axes>"
      ]
     },
     "metadata": {},
     "output_type": "display_data"
    }
   ],
   "source": [
    "create_bar_chart(df,'home_ownership', rotation=45)"
   ]
  },
  {
   "cell_type": "markdown",
   "id": "8d1aa54c",
   "metadata": {},
   "source": [
    "I think the values \"Home Mortgage\" and \"HaveMortgage\" is the same. I will have to change it accordingly in the data cleaning phase.\n",
    "\n",
    "Next, I will examine the distribution of annual income."
   ]
  },
  {
   "cell_type": "code",
   "execution_count": 58,
   "id": "c5594da8",
   "metadata": {},
   "outputs": [
    {
     "data": {
      "image/png": "[encoded data removed]",
      "text/plain": [
       "<Figure size 640x480 with 1 Axes>"
      ]
     },
     "metadata": {},
     "output_type": "display_data"
    }
   ],
   "source": [
    "create_histogram(df,'annual_income')"
   ]
  },
  {
   "cell_type": "markdown",
   "id": "8d654cbf",
   "metadata": {},
   "source": [
    "There seems to be extreme values in the data. I will check whether it's an error or not."
   ]
  },
  {
   "cell_type": "code",
   "execution_count": 59,
   "id": "85e53cd7",
   "metadata": {},
   "outputs": [
    {
     "data": {
      "text/html": [
       "<div>\n",
       "<style scoped>\n",
       "    .dataframe tbody tr th:only-of-type {\n",
       "        vertical-align: middle;\n",
       "    }\n",
       "\n",
       "    .dataframe tbody tr th {\n",
       "        vertical-align: top;\n",
       "    }\n",
       "\n",
       "    .dataframe thead th {\n",
       "        text-align: right;\n",
       "    }\n",
       "</style>\n",
       "<table border=\"1\" class=\"dataframe\">\n",
       "  <thead>\n",
       "    <tr style=\"text-align: right;\">\n",
       "      <th></th>\n",
       "      <th>loan_id</th>\n",
       "      <th>customer_id</th>\n",
       "      <th>loan_status</th>\n",
       "      <th>current_loan_amount</th>\n",
       "      <th>term</th>\n",
       "      <th>credit_score</th>\n",
       "      <th>years_in_current_job</th>\n",
       "      <th>home_ownership</th>\n",
       "      <th>annual_income</th>\n",
       "      <th>purpose</th>\n",
       "      <th>monthly_debt</th>\n",
       "      <th>years_of_credit_history</th>\n",
       "      <th>months_since_last_delinquent</th>\n",
       "      <th>number_of_open_accounts</th>\n",
       "      <th>number_of_credit_problems</th>\n",
       "      <th>current_credit_balance</th>\n",
       "      <th>maximum_open_credit</th>\n",
       "      <th>bankruptcies</th>\n",
       "      <th>tax_liens</th>\n",
       "    </tr>\n",
       "  </thead>\n",
       "  <tbody>\n",
       "    <tr>\n",
       "      <th>3669</th>\n",
       "      <td>6dfd2f9c-b796-4cb3-8f71-04d6ae8a8f92</td>\n",
       "      <td>ceee183a-9b02-4b82-ae53-14ccd5f785fd</td>\n",
       "      <td>Loan Refused</td>\n",
       "      <td>8006</td>\n",
       "      <td>Short Term</td>\n",
       "      <td>7250.0</td>\n",
       "      <td>10+ years</td>\n",
       "      <td>Home Mortgage</td>\n",
       "      <td>8713547.0</td>\n",
       "      <td>Debt Consolidation</td>\n",
       "      <td>798.74</td>\n",
       "      <td>16.0</td>\n",
       "      <td>NaN</td>\n",
       "      <td>11</td>\n",
       "      <td>0</td>\n",
       "      <td>16462</td>\n",
       "      <td>30429</td>\n",
       "      <td>0.0</td>\n",
       "      <td>0.0</td>\n",
       "    </tr>\n",
       "  </tbody>\n",
       "</table>\n",
       "</div>"
      ],
      "text/plain": [
       "                                   loan_id  \\\n",
       "3669  6dfd2f9c-b796-4cb3-8f71-04d6ae8a8f92   \n",
       "\n",
       "                               customer_id   loan_status  current_loan_amount  \\\n",
       "3669  ceee183a-9b02-4b82-ae53-14ccd5f785fd  Loan Refused                 8006   \n",
       "\n",
       "            term  credit_score years_in_current_job home_ownership  \\\n",
       "3669  Short Term        7250.0            10+ years  Home Mortgage   \n",
       "\n",
       "      annual_income             purpose monthly_debt  years_of_credit_history  \\\n",
       "3669      8713547.0  Debt Consolidation       798.74                     16.0   \n",
       "\n",
       "      months_since_last_delinquent  number_of_open_accounts  \\\n",
       "3669                           NaN                       11   \n",
       "\n",
       "      number_of_credit_problems  current_credit_balance maximum_open_credit  \\\n",
       "3669                          0                   16462               30429   \n",
       "\n",
       "      bankruptcies  tax_liens  \n",
       "3669           0.0        0.0  "
      ]
     },
     "execution_count": 59,
     "metadata": {},
     "output_type": "execute_result"
    }
   ],
   "source": [
    "df[df.annual_income == df.annual_income.max()]"
   ]
  },
  {
   "cell_type": "markdown",
   "id": "0e5f0b56",
   "metadata": {},
   "source": [
    "I'm not really sure whether this is an error or not. I would say it's possible for someone to have an annual income of USD 8M+ (assuming that the annual income is in USD). And since the purpose of the loan is debt consolidation, it's probable that this person uses debt to finance the business. Therefore, I will not change it and assume that this data is correct."
   ]
  },
  {
   "cell_type": "code",
   "execution_count": 71,
   "id": "c6c1b4be",
   "metadata": {},
   "outputs": [
    {
     "data": {
      "image/png": "[encoded data removed]",
      "text/plain": [
       "<Figure size 640x480 with 1 Axes>"
      ]
     },
     "metadata": {},
     "output_type": "display_data"
    }
   ],
   "source": [
    "create_bar_chart(df,'purpose', rotation=90)"
   ]
  },
  {
   "cell_type": "markdown",
   "id": "a853e6c5",
   "metadata": {},
   "source": [
    "The majority of people applied for loans with the purpose of debt consolidation. One thing to note here, the data is written using 2 styles: Title and Snake Case. I will convert all the values in columns with string values into snake case, especially for the ones I need to do one-hot-encoding. \n",
    "\n",
    "Before moving on the the monthly_debt, I need to check why the column has object values instead of float (as I mentioned before)."
   ]
  },
  {
   "cell_type": "code",
   "execution_count": 81,
   "id": "e382e017",
   "metadata": {},
   "outputs": [
    {
     "name": "stdout",
     "output_type": "stream",
     "text": [
      "$1051.41\n",
      "$157.15\n",
      "$944.7\n",
      "$481.34\n",
      "$1838.98\n",
      "$471.6\n"
     ]
    }
   ],
   "source": [
    "data_list = df.monthly_debt.tolist()\n",
    "data_list_numeric = pd.to_numeric(data_list, errors='coerce')\n",
    "non_numeric_indices = [index for index, item in enumerate(data_list_numeric) if pd.isna(item)]\n",
    "for idx in non_numeric_indices:\n",
    "    print(data_list[idx])"
   ]
  },
  {
   "cell_type": "markdown",
   "id": "75cb120e",
   "metadata": {},
   "source": [
    "Apparently, the monthly_debt column has a dollar symbol on some of the values. Before proceeding to build the histogram, I need to fix this and change the datatype into float."
   ]
  },
  {
   "cell_type": "code",
   "execution_count": 107,
   "id": "46b37a66",
   "metadata": {},
   "outputs": [],
   "source": [
    "data_float = []\n",
    "for i in data_list:\n",
    "    try:\n",
    "        flt_data = float(i)\n",
    "    except:\n",
    "        flt_data = float(i.strip().replace('$',''))\n",
    "    data_float.append(flt_data)"
   ]
  },
  {
   "cell_type": "code",
   "execution_count": 116,
   "id": "d07b38b7",
   "metadata": {},
   "outputs": [
    {
     "name": "stdout",
     "output_type": "stream",
     "text": [
      "There are 0 non-numeric data\n"
     ]
    }
   ],
   "source": [
    "data_list_numeric = pd.to_numeric(data_float, errors='coerce')\n",
    "non_numeric_indices = [index for index, item in enumerate(data_float) if pd.isna(item)]\n",
    "print(f\"There are {len(non_numeric_indices)} non-numeric data\")"
   ]
  },
  {
   "cell_type": "code",
   "execution_count": 113,
   "id": "e0e84d6f",
   "metadata": {},
   "outputs": [],
   "source": [
    "df['monthly_debt'] = data_float"
   ]
  },
  {
   "cell_type": "code",
   "execution_count": 114,
   "id": "f55731e8",
   "metadata": {},
   "outputs": [
    {
     "name": "stdout",
     "output_type": "stream",
     "text": [
      "<class 'pandas.core.frame.DataFrame'>\n",
      "RangeIndex: 111105 entries, 0 to 111104\n",
      "Data columns (total 19 columns):\n",
      " #   Column                        Non-Null Count   Dtype  \n",
      "---  ------                        --------------   -----  \n",
      " 0   loan_id                       111105 non-null  object \n",
      " 1   customer_id                   111105 non-null  object \n",
      " 2   loan_status                   111105 non-null  object \n",
      " 3   current_loan_amount           111105 non-null  int64  \n",
      " 4   term                          111105 non-null  object \n",
      " 5   credit_score                  89767 non-null   float64\n",
      " 6   years_in_current_job          106412 non-null  object \n",
      " 7   home_ownership                111105 non-null  object \n",
      " 8   annual_income                 89767 non-null   float64\n",
      " 9   purpose                       111105 non-null  object \n",
      " 10  monthly_debt                  111105 non-null  float64\n",
      " 11  years_of_credit_history       111105 non-null  float64\n",
      " 12  months_since_last_delinquent  52102 non-null   float64\n",
      " 13  number_of_open_accounts       111105 non-null  int64  \n",
      " 14  number_of_credit_problems     111105 non-null  int64  \n",
      " 15  current_credit_balance        111105 non-null  int64  \n",
      " 16  maximum_open_credit           111105 non-null  object \n",
      " 17  bankruptcies                  110877 non-null  float64\n",
      " 18  tax_liens                     111094 non-null  float64\n",
      "dtypes: float64(7), int64(4), object(8)\n",
      "memory usage: 16.1+ MB\n"
     ]
    }
   ],
   "source": [
    "df.info()"
   ]
  },
  {
   "cell_type": "markdown",
   "id": "9060be69",
   "metadata": {},
   "source": [
    "Now, the monthly_debt has the correct datatype. I will plot the histogram."
   ]
  },
  {
   "cell_type": "code",
   "execution_count": 117,
   "id": "52a1df37",
   "metadata": {},
   "outputs": [
    {
     "data": {
      "image/png": "[encoded data removed]",
      "text/plain": [
       "<Figure size 640x480 with 1 Axes>"
      ]
     },
     "metadata": {},
     "output_type": "display_data"
    }
   ],
   "source": [
    "create_histogram(df,'monthly_debt')"
   ]
  },
  {
   "cell_type": "markdown",
   "id": "37e8c301",
   "metadata": {},
   "source": [
    "There seems to be extreme values as well in this data. Let's check the data description of people with monthly debt larger than the 75% quantile."
   ]
  },
  {
   "cell_type": "code",
   "execution_count": 123,
   "id": "151b9402",
   "metadata": {},
   "outputs": [
    {
     "data": {
      "text/plain": [
       "count    27775.000000\n",
       "mean      1821.517244\n",
       "std        625.113477\n",
       "min       1262.720000\n",
       "25%       1416.895000\n",
       "50%       1636.520000\n",
       "75%       2011.140000\n",
       "max      22939.120000\n",
       "Name: monthly_debt, dtype: float64"
      ]
     },
     "execution_count": 123,
     "metadata": {},
     "output_type": "execute_result"
    }
   ],
   "source": [
    "df[df.monthly_debt > df.monthly_debt.describe()['75%']].monthly_debt.describe()"
   ]
  },
  {
   "cell_type": "markdown",
   "id": "9352f016",
   "metadata": {},
   "source": [
    "The extreme values are still present. Let's check whether it's still present if the monthly debt is larger than 10000."
   ]
  },
  {
   "cell_type": "code",
   "execution_count": 125,
   "id": "89062902",
   "metadata": {},
   "outputs": [
    {
     "data": {
      "text/plain": [
       "4010     10831.65\n",
       "18580    12055.68\n",
       "79752    22939.12\n",
       "89940    12055.68\n",
       "Name: monthly_debt, dtype: float64"
      ]
     },
     "execution_count": 125,
     "metadata": {},
     "output_type": "execute_result"
    }
   ],
   "source": [
    "df[df.monthly_debt >10000].monthly_debt"
   ]
  },
  {
   "cell_type": "markdown",
   "id": "e13207c4",
   "metadata": {},
   "source": [
    "Apparently, the extreme values are just present without errors. It's possible that some people have high monthly debt to be paid. Therefore, I won't do anything to this column as well."
   ]
  },
  {
   "cell_type": "code",
   "execution_count": 134,
   "id": "373ebc22",
   "metadata": {},
   "outputs": [
    {
     "data": {
      "text/html": [
       "<div>\n",
       "<style scoped>\n",
       "    .dataframe tbody tr th:only-of-type {\n",
       "        vertical-align: middle;\n",
       "    }\n",
       "\n",
       "    .dataframe tbody tr th {\n",
       "        vertical-align: top;\n",
       "    }\n",
       "\n",
       "    .dataframe thead th {\n",
       "        text-align: right;\n",
       "    }\n",
       "</style>\n",
       "<table border=\"1\" class=\"dataframe\">\n",
       "  <thead>\n",
       "    <tr style=\"text-align: right;\">\n",
       "      <th></th>\n",
       "      <th>loan_id</th>\n",
       "      <th>customer_id</th>\n",
       "      <th>loan_status</th>\n",
       "      <th>current_loan_amount</th>\n",
       "      <th>term</th>\n",
       "      <th>credit_score</th>\n",
       "      <th>years_in_current_job</th>\n",
       "      <th>home_ownership</th>\n",
       "      <th>annual_income</th>\n",
       "      <th>purpose</th>\n",
       "      <th>monthly_debt</th>\n",
       "      <th>years_of_credit_history</th>\n",
       "      <th>months_since_last_delinquent</th>\n",
       "      <th>number_of_open_accounts</th>\n",
       "      <th>number_of_credit_problems</th>\n",
       "      <th>current_credit_balance</th>\n",
       "      <th>maximum_open_credit</th>\n",
       "      <th>bankruptcies</th>\n",
       "      <th>tax_liens</th>\n",
       "    </tr>\n",
       "  </thead>\n",
       "  <tbody>\n",
       "    <tr>\n",
       "      <th>0</th>\n",
       "      <td>6cf51492-02a2-423e-b93d-676f05b9ad53</td>\n",
       "      <td>7c202b37-2add-44e8-9aea-d5b119aea935</td>\n",
       "      <td>Loan Refused</td>\n",
       "      <td>12232</td>\n",
       "      <td>Short Term</td>\n",
       "      <td>7280.0</td>\n",
       "      <td>&lt; 1 year</td>\n",
       "      <td>Rent</td>\n",
       "      <td>46643.0</td>\n",
       "      <td>Debt Consolidation</td>\n",
       "      <td>777.39</td>\n",
       "      <td>18.0</td>\n",
       "      <td>10.0</td>\n",
       "      <td>12</td>\n",
       "      <td>0</td>\n",
       "      <td>6762</td>\n",
       "      <td>7946</td>\n",
       "      <td>0.0</td>\n",
       "      <td>0.0</td>\n",
       "    </tr>\n",
       "    <tr>\n",
       "      <th>1</th>\n",
       "      <td>552e7ade-4292-4354-9ff9-c48031697d72</td>\n",
       "      <td>e7217b0a-07ac-47dd-b379-577b5a35b7c6</td>\n",
       "      <td>Loan Refused</td>\n",
       "      <td>25014</td>\n",
       "      <td>Long Term</td>\n",
       "      <td>7330.0</td>\n",
       "      <td>10+ years</td>\n",
       "      <td>Home Mortgage</td>\n",
       "      <td>81099.0</td>\n",
       "      <td>Debt Consolidation</td>\n",
       "      <td>892.09</td>\n",
       "      <td>26.7</td>\n",
       "      <td>NaN</td>\n",
       "      <td>14</td>\n",
       "      <td>0</td>\n",
       "      <td>35706</td>\n",
       "      <td>77961</td>\n",
       "      <td>0.0</td>\n",
       "      <td>0.0</td>\n",
       "    </tr>\n",
       "    <tr>\n",
       "      <th>2</th>\n",
       "      <td>9b5e32b3-8d76-4801-afc8-d729d5a2e6b9</td>\n",
       "      <td>0a62fc41-16c8-40b5-92ff-9e4b763ce714</td>\n",
       "      <td>Loan Refused</td>\n",
       "      <td>16117</td>\n",
       "      <td>Short Term</td>\n",
       "      <td>7240.0</td>\n",
       "      <td>9 years</td>\n",
       "      <td>Home Mortgage</td>\n",
       "      <td>60438.0</td>\n",
       "      <td>Home Improvements</td>\n",
       "      <td>1244.02</td>\n",
       "      <td>16.7</td>\n",
       "      <td>32.0</td>\n",
       "      <td>11</td>\n",
       "      <td>1</td>\n",
       "      <td>11275</td>\n",
       "      <td>14815</td>\n",
       "      <td>1.0</td>\n",
       "      <td>0.0</td>\n",
       "    </tr>\n",
       "    <tr>\n",
       "      <th>3</th>\n",
       "      <td>5419b7c7-ac11-4be2-a8a7-b131fb6d6dbe</td>\n",
       "      <td>30f36c59-5182-4482-8bbb-5b736849ae43</td>\n",
       "      <td>Loan Refused</td>\n",
       "      <td>11716</td>\n",
       "      <td>Short Term</td>\n",
       "      <td>7400.0</td>\n",
       "      <td>3 years</td>\n",
       "      <td>Rent</td>\n",
       "      <td>34171.0</td>\n",
       "      <td>Debt Consolidation</td>\n",
       "      <td>990.94</td>\n",
       "      <td>10.0</td>\n",
       "      <td>NaN</td>\n",
       "      <td>21</td>\n",
       "      <td>0</td>\n",
       "      <td>7009</td>\n",
       "      <td>43533</td>\n",
       "      <td>0.0</td>\n",
       "      <td>0.0</td>\n",
       "    </tr>\n",
       "    <tr>\n",
       "      <th>4</th>\n",
       "      <td>1450910f-9495-4fc9-afaf-9bdf4b9821df</td>\n",
       "      <td>70c26012-bba5-42c0-8dcb-75295ada31bb</td>\n",
       "      <td>Loan Refused</td>\n",
       "      <td>9789</td>\n",
       "      <td>Long Term</td>\n",
       "      <td>6860.0</td>\n",
       "      <td>10+ years</td>\n",
       "      <td>Home Mortgage</td>\n",
       "      <td>47003.0</td>\n",
       "      <td>Home Improvements</td>\n",
       "      <td>503.71</td>\n",
       "      <td>16.7</td>\n",
       "      <td>25.0</td>\n",
       "      <td>13</td>\n",
       "      <td>1</td>\n",
       "      <td>16913</td>\n",
       "      <td>19553</td>\n",
       "      <td>1.0</td>\n",
       "      <td>0.0</td>\n",
       "    </tr>\n",
       "  </tbody>\n",
       "</table>\n",
       "</div>"
      ],
      "text/plain": [
       "                                loan_id                           customer_id  \\\n",
       "0  6cf51492-02a2-423e-b93d-676f05b9ad53  7c202b37-2add-44e8-9aea-d5b119aea935   \n",
       "1  552e7ade-4292-4354-9ff9-c48031697d72  e7217b0a-07ac-47dd-b379-577b5a35b7c6   \n",
       "2  9b5e32b3-8d76-4801-afc8-d729d5a2e6b9  0a62fc41-16c8-40b5-92ff-9e4b763ce714   \n",
       "3  5419b7c7-ac11-4be2-a8a7-b131fb6d6dbe  30f36c59-5182-4482-8bbb-5b736849ae43   \n",
       "4  1450910f-9495-4fc9-afaf-9bdf4b9821df  70c26012-bba5-42c0-8dcb-75295ada31bb   \n",
       "\n",
       "    loan_status  current_loan_amount        term  credit_score  \\\n",
       "0  Loan Refused                12232  Short Term        7280.0   \n",
       "1  Loan Refused                25014   Long Term        7330.0   \n",
       "2  Loan Refused                16117  Short Term        7240.0   \n",
       "3  Loan Refused                11716  Short Term        7400.0   \n",
       "4  Loan Refused                 9789   Long Term        6860.0   \n",
       "\n",
       "  years_in_current_job home_ownership  annual_income             purpose  \\\n",
       "0             < 1 year           Rent        46643.0  Debt Consolidation   \n",
       "1            10+ years  Home Mortgage        81099.0  Debt Consolidation   \n",
       "2              9 years  Home Mortgage        60438.0   Home Improvements   \n",
       "3              3 years           Rent        34171.0  Debt Consolidation   \n",
       "4            10+ years  Home Mortgage        47003.0   Home Improvements   \n",
       "\n",
       "  monthly_debt  years_of_credit_history  months_since_last_delinquent  \\\n",
       "0       777.39                     18.0                          10.0   \n",
       "1       892.09                     26.7                           NaN   \n",
       "2      1244.02                     16.7                          32.0   \n",
       "3       990.94                     10.0                           NaN   \n",
       "4       503.71                     16.7                          25.0   \n",
       "\n",
       "   number_of_open_accounts  number_of_credit_problems  current_credit_balance  \\\n",
       "0                       12                          0                    6762   \n",
       "1                       14                          0                   35706   \n",
       "2                       11                          1                   11275   \n",
       "3                       21                          0                    7009   \n",
       "4                       13                          1                   16913   \n",
       "\n",
       "  maximum_open_credit  bankruptcies  tax_liens  \n",
       "0                7946           0.0        0.0  \n",
       "1               77961           0.0        0.0  \n",
       "2               14815           1.0        0.0  \n",
       "3               43533           0.0        0.0  \n",
       "4               19553           1.0        0.0  "
      ]
     },
     "execution_count": 134,
     "metadata": {},
     "output_type": "execute_result"
    }
   ],
   "source": [
    "df.head()"
   ]
  },
  {
   "cell_type": "code",
   "execution_count": 135,
   "id": "0bf30412",
   "metadata": {},
   "outputs": [
    {
     "data": {
      "image/png": "[encoded data removed]",
      "text/plain": [
       "<Figure size 640x480 with 1 Axes>"
      ]
     },
     "metadata": {},
     "output_type": "display_data"
    }
   ],
   "source": [
    "create_histogram(df,'years_of_credit_history')"
   ]
  },
  {
   "cell_type": "markdown",
   "id": "249b58d9",
   "metadata": {},
   "source": [
    "The distribution is skewed to the right. The number of people with 10 to about 18 years in credit history is the most compared to the other bins."
   ]
  },
  {
   "cell_type": "code",
   "execution_count": 137,
   "id": "b604d25a",
   "metadata": {},
   "outputs": [
    {
     "data": {
      "image/png": "[encoded data removed]",
      "text/plain": [
       "<Figure size 640x480 with 1 Axes>"
      ]
     },
     "metadata": {},
     "output_type": "display_data"
    }
   ],
   "source": [
    "create_histogram(df,'months_since_last_delinquent')"
   ]
  },
  {
   "cell_type": "code",
   "execution_count": 138,
   "id": "5acfff56",
   "metadata": {},
   "outputs": [
    {
     "data": {
      "text/html": [
       "<div>\n",
       "<style scoped>\n",
       "    .dataframe tbody tr th:only-of-type {\n",
       "        vertical-align: middle;\n",
       "    }\n",
       "\n",
       "    .dataframe tbody tr th {\n",
       "        vertical-align: top;\n",
       "    }\n",
       "\n",
       "    .dataframe thead th {\n",
       "        text-align: right;\n",
       "    }\n",
       "</style>\n",
       "<table border=\"1\" class=\"dataframe\">\n",
       "  <thead>\n",
       "    <tr style=\"text-align: right;\">\n",
       "      <th></th>\n",
       "      <th>loan_id</th>\n",
       "      <th>customer_id</th>\n",
       "      <th>loan_status</th>\n",
       "      <th>current_loan_amount</th>\n",
       "      <th>term</th>\n",
       "      <th>credit_score</th>\n",
       "      <th>years_in_current_job</th>\n",
       "      <th>home_ownership</th>\n",
       "      <th>annual_income</th>\n",
       "      <th>purpose</th>\n",
       "      <th>monthly_debt</th>\n",
       "      <th>years_of_credit_history</th>\n",
       "      <th>months_since_last_delinquent</th>\n",
       "      <th>number_of_open_accounts</th>\n",
       "      <th>number_of_credit_problems</th>\n",
       "      <th>current_credit_balance</th>\n",
       "      <th>maximum_open_credit</th>\n",
       "      <th>bankruptcies</th>\n",
       "      <th>tax_liens</th>\n",
       "    </tr>\n",
       "  </thead>\n",
       "  <tbody>\n",
       "    <tr>\n",
       "      <th>0</th>\n",
       "      <td>6cf51492-02a2-423e-b93d-676f05b9ad53</td>\n",
       "      <td>7c202b37-2add-44e8-9aea-d5b119aea935</td>\n",
       "      <td>Loan Refused</td>\n",
       "      <td>12232</td>\n",
       "      <td>Short Term</td>\n",
       "      <td>7280.0</td>\n",
       "      <td>&lt; 1 year</td>\n",
       "      <td>Rent</td>\n",
       "      <td>46643.0</td>\n",
       "      <td>Debt Consolidation</td>\n",
       "      <td>777.39</td>\n",
       "      <td>18.0</td>\n",
       "      <td>10.0</td>\n",
       "      <td>12</td>\n",
       "      <td>0</td>\n",
       "      <td>6762</td>\n",
       "      <td>7946</td>\n",
       "      <td>0.0</td>\n",
       "      <td>0.0</td>\n",
       "    </tr>\n",
       "    <tr>\n",
       "      <th>1</th>\n",
       "      <td>552e7ade-4292-4354-9ff9-c48031697d72</td>\n",
       "      <td>e7217b0a-07ac-47dd-b379-577b5a35b7c6</td>\n",
       "      <td>Loan Refused</td>\n",
       "      <td>25014</td>\n",
       "      <td>Long Term</td>\n",
       "      <td>7330.0</td>\n",
       "      <td>10+ years</td>\n",
       "      <td>Home Mortgage</td>\n",
       "      <td>81099.0</td>\n",
       "      <td>Debt Consolidation</td>\n",
       "      <td>892.09</td>\n",
       "      <td>26.7</td>\n",
       "      <td>NaN</td>\n",
       "      <td>14</td>\n",
       "      <td>0</td>\n",
       "      <td>35706</td>\n",
       "      <td>77961</td>\n",
       "      <td>0.0</td>\n",
       "      <td>0.0</td>\n",
       "    </tr>\n",
       "    <tr>\n",
       "      <th>2</th>\n",
       "      <td>9b5e32b3-8d76-4801-afc8-d729d5a2e6b9</td>\n",
       "      <td>0a62fc41-16c8-40b5-92ff-9e4b763ce714</td>\n",
       "      <td>Loan Refused</td>\n",
       "      <td>16117</td>\n",
       "      <td>Short Term</td>\n",
       "      <td>7240.0</td>\n",
       "      <td>9 years</td>\n",
       "      <td>Home Mortgage</td>\n",
       "      <td>60438.0</td>\n",
       "      <td>Home Improvements</td>\n",
       "      <td>1244.02</td>\n",
       "      <td>16.7</td>\n",
       "      <td>32.0</td>\n",
       "      <td>11</td>\n",
       "      <td>1</td>\n",
       "      <td>11275</td>\n",
       "      <td>14815</td>\n",
       "      <td>1.0</td>\n",
       "      <td>0.0</td>\n",
       "    </tr>\n",
       "    <tr>\n",
       "      <th>3</th>\n",
       "      <td>5419b7c7-ac11-4be2-a8a7-b131fb6d6dbe</td>\n",
       "      <td>30f36c59-5182-4482-8bbb-5b736849ae43</td>\n",
       "      <td>Loan Refused</td>\n",
       "      <td>11716</td>\n",
       "      <td>Short Term</td>\n",
       "      <td>7400.0</td>\n",
       "      <td>3 years</td>\n",
       "      <td>Rent</td>\n",
       "      <td>34171.0</td>\n",
       "      <td>Debt Consolidation</td>\n",
       "      <td>990.94</td>\n",
       "      <td>10.0</td>\n",
       "      <td>NaN</td>\n",
       "      <td>21</td>\n",
       "      <td>0</td>\n",
       "      <td>7009</td>\n",
       "      <td>43533</td>\n",
       "      <td>0.0</td>\n",
       "      <td>0.0</td>\n",
       "    </tr>\n",
       "    <tr>\n",
       "      <th>4</th>\n",
       "      <td>1450910f-9495-4fc9-afaf-9bdf4b9821df</td>\n",
       "      <td>70c26012-bba5-42c0-8dcb-75295ada31bb</td>\n",
       "      <td>Loan Refused</td>\n",
       "      <td>9789</td>\n",
       "      <td>Long Term</td>\n",
       "      <td>6860.0</td>\n",
       "      <td>10+ years</td>\n",
       "      <td>Home Mortgage</td>\n",
       "      <td>47003.0</td>\n",
       "      <td>Home Improvements</td>\n",
       "      <td>503.71</td>\n",
       "      <td>16.7</td>\n",
       "      <td>25.0</td>\n",
       "      <td>13</td>\n",
       "      <td>1</td>\n",
       "      <td>16913</td>\n",
       "      <td>19553</td>\n",
       "      <td>1.0</td>\n",
       "      <td>0.0</td>\n",
       "    </tr>\n",
       "  </tbody>\n",
       "</table>\n",
       "</div>"
      ],
      "text/plain": [
       "                                loan_id                           customer_id  \\\n",
       "0  6cf51492-02a2-423e-b93d-676f05b9ad53  7c202b37-2add-44e8-9aea-d5b119aea935   \n",
       "1  552e7ade-4292-4354-9ff9-c48031697d72  e7217b0a-07ac-47dd-b379-577b5a35b7c6   \n",
       "2  9b5e32b3-8d76-4801-afc8-d729d5a2e6b9  0a62fc41-16c8-40b5-92ff-9e4b763ce714   \n",
       "3  5419b7c7-ac11-4be2-a8a7-b131fb6d6dbe  30f36c59-5182-4482-8bbb-5b736849ae43   \n",
       "4  1450910f-9495-4fc9-afaf-9bdf4b9821df  70c26012-bba5-42c0-8dcb-75295ada31bb   \n",
       "\n",
       "    loan_status  current_loan_amount        term  credit_score  \\\n",
       "0  Loan Refused                12232  Short Term        7280.0   \n",
       "1  Loan Refused                25014   Long Term        7330.0   \n",
       "2  Loan Refused                16117  Short Term        7240.0   \n",
       "3  Loan Refused                11716  Short Term        7400.0   \n",
       "4  Loan Refused                 9789   Long Term        6860.0   \n",
       "\n",
       "  years_in_current_job home_ownership  annual_income             purpose  \\\n",
       "0             < 1 year           Rent        46643.0  Debt Consolidation   \n",
       "1            10+ years  Home Mortgage        81099.0  Debt Consolidation   \n",
       "2              9 years  Home Mortgage        60438.0   Home Improvements   \n",
       "3              3 years           Rent        34171.0  Debt Consolidation   \n",
       "4            10+ years  Home Mortgage        47003.0   Home Improvements   \n",
       "\n",
       "  monthly_debt  years_of_credit_history  months_since_last_delinquent  \\\n",
       "0       777.39                     18.0                          10.0   \n",
       "1       892.09                     26.7                           NaN   \n",
       "2      1244.02                     16.7                          32.0   \n",
       "3       990.94                     10.0                           NaN   \n",
       "4       503.71                     16.7                          25.0   \n",
       "\n",
       "   number_of_open_accounts  number_of_credit_problems  current_credit_balance  \\\n",
       "0                       12                          0                    6762   \n",
       "1                       14                          0                   35706   \n",
       "2                       11                          1                   11275   \n",
       "3                       21                          0                    7009   \n",
       "4                       13                          1                   16913   \n",
       "\n",
       "  maximum_open_credit  bankruptcies  tax_liens  \n",
       "0                7946           0.0        0.0  \n",
       "1               77961           0.0        0.0  \n",
       "2               14815           1.0        0.0  \n",
       "3               43533           0.0        0.0  \n",
       "4               19553           1.0        0.0  "
      ]
     },
     "execution_count": 138,
     "metadata": {},
     "output_type": "execute_result"
    }
   ],
   "source": [
    "df.head()"
   ]
  },
  {
   "cell_type": "code",
   "execution_count": 139,
   "id": "7a88827e",
   "metadata": {},
   "outputs": [
    {
     "data": {
      "text/plain": [
       "bankruptcies\n",
       "0.0    98648\n",
       "1.0    11613\n",
       "2.0      468\n",
       "3.0      110\n",
       "4.0       27\n",
       "5.0        8\n",
       "6.0        2\n",
       "7.0        1\n",
       "Name: count, dtype: int64"
      ]
     },
     "execution_count": 139,
     "metadata": {},
     "output_type": "execute_result"
    }
   ],
   "source": [
    "df.bankruptcies.value_counts()"
   ]
  },
  {
   "cell_type": "markdown",
   "id": "17d822fd",
   "metadata": {},
   "source": [
    "## Examining duplicates"
   ]
  },
  {
   "cell_type": "markdown",
   "id": "f3b5ab5c",
   "metadata": {},
   "source": [
    "The crucial columns that cannot have duplicates is Loan ID. If it has duplicates, it indicates double input because ID needs to be unique. Furthermore, for every Loan ID, there can only be one customer. If there are 2 or more customers with the same Loan ID, it indicates that there are errors in inputting the data. These needs to be dropped. \n",
    "\n",
    "Before examining the duplicates, I will convert the column names into snake case to make it easier to call later."
   ]
  },
  {
   "cell_type": "code",
   "execution_count": null,
   "id": "3543ea2c",
   "metadata": {},
   "outputs": [],
   "source": [
    "def clean_columns(column_list):\n",
    "    all_cols = column_list\n",
    "    \n",
    "    modified_list = []\n",
    "\n",
    "    for item in all_cols:\n",
    "        item = str(item).lower()\n",
    "        modified_item = re.sub(r'[^a-zA-Z0-9]', '_', item)\n",
    "        modified_list.append(modified_item)\n",
    "    \n",
    "    final_list = []\n",
    "    \n",
    "    for i in modified_list:\n",
    "        cleaned_column_name = re.sub(r'_+', '_', i)\n",
    "        final_list.append(cleaned_column_name)\n",
    "    \n",
    "    final_list = [col.strip('_') for col in final_list]\n",
    "        \n",
    "    return final_list"
   ]
  },
  {
   "cell_type": "code",
   "execution_count": null,
   "id": "8c714b02",
   "metadata": {},
   "outputs": [],
   "source": [
    "df.columns = clean_columns(df.columns.tolist())"
   ]
  },
  {
   "cell_type": "code",
   "execution_count": null,
   "id": "de507d29",
   "metadata": {},
   "outputs": [],
   "source": [
    "df.head()"
   ]
  },
  {
   "cell_type": "code",
   "execution_count": null,
   "id": "b18dc5b3",
   "metadata": {},
   "outputs": [],
   "source": [
    "duplicate_rows = df[df.duplicated(subset=['loan_id'], keep=False)]\n",
    "duplicate_rows_sorted = duplicate_rows.sort_values(by='loan_id')"
   ]
  },
  {
   "cell_type": "code",
   "execution_count": null,
   "id": "ce24abda",
   "metadata": {},
   "outputs": [],
   "source": [
    "duplicate_rows_sorted.head(20)"
   ]
  },
  {
   "cell_type": "code",
   "execution_count": null,
   "id": "0005d868",
   "metadata": {},
   "outputs": [],
   "source": [
    "duplicate_rows.shape"
   ]
  },
  {
   "cell_type": "code",
   "execution_count": null,
   "id": "b5ca5b0e",
   "metadata": {},
   "outputs": [],
   "source": [
    "df.shape"
   ]
  },
  {
   "cell_type": "code",
   "execution_count": null,
   "id": "066aba30",
   "metadata": {},
   "outputs": [],
   "source": [
    "#checking whether there are double customer_ids for every loan_id\n",
    "count_different_customer_ids = duplicate_rows_sorted.groupby('loan_id')['customer_id'].nunique()\n",
    "count_different_customer_ids = count_different_customer_ids[count_different_customer_ids > 1]\n",
    "print(f'There are {len(count_different_customer_ids)} duplicated customers for every loan_id')"
   ]
  },
  {
   "cell_type": "markdown",
   "id": "cc9fbd73",
   "metadata": {},
   "source": [
    "There are no duplicated customers for every loan_id. Therefore, I need to just group the loan_id and take the non-null values and non-extreme values. For example, if we see the rows below:"
   ]
  },
  {
   "cell_type": "code",
   "execution_count": null,
   "id": "71536bc1",
   "metadata": {},
   "outputs": [],
   "source": [
    "df[df['loan_id'] == '000ea0cb-8d0e-4284-b8c8-444ffbbe4caf']"
   ]
  },
  {
   "cell_type": "markdown",
   "id": "e6c4c880",
   "metadata": {},
   "source": [
    "the correct current_loan_amount should be 21075 instead of 99999999."
   ]
  },
  {
   "cell_type": "code",
   "execution_count": null,
   "id": "b807f3e9",
   "metadata": {},
   "outputs": [],
   "source": [
    "def handle_value(values):\n",
    "    non_nan_values = [value for value in values if not pd.isna(value)]\n",
    "    if any(isinstance(value, str) for value in non_nan_values):\n",
    "        return non_nan_values[0]  # Return the first non-NaN string value\n",
    "    else:\n",
    "        non_extreme_values = [value for value in non_nan_values if value != 99999999]\n",
    "        return non_extreme_values[0] if non_extreme_values else np.nan"
   ]
  },
  {
   "cell_type": "code",
   "execution_count": null,
   "id": "8d5aeb26",
   "metadata": {},
   "outputs": [],
   "source": [
    "df.columns"
   ]
  },
  {
   "cell_type": "code",
   "execution_count": null,
   "id": "1a9830d9",
   "metadata": {},
   "outputs": [],
   "source": [
    "df_agg = df.groupby('loan_id').agg(handle_value).reset_index()"
   ]
  },
  {
   "cell_type": "code",
   "execution_count": null,
   "id": "004a22a3",
   "metadata": {},
   "outputs": [],
   "source": [
    "df_agg[df_agg['loan_id'].duplicated()]"
   ]
  },
  {
   "cell_type": "markdown",
   "id": "c9d46803",
   "metadata": {},
   "source": [
    "Now that I've handled the duplicated rows, I will perform imputations on each column."
   ]
  },
  {
   "cell_type": "code",
   "execution_count": null,
   "id": "19afa913",
   "metadata": {},
   "outputs": [],
   "source": [
    "df.isnull().sum()"
   ]
  }
 ],
 "metadata": {
  "kernelspec": {
   "display_name": "H2O Loan Prediction",
   "language": "python",
   "name": "h2o_loan_classification"
  },
  "language_info": {
   "codemirror_mode": {
    "name": "ipython",
    "version": 3
   },
   "file_extension": ".py",
   "mimetype": "text/x-python",
   "name": "python",
   "nbconvert_exporter": "python",
   "pygments_lexer": "ipython3",
   "version": "3.11.4"
  }
 },
 "nbformat": 4,
 "nbformat_minor": 5
}
